{
  "cells": [
    {
      "cell_type": "markdown",
      "id": "7gglB0wrlWnY",
      "metadata": {
        "id": "7gglB0wrlWnY"
      },
      "source": [
        "# **AI to classify LinkedIn experiences**\n"
      ]
    },
    {
      "cell_type": "markdown",
      "id": "714c82d1",
      "metadata": {
        "id": "714c82d1"
      },
      "source": [
        "# INDEX\n",
        "- 1.Importing Libraries\n",
        "- 2.Loading & Reading The Dataset\n",
        "- 3.Data Cleaning\n",
        "- 4.Exploratory data analysis (EDA)\n",
        "- 5.Feature Selection and Feature Engineering\n",
        "- 6.Splitting\n",
        "- 7.Modelling\n",
        "- 8.Checking for Overfitting\n",
        "- 9.Predicting result on a given Data"
      ]
    },
    {
      "cell_type": "code",
      "source": [
        "from google.colab import drive\n",
        "drive.mount('/content/drive')"
      ],
      "metadata": {
        "colab": {
          "base_uri": "https://localhost:8080/"
        },
        "id": "laJ6PxszB8CJ",
        "outputId": "f3f2ad93-7633-46bc-9c2b-ba9e64963ca8"
      },
      "id": "laJ6PxszB8CJ",
      "execution_count": 148,
      "outputs": [
        {
          "output_type": "stream",
          "name": "stdout",
          "text": [
            "Drive already mounted at /content/drive; to attempt to forcibly remount, call drive.mount(\"/content/drive\", force_remount=True).\n"
          ]
        }
      ]
    },
    {
      "cell_type": "markdown",
      "id": "n2TCNV_al--P",
      "metadata": {
        "id": "n2TCNV_al--P"
      },
      "source": [
        "# 1. Importing Libraries"
      ]
    },
    {
      "cell_type": "code",
      "execution_count": 149,
      "id": "7b0e4ea6",
      "metadata": {
        "id": "7b0e4ea6"
      },
      "outputs": [],
      "source": [
        "import pandas as pd\n",
        "import pickle\n",
        "import numpy as np\n",
        "import sklearn\n",
        "import nltk\n",
        "import seaborn as sns\n",
        "import matplotlib.pyplot as plt\n",
        "\n",
        "# Importing libraries to check the different accuracy measures for ML Algos\n",
        "from sklearn import metrics\n",
        "from sklearn.metrics import accuracy_score, mean_squared_error, precision_recall_curve\n",
        "from sklearn.model_selection import cross_val_score\n",
        "from sklearn import preprocessing\n",
        "from sklearn.preprocessing import LabelEncoder,MinMaxScaler,binarize\n",
        "\n",
        "# Importing tools to split data and evaluate model performance\n",
        "from sklearn.model_selection import train_test_split, KFold, cross_val_score\n",
        "from sklearn.metrics import f1_score, precision_score, recall_score, precision_recall_curve, fbeta_score, confusion_matrix\n",
        "from sklearn.metrics import roc_auc_score, roc_curve\n",
        "\n",
        "# Importing libraries for removing stop words\n",
        "from nltk.corpus import stopwords\n",
        "from nltk.stem.lancaster import LancasterStemmer\n",
        "\n",
        "# Importing libraries for pre-processing\n",
        "from sklearn import preprocessing\n",
        "from sklearn.feature_selection import SelectFromModel\n",
        "\n",
        "# Importing libraries for creating Bag of Words\n",
        "from sklearn.feature_extraction.text import CountVectorizer\n",
        "\n",
        "# Importing ML Algos\n",
        "from sklearn.linear_model import LogisticRegression\n",
        "from sklearn.neighbors import KNeighborsClassifier\n",
        "from sklearn.ensemble import RandomForestClassifier\n",
        "from sklearn.tree import DecisionTreeClassifier\n",
        "\n",
        "# Importing libraries to check for Overfitting of our Model\n",
        "from sklearn.metrics import mean_absolute_error\n",
        "from sklearn.model_selection import KFold\n",
        "from sklearn.model_selection import cross_val_score"
      ]
    },
    {
      "cell_type": "markdown",
      "id": "XZq8Y6Drmu1i",
      "metadata": {
        "id": "XZq8Y6Drmu1i"
      },
      "source": [
        "# 2. Loading & Reading The Dataset"
      ]
    },
    {
      "cell_type": "code",
      "execution_count": 150,
      "id": "51dee2ae",
      "metadata": {
        "id": "51dee2ae"
      },
      "outputs": [],
      "source": [
        "df=pd.read_pickle(\"/content/drive/MyDrive/Colab Notebooks/dataset.pkl\")"
      ]
    },
    {
      "cell_type": "code",
      "execution_count": 151,
      "id": "54a65842",
      "metadata": {
        "colab": {
          "base_uri": "https://localhost:8080/"
        },
        "id": "54a65842",
        "outputId": "2a785bf7-69c8-434c-8945-827c63370504"
      },
      "outputs": [
        {
          "output_type": "execute_result",
          "data": {
            "text/plain": [
              "(9000, 8)"
            ]
          },
          "metadata": {},
          "execution_count": 151
        }
      ],
      "source": [
        "df.shape"
      ]
    },
    {
      "cell_type": "code",
      "execution_count": 152,
      "id": "e06e7355",
      "metadata": {
        "colab": {
          "base_uri": "https://localhost:8080/"
        },
        "id": "e06e7355",
        "outputId": "6d9d2ea9-3929-43e5-f9e6-e2c1a1e0173d",
        "scrolled": true
      },
      "outputs": [
        {
          "output_type": "stream",
          "name": "stdout",
          "text": [
            "<class 'pandas.core.frame.DataFrame'>\n",
            "Index: 9000 entries, 548398365_0 to 70320782_1\n",
            "Data columns (total 8 columns):\n",
            " #   Column       Non-Null Count  Dtype  \n",
            "---  ------       --------------  -----  \n",
            " 0   companyName  9000 non-null   object \n",
            " 1   companyUrl   8099 non-null   object \n",
            " 2   jobTitle     8999 non-null   object \n",
            " 3   dateRange    8990 non-null   object \n",
            " 4   location     6362 non-null   object \n",
            " 5   description  6453 non-null   object \n",
            " 6   logoUrl      7921 non-null   object \n",
            " 7   label        5651 non-null   float64\n",
            "dtypes: float64(1), object(7)\n",
            "memory usage: 632.8+ KB\n"
          ]
        }
      ],
      "source": [
        "df.info()"
      ]
    },
    {
      "cell_type": "code",
      "execution_count": 153,
      "id": "ad8c559e",
      "metadata": {
        "colab": {
          "base_uri": "https://localhost:8080/"
        },
        "id": "ad8c559e",
        "outputId": "fb181149-0c50-45b1-c2b7-a8c540deb425"
      },
      "outputs": [
        {
          "output_type": "execute_result",
          "data": {
            "text/plain": [
              "['companyName',\n",
              " 'companyUrl',\n",
              " 'jobTitle',\n",
              " 'dateRange',\n",
              " 'location',\n",
              " 'description',\n",
              " 'logoUrl',\n",
              " 'label']"
            ]
          },
          "metadata": {},
          "execution_count": 153
        }
      ],
      "source": [
        "# Displaying all the Columns of our dataset\n",
        "list(df.columns.values)"
      ]
    },
    {
      "cell_type": "code",
      "execution_count": 154,
      "id": "a245f915",
      "metadata": {
        "colab": {
          "base_uri": "https://localhost:8080/",
          "height": 300
        },
        "id": "a245f915",
        "outputId": "f66b2dea-6dc8-49df-aa42-b33bb2a90118"
      },
      "outputs": [
        {
          "output_type": "execute_result",
          "data": {
            "text/plain": [
              "             label\n",
              "count  5651.000000\n",
              "mean      1.208282\n",
              "std       1.356456\n",
              "min       0.000000\n",
              "25%       0.000000\n",
              "50%       1.000000\n",
              "75%       2.000000\n",
              "max       4.000000"
            ],
            "text/html": [
              "\n",
              "  <div id=\"df-36ace817-bab5-47fd-bf98-d44bd3fe903f\">\n",
              "    <div class=\"colab-df-container\">\n",
              "      <div>\n",
              "<style scoped>\n",
              "    .dataframe tbody tr th:only-of-type {\n",
              "        vertical-align: middle;\n",
              "    }\n",
              "\n",
              "    .dataframe tbody tr th {\n",
              "        vertical-align: top;\n",
              "    }\n",
              "\n",
              "    .dataframe thead th {\n",
              "        text-align: right;\n",
              "    }\n",
              "</style>\n",
              "<table border=\"1\" class=\"dataframe\">\n",
              "  <thead>\n",
              "    <tr style=\"text-align: right;\">\n",
              "      <th></th>\n",
              "      <th>label</th>\n",
              "    </tr>\n",
              "  </thead>\n",
              "  <tbody>\n",
              "    <tr>\n",
              "      <th>count</th>\n",
              "      <td>5651.000000</td>\n",
              "    </tr>\n",
              "    <tr>\n",
              "      <th>mean</th>\n",
              "      <td>1.208282</td>\n",
              "    </tr>\n",
              "    <tr>\n",
              "      <th>std</th>\n",
              "      <td>1.356456</td>\n",
              "    </tr>\n",
              "    <tr>\n",
              "      <th>min</th>\n",
              "      <td>0.000000</td>\n",
              "    </tr>\n",
              "    <tr>\n",
              "      <th>25%</th>\n",
              "      <td>0.000000</td>\n",
              "    </tr>\n",
              "    <tr>\n",
              "      <th>50%</th>\n",
              "      <td>1.000000</td>\n",
              "    </tr>\n",
              "    <tr>\n",
              "      <th>75%</th>\n",
              "      <td>2.000000</td>\n",
              "    </tr>\n",
              "    <tr>\n",
              "      <th>max</th>\n",
              "      <td>4.000000</td>\n",
              "    </tr>\n",
              "  </tbody>\n",
              "</table>\n",
              "</div>\n",
              "      <button class=\"colab-df-convert\" onclick=\"convertToInteractive('df-36ace817-bab5-47fd-bf98-d44bd3fe903f')\"\n",
              "              title=\"Convert this dataframe to an interactive table.\"\n",
              "              style=\"display:none;\">\n",
              "        \n",
              "  <svg xmlns=\"http://www.w3.org/2000/svg\" height=\"24px\"viewBox=\"0 0 24 24\"\n",
              "       width=\"24px\">\n",
              "    <path d=\"M0 0h24v24H0V0z\" fill=\"none\"/>\n",
              "    <path d=\"M18.56 5.44l.94 2.06.94-2.06 2.06-.94-2.06-.94-.94-2.06-.94 2.06-2.06.94zm-11 1L8.5 8.5l.94-2.06 2.06-.94-2.06-.94L8.5 2.5l-.94 2.06-2.06.94zm10 10l.94 2.06.94-2.06 2.06-.94-2.06-.94-.94-2.06-.94 2.06-2.06.94z\"/><path d=\"M17.41 7.96l-1.37-1.37c-.4-.4-.92-.59-1.43-.59-.52 0-1.04.2-1.43.59L10.3 9.45l-7.72 7.72c-.78.78-.78 2.05 0 2.83L4 21.41c.39.39.9.59 1.41.59.51 0 1.02-.2 1.41-.59l7.78-7.78 2.81-2.81c.8-.78.8-2.07 0-2.86zM5.41 20L4 18.59l7.72-7.72 1.47 1.35L5.41 20z\"/>\n",
              "  </svg>\n",
              "      </button>\n",
              "      \n",
              "  <style>\n",
              "    .colab-df-container {\n",
              "      display:flex;\n",
              "      flex-wrap:wrap;\n",
              "      gap: 12px;\n",
              "    }\n",
              "\n",
              "    .colab-df-convert {\n",
              "      background-color: #E8F0FE;\n",
              "      border: none;\n",
              "      border-radius: 50%;\n",
              "      cursor: pointer;\n",
              "      display: none;\n",
              "      fill: #1967D2;\n",
              "      height: 32px;\n",
              "      padding: 0 0 0 0;\n",
              "      width: 32px;\n",
              "    }\n",
              "\n",
              "    .colab-df-convert:hover {\n",
              "      background-color: #E2EBFA;\n",
              "      box-shadow: 0px 1px 2px rgba(60, 64, 67, 0.3), 0px 1px 3px 1px rgba(60, 64, 67, 0.15);\n",
              "      fill: #174EA6;\n",
              "    }\n",
              "\n",
              "    [theme=dark] .colab-df-convert {\n",
              "      background-color: #3B4455;\n",
              "      fill: #D2E3FC;\n",
              "    }\n",
              "\n",
              "    [theme=dark] .colab-df-convert:hover {\n",
              "      background-color: #434B5C;\n",
              "      box-shadow: 0px 1px 3px 1px rgba(0, 0, 0, 0.15);\n",
              "      filter: drop-shadow(0px 1px 2px rgba(0, 0, 0, 0.3));\n",
              "      fill: #FFFFFF;\n",
              "    }\n",
              "  </style>\n",
              "\n",
              "      <script>\n",
              "        const buttonEl =\n",
              "          document.querySelector('#df-36ace817-bab5-47fd-bf98-d44bd3fe903f button.colab-df-convert');\n",
              "        buttonEl.style.display =\n",
              "          google.colab.kernel.accessAllowed ? 'block' : 'none';\n",
              "\n",
              "        async function convertToInteractive(key) {\n",
              "          const element = document.querySelector('#df-36ace817-bab5-47fd-bf98-d44bd3fe903f');\n",
              "          const dataTable =\n",
              "            await google.colab.kernel.invokeFunction('convertToInteractive',\n",
              "                                                     [key], {});\n",
              "          if (!dataTable) return;\n",
              "\n",
              "          const docLinkHtml = 'Like what you see? Visit the ' +\n",
              "            '<a target=\"_blank\" href=https://colab.research.google.com/notebooks/data_table.ipynb>data table notebook</a>'\n",
              "            + ' to learn more about interactive tables.';\n",
              "          element.innerHTML = '';\n",
              "          dataTable['output_type'] = 'display_data';\n",
              "          await google.colab.output.renderOutput(dataTable, element);\n",
              "          const docLink = document.createElement('div');\n",
              "          docLink.innerHTML = docLinkHtml;\n",
              "          element.appendChild(docLink);\n",
              "        }\n",
              "      </script>\n",
              "    </div>\n",
              "  </div>\n",
              "  "
            ]
          },
          "metadata": {},
          "execution_count": 154
        }
      ],
      "source": [
        "# Describe the entire dataset\n",
        "df.describe()"
      ]
    },
    {
      "cell_type": "markdown",
      "id": "wBgTQRwqoMvR",
      "metadata": {
        "id": "wBgTQRwqoMvR"
      },
      "source": [
        "# 3. Data Cleaning"
      ]
    },
    {
      "cell_type": "code",
      "execution_count": 155,
      "id": "E2M6j-E4o6a7",
      "metadata": {
        "colab": {
          "base_uri": "https://localhost:8080/",
          "height": 561
        },
        "id": "E2M6j-E4o6a7",
        "outputId": "ef742eee-1e62-4f80-e77d-755f1d760bbd"
      },
      "outputs": [
        {
          "output_type": "execute_result",
          "data": {
            "text/plain": [
              "                                                   companyName  \\\n",
              "id                                                               \n",
              "548398365_0                                            TEHTRIS   \n",
              "548398365_1                                  CHEOPS TECHNOLOGY   \n",
              "551303934_0                                              ALTEN   \n",
              "551303934_1                                    FRANCE SECURITE   \n",
              "551303934_2  OASU (Observatoire Aquitain des Sciences de l'...   \n",
              "\n",
              "                                                    companyUrl  \\\n",
              "id                                                               \n",
              "548398365_0          https://www.linkedin.com/company/tehtris/   \n",
              "548398365_1  https://www.linkedin.com/company/cheops-techno...   \n",
              "551303934_0            https://www.linkedin.com/company/alten/   \n",
              "551303934_1  https://www.linkedin.com/company/france-securite/   \n",
              "551303934_2                                               None   \n",
              "\n",
              "                                                      jobTitle  \\\n",
              "id                                                               \n",
              "548398365_0                       R&D Cybersecurity Consultant   \n",
              "548398365_1                           Ingénieur en data mining   \n",
              "551303934_0  Stagiaire ingénieur en intelligence artificiel...   \n",
              "551303934_1                Stagiaire en développement logiciel   \n",
              "551303934_2                     Stagiaire en développement Web   \n",
              "\n",
              "                            dateRange                              location  \\\n",
              "id                                                                            \n",
              "548398365_0   oct. 2021 – Aujourd’hui  Bordeaux, Nouvelle-Aquitaine, France   \n",
              "548398365_1   sept. 2020 – sept. 2021  Bordeaux, Nouvelle-Aquitaine, France   \n",
              "551303934_0  juil. 2021 – Aujourd’hui              Rennes, Bretagne, France   \n",
              "551303934_1     juin 2019 – août 2019           Bordeaux, Aquitaine, France   \n",
              "551303934_2     avr. 2018 – juin 2018           Bordeaux, Aquitaine, France   \n",
              "\n",
              "                                                   description  \\\n",
              "id                                                               \n",
              "548398365_0                                               None   \n",
              "548398365_1                                               None   \n",
              "551303934_0  Conception et programmation pour une plateform...   \n",
              "551303934_1  Développement et mises à jour d’applications c...   \n",
              "551303934_2  Création et évolution d’une application Web d’...   \n",
              "\n",
              "                                                       logoUrl  label  \n",
              "id                                                                     \n",
              "548398365_0  https://media-exp1.licdn.com/dms/image/C4D0BAQ...    NaN  \n",
              "548398365_1  https://media-exp1.licdn.com/dms/image/C560BAQ...    2.0  \n",
              "551303934_0  https://media-exp1.licdn.com/dms/image/C4D0BAQ...    4.0  \n",
              "551303934_1  https://media-exp1.licdn.com/dms/image/C4D0BAQ...    2.0  \n",
              "551303934_2                                                       1.0  "
            ],
            "text/html": [
              "\n",
              "  <div id=\"df-b040c0d4-5894-4d58-ad8e-43b8689d9eb3\">\n",
              "    <div class=\"colab-df-container\">\n",
              "      <div>\n",
              "<style scoped>\n",
              "    .dataframe tbody tr th:only-of-type {\n",
              "        vertical-align: middle;\n",
              "    }\n",
              "\n",
              "    .dataframe tbody tr th {\n",
              "        vertical-align: top;\n",
              "    }\n",
              "\n",
              "    .dataframe thead th {\n",
              "        text-align: right;\n",
              "    }\n",
              "</style>\n",
              "<table border=\"1\" class=\"dataframe\">\n",
              "  <thead>\n",
              "    <tr style=\"text-align: right;\">\n",
              "      <th></th>\n",
              "      <th>companyName</th>\n",
              "      <th>companyUrl</th>\n",
              "      <th>jobTitle</th>\n",
              "      <th>dateRange</th>\n",
              "      <th>location</th>\n",
              "      <th>description</th>\n",
              "      <th>logoUrl</th>\n",
              "      <th>label</th>\n",
              "    </tr>\n",
              "    <tr>\n",
              "      <th>id</th>\n",
              "      <th></th>\n",
              "      <th></th>\n",
              "      <th></th>\n",
              "      <th></th>\n",
              "      <th></th>\n",
              "      <th></th>\n",
              "      <th></th>\n",
              "      <th></th>\n",
              "    </tr>\n",
              "  </thead>\n",
              "  <tbody>\n",
              "    <tr>\n",
              "      <th>548398365_0</th>\n",
              "      <td>TEHTRIS</td>\n",
              "      <td>https://www.linkedin.com/company/tehtris/</td>\n",
              "      <td>R&amp;D Cybersecurity Consultant</td>\n",
              "      <td>oct. 2021 – Aujourd’hui</td>\n",
              "      <td>Bordeaux, Nouvelle-Aquitaine, France</td>\n",
              "      <td>None</td>\n",
              "      <td>https://media-exp1.licdn.com/dms/image/C4D0BAQ...</td>\n",
              "      <td>NaN</td>\n",
              "    </tr>\n",
              "    <tr>\n",
              "      <th>548398365_1</th>\n",
              "      <td>CHEOPS TECHNOLOGY</td>\n",
              "      <td>https://www.linkedin.com/company/cheops-techno...</td>\n",
              "      <td>Ingénieur en data mining</td>\n",
              "      <td>sept. 2020 – sept. 2021</td>\n",
              "      <td>Bordeaux, Nouvelle-Aquitaine, France</td>\n",
              "      <td>None</td>\n",
              "      <td>https://media-exp1.licdn.com/dms/image/C560BAQ...</td>\n",
              "      <td>2.0</td>\n",
              "    </tr>\n",
              "    <tr>\n",
              "      <th>551303934_0</th>\n",
              "      <td>ALTEN</td>\n",
              "      <td>https://www.linkedin.com/company/alten/</td>\n",
              "      <td>Stagiaire ingénieur en intelligence artificiel...</td>\n",
              "      <td>juil. 2021 – Aujourd’hui</td>\n",
              "      <td>Rennes, Bretagne, France</td>\n",
              "      <td>Conception et programmation pour une plateform...</td>\n",
              "      <td>https://media-exp1.licdn.com/dms/image/C4D0BAQ...</td>\n",
              "      <td>4.0</td>\n",
              "    </tr>\n",
              "    <tr>\n",
              "      <th>551303934_1</th>\n",
              "      <td>FRANCE SECURITE</td>\n",
              "      <td>https://www.linkedin.com/company/france-securite/</td>\n",
              "      <td>Stagiaire en développement logiciel</td>\n",
              "      <td>juin 2019 – août 2019</td>\n",
              "      <td>Bordeaux, Aquitaine, France</td>\n",
              "      <td>Développement et mises à jour d’applications c...</td>\n",
              "      <td>https://media-exp1.licdn.com/dms/image/C4D0BAQ...</td>\n",
              "      <td>2.0</td>\n",
              "    </tr>\n",
              "    <tr>\n",
              "      <th>551303934_2</th>\n",
              "      <td>OASU (Observatoire Aquitain des Sciences de l'...</td>\n",
              "      <td>None</td>\n",
              "      <td>Stagiaire en développement Web</td>\n",
              "      <td>avr. 2018 – juin 2018</td>\n",
              "      <td>Bordeaux, Aquitaine, France</td>\n",
              "      <td>Création et évolution d’une application Web d’...</td>\n",
              "      <td></td>\n",
              "      <td>1.0</td>\n",
              "    </tr>\n",
              "  </tbody>\n",
              "</table>\n",
              "</div>\n",
              "      <button class=\"colab-df-convert\" onclick=\"convertToInteractive('df-b040c0d4-5894-4d58-ad8e-43b8689d9eb3')\"\n",
              "              title=\"Convert this dataframe to an interactive table.\"\n",
              "              style=\"display:none;\">\n",
              "        \n",
              "  <svg xmlns=\"http://www.w3.org/2000/svg\" height=\"24px\"viewBox=\"0 0 24 24\"\n",
              "       width=\"24px\">\n",
              "    <path d=\"M0 0h24v24H0V0z\" fill=\"none\"/>\n",
              "    <path d=\"M18.56 5.44l.94 2.06.94-2.06 2.06-.94-2.06-.94-.94-2.06-.94 2.06-2.06.94zm-11 1L8.5 8.5l.94-2.06 2.06-.94-2.06-.94L8.5 2.5l-.94 2.06-2.06.94zm10 10l.94 2.06.94-2.06 2.06-.94-2.06-.94-.94-2.06-.94 2.06-2.06.94z\"/><path d=\"M17.41 7.96l-1.37-1.37c-.4-.4-.92-.59-1.43-.59-.52 0-1.04.2-1.43.59L10.3 9.45l-7.72 7.72c-.78.78-.78 2.05 0 2.83L4 21.41c.39.39.9.59 1.41.59.51 0 1.02-.2 1.41-.59l7.78-7.78 2.81-2.81c.8-.78.8-2.07 0-2.86zM5.41 20L4 18.59l7.72-7.72 1.47 1.35L5.41 20z\"/>\n",
              "  </svg>\n",
              "      </button>\n",
              "      \n",
              "  <style>\n",
              "    .colab-df-container {\n",
              "      display:flex;\n",
              "      flex-wrap:wrap;\n",
              "      gap: 12px;\n",
              "    }\n",
              "\n",
              "    .colab-df-convert {\n",
              "      background-color: #E8F0FE;\n",
              "      border: none;\n",
              "      border-radius: 50%;\n",
              "      cursor: pointer;\n",
              "      display: none;\n",
              "      fill: #1967D2;\n",
              "      height: 32px;\n",
              "      padding: 0 0 0 0;\n",
              "      width: 32px;\n",
              "    }\n",
              "\n",
              "    .colab-df-convert:hover {\n",
              "      background-color: #E2EBFA;\n",
              "      box-shadow: 0px 1px 2px rgba(60, 64, 67, 0.3), 0px 1px 3px 1px rgba(60, 64, 67, 0.15);\n",
              "      fill: #174EA6;\n",
              "    }\n",
              "\n",
              "    [theme=dark] .colab-df-convert {\n",
              "      background-color: #3B4455;\n",
              "      fill: #D2E3FC;\n",
              "    }\n",
              "\n",
              "    [theme=dark] .colab-df-convert:hover {\n",
              "      background-color: #434B5C;\n",
              "      box-shadow: 0px 1px 3px 1px rgba(0, 0, 0, 0.15);\n",
              "      filter: drop-shadow(0px 1px 2px rgba(0, 0, 0, 0.3));\n",
              "      fill: #FFFFFF;\n",
              "    }\n",
              "  </style>\n",
              "\n",
              "      <script>\n",
              "        const buttonEl =\n",
              "          document.querySelector('#df-b040c0d4-5894-4d58-ad8e-43b8689d9eb3 button.colab-df-convert');\n",
              "        buttonEl.style.display =\n",
              "          google.colab.kernel.accessAllowed ? 'block' : 'none';\n",
              "\n",
              "        async function convertToInteractive(key) {\n",
              "          const element = document.querySelector('#df-b040c0d4-5894-4d58-ad8e-43b8689d9eb3');\n",
              "          const dataTable =\n",
              "            await google.colab.kernel.invokeFunction('convertToInteractive',\n",
              "                                                     [key], {});\n",
              "          if (!dataTable) return;\n",
              "\n",
              "          const docLinkHtml = 'Like what you see? Visit the ' +\n",
              "            '<a target=\"_blank\" href=https://colab.research.google.com/notebooks/data_table.ipynb>data table notebook</a>'\n",
              "            + ' to learn more about interactive tables.';\n",
              "          element.innerHTML = '';\n",
              "          dataTable['output_type'] = 'display_data';\n",
              "          await google.colab.output.renderOutput(dataTable, element);\n",
              "          const docLink = document.createElement('div');\n",
              "          docLink.innerHTML = docLinkHtml;\n",
              "          element.appendChild(docLink);\n",
              "        }\n",
              "      </script>\n",
              "    </div>\n",
              "  </div>\n",
              "  "
            ]
          },
          "metadata": {},
          "execution_count": 155
        }
      ],
      "source": [
        "df.head()"
      ]
    },
    {
      "cell_type": "markdown",
      "id": "OONXdushpZt7",
      "metadata": {
        "id": "OONXdushpZt7"
      },
      "source": [
        "### Display the Null values percentage against every columns (compare to the total number of records)"
      ]
    },
    {
      "cell_type": "code",
      "execution_count": 156,
      "id": "iMNj3XbZpkTP",
      "metadata": {
        "colab": {
          "base_uri": "https://localhost:8080/"
        },
        "id": "iMNj3XbZpkTP",
        "outputId": "476824da-e04c-46a5-fba7-7125a2059db7"
      },
      "outputs": [
        {
          "output_type": "stream",
          "name": "stdout",
          "text": [
            "companyUrl  -  10.011111111111111 % null\n",
            "jobTitle  -  0.011111111111111112 % null\n",
            "dateRange  -  0.1111111111111111 % null\n",
            "location  -  29.31111111111111 % null\n",
            "description  -  28.3 % null\n",
            "logoUrl  -  11.988888888888889 % null\n",
            "label  -  37.21111111111111 % null\n"
          ]
        }
      ],
      "source": [
        "i=0\n",
        "l = list(df.isnull().sum() * 100 / len(df))\n",
        "length = len(l)\n",
        "while i<length:\n",
        "  if l[i] != 0.0:\n",
        "    print(df.columns[i],\" - \",(l[i]),\"% null\")\n",
        "  i+=1"
      ]
    },
    {
      "cell_type": "code",
      "execution_count": 157,
      "id": "Dn58-PPy0zNd",
      "metadata": {
        "colab": {
          "base_uri": "https://localhost:8080/"
        },
        "id": "Dn58-PPy0zNd",
        "outputId": "f6284ed1-e718-4af9-a8fe-3e7eb3d880b1"
      },
      "outputs": [
        {
          "output_type": "execute_result",
          "data": {
            "text/plain": [
              "array([nan,  2.,  4.,  1.,  0.,  3.])"
            ]
          },
          "metadata": {},
          "execution_count": 157
        }
      ],
      "source": [
        "df.label.unique()"
      ]
    },
    {
      "cell_type": "markdown",
      "id": "8ZisqQT-B38S",
      "metadata": {
        "id": "8ZisqQT-B38S"
      },
      "source": [
        "### Removing Rows with label NAN"
      ]
    },
    {
      "cell_type": "code",
      "execution_count": 158,
      "id": "4mAaC_paCZyx",
      "metadata": {
        "id": "4mAaC_paCZyx"
      },
      "outputs": [],
      "source": [
        "df.dropna(subset= ['label'], inplace=True)"
      ]
    },
    {
      "cell_type": "code",
      "execution_count": 159,
      "id": "S7Pp7WOJCR9Q",
      "metadata": {
        "colab": {
          "base_uri": "https://localhost:8080/"
        },
        "id": "S7Pp7WOJCR9Q",
        "outputId": "0acc0b0d-8be2-4c9a-b418-6eb311306ba0"
      },
      "outputs": [
        {
          "output_type": "execute_result",
          "data": {
            "text/plain": [
              "array([2., 4., 1., 0., 3.])"
            ]
          },
          "metadata": {},
          "execution_count": 159
        }
      ],
      "source": [
        "df.label.unique()"
      ]
    },
    {
      "cell_type": "code",
      "execution_count": 160,
      "id": "mW_5SBxvIOhY",
      "metadata": {
        "colab": {
          "base_uri": "https://localhost:8080/"
        },
        "id": "mW_5SBxvIOhY",
        "outputId": "16419619-ce40-4f94-a71a-5616abafef0d"
      },
      "outputs": [
        {
          "output_type": "execute_result",
          "data": {
            "text/plain": [
              "(5651, 8)"
            ]
          },
          "metadata": {},
          "execution_count": 160
        }
      ],
      "source": [
        "df.shape"
      ]
    },
    {
      "cell_type": "markdown",
      "id": "XSpJeLWOJ_vo",
      "metadata": {
        "id": "XSpJeLWOJ_vo"
      },
      "source": [
        "### Replace **None** in Description column with **empty string**"
      ]
    },
    {
      "cell_type": "code",
      "execution_count": 161,
      "id": "G9ZBh47LKOJZ",
      "metadata": {
        "colab": {
          "base_uri": "https://localhost:8080/",
          "height": 237
        },
        "id": "G9ZBh47LKOJZ",
        "outputId": "3d7b73c1-b3fc-4352-d5af-f83cc688ad41"
      },
      "outputs": [
        {
          "output_type": "execute_result",
          "data": {
            "text/plain": [
              "                                                   description\n",
              "id                                                            \n",
              "548398365_1                                                   \n",
              "551303934_0  Conception et programmation pour une plateform...\n",
              "551303934_1  Développement et mises à jour d’applications c...\n",
              "551303934_2  Création et évolution d’une application Web d’...\n",
              "551303934_3  Portage d’une application en PHP 7, mises à jo..."
            ],
            "text/html": [
              "\n",
              "  <div id=\"df-4ec88298-692b-4944-8db2-d067ac81cc4d\">\n",
              "    <div class=\"colab-df-container\">\n",
              "      <div>\n",
              "<style scoped>\n",
              "    .dataframe tbody tr th:only-of-type {\n",
              "        vertical-align: middle;\n",
              "    }\n",
              "\n",
              "    .dataframe tbody tr th {\n",
              "        vertical-align: top;\n",
              "    }\n",
              "\n",
              "    .dataframe thead th {\n",
              "        text-align: right;\n",
              "    }\n",
              "</style>\n",
              "<table border=\"1\" class=\"dataframe\">\n",
              "  <thead>\n",
              "    <tr style=\"text-align: right;\">\n",
              "      <th></th>\n",
              "      <th>description</th>\n",
              "    </tr>\n",
              "    <tr>\n",
              "      <th>id</th>\n",
              "      <th></th>\n",
              "    </tr>\n",
              "  </thead>\n",
              "  <tbody>\n",
              "    <tr>\n",
              "      <th>548398365_1</th>\n",
              "      <td></td>\n",
              "    </tr>\n",
              "    <tr>\n",
              "      <th>551303934_0</th>\n",
              "      <td>Conception et programmation pour une plateform...</td>\n",
              "    </tr>\n",
              "    <tr>\n",
              "      <th>551303934_1</th>\n",
              "      <td>Développement et mises à jour d’applications c...</td>\n",
              "    </tr>\n",
              "    <tr>\n",
              "      <th>551303934_2</th>\n",
              "      <td>Création et évolution d’une application Web d’...</td>\n",
              "    </tr>\n",
              "    <tr>\n",
              "      <th>551303934_3</th>\n",
              "      <td>Portage d’une application en PHP 7, mises à jo...</td>\n",
              "    </tr>\n",
              "  </tbody>\n",
              "</table>\n",
              "</div>\n",
              "      <button class=\"colab-df-convert\" onclick=\"convertToInteractive('df-4ec88298-692b-4944-8db2-d067ac81cc4d')\"\n",
              "              title=\"Convert this dataframe to an interactive table.\"\n",
              "              style=\"display:none;\">\n",
              "        \n",
              "  <svg xmlns=\"http://www.w3.org/2000/svg\" height=\"24px\"viewBox=\"0 0 24 24\"\n",
              "       width=\"24px\">\n",
              "    <path d=\"M0 0h24v24H0V0z\" fill=\"none\"/>\n",
              "    <path d=\"M18.56 5.44l.94 2.06.94-2.06 2.06-.94-2.06-.94-.94-2.06-.94 2.06-2.06.94zm-11 1L8.5 8.5l.94-2.06 2.06-.94-2.06-.94L8.5 2.5l-.94 2.06-2.06.94zm10 10l.94 2.06.94-2.06 2.06-.94-2.06-.94-.94-2.06-.94 2.06-2.06.94z\"/><path d=\"M17.41 7.96l-1.37-1.37c-.4-.4-.92-.59-1.43-.59-.52 0-1.04.2-1.43.59L10.3 9.45l-7.72 7.72c-.78.78-.78 2.05 0 2.83L4 21.41c.39.39.9.59 1.41.59.51 0 1.02-.2 1.41-.59l7.78-7.78 2.81-2.81c.8-.78.8-2.07 0-2.86zM5.41 20L4 18.59l7.72-7.72 1.47 1.35L5.41 20z\"/>\n",
              "  </svg>\n",
              "      </button>\n",
              "      \n",
              "  <style>\n",
              "    .colab-df-container {\n",
              "      display:flex;\n",
              "      flex-wrap:wrap;\n",
              "      gap: 12px;\n",
              "    }\n",
              "\n",
              "    .colab-df-convert {\n",
              "      background-color: #E8F0FE;\n",
              "      border: none;\n",
              "      border-radius: 50%;\n",
              "      cursor: pointer;\n",
              "      display: none;\n",
              "      fill: #1967D2;\n",
              "      height: 32px;\n",
              "      padding: 0 0 0 0;\n",
              "      width: 32px;\n",
              "    }\n",
              "\n",
              "    .colab-df-convert:hover {\n",
              "      background-color: #E2EBFA;\n",
              "      box-shadow: 0px 1px 2px rgba(60, 64, 67, 0.3), 0px 1px 3px 1px rgba(60, 64, 67, 0.15);\n",
              "      fill: #174EA6;\n",
              "    }\n",
              "\n",
              "    [theme=dark] .colab-df-convert {\n",
              "      background-color: #3B4455;\n",
              "      fill: #D2E3FC;\n",
              "    }\n",
              "\n",
              "    [theme=dark] .colab-df-convert:hover {\n",
              "      background-color: #434B5C;\n",
              "      box-shadow: 0px 1px 3px 1px rgba(0, 0, 0, 0.15);\n",
              "      filter: drop-shadow(0px 1px 2px rgba(0, 0, 0, 0.3));\n",
              "      fill: #FFFFFF;\n",
              "    }\n",
              "  </style>\n",
              "\n",
              "      <script>\n",
              "        const buttonEl =\n",
              "          document.querySelector('#df-4ec88298-692b-4944-8db2-d067ac81cc4d button.colab-df-convert');\n",
              "        buttonEl.style.display =\n",
              "          google.colab.kernel.accessAllowed ? 'block' : 'none';\n",
              "\n",
              "        async function convertToInteractive(key) {\n",
              "          const element = document.querySelector('#df-4ec88298-692b-4944-8db2-d067ac81cc4d');\n",
              "          const dataTable =\n",
              "            await google.colab.kernel.invokeFunction('convertToInteractive',\n",
              "                                                     [key], {});\n",
              "          if (!dataTable) return;\n",
              "\n",
              "          const docLinkHtml = 'Like what you see? Visit the ' +\n",
              "            '<a target=\"_blank\" href=https://colab.research.google.com/notebooks/data_table.ipynb>data table notebook</a>'\n",
              "            + ' to learn more about interactive tables.';\n",
              "          element.innerHTML = '';\n",
              "          dataTable['output_type'] = 'display_data';\n",
              "          await google.colab.output.renderOutput(dataTable, element);\n",
              "          const docLink = document.createElement('div');\n",
              "          docLink.innerHTML = docLinkHtml;\n",
              "          element.appendChild(docLink);\n",
              "        }\n",
              "      </script>\n",
              "    </div>\n",
              "  </div>\n",
              "  "
            ]
          },
          "metadata": {},
          "execution_count": 161
        }
      ],
      "source": [
        "df2 = df[['description']] = df[['description']].fillna('')\n",
        "df2.head()"
      ]
    },
    {
      "cell_type": "code",
      "execution_count": 162,
      "id": "10x4aIQzLKKm",
      "metadata": {
        "colab": {
          "base_uri": "https://localhost:8080/",
          "height": 561
        },
        "id": "10x4aIQzLKKm",
        "outputId": "d6b948d9-b2b5-4c74-b358-a0c2e2d9e43a"
      },
      "outputs": [
        {
          "output_type": "execute_result",
          "data": {
            "text/plain": [
              "                                                   companyName  \\\n",
              "id                                                               \n",
              "548398365_1                                  CHEOPS TECHNOLOGY   \n",
              "551303934_0                                              ALTEN   \n",
              "551303934_1                                    FRANCE SECURITE   \n",
              "551303934_2  OASU (Observatoire Aquitain des Sciences de l'...   \n",
              "551303934_3                                              ADDEO   \n",
              "\n",
              "                                                    companyUrl  \\\n",
              "id                                                               \n",
              "548398365_1  https://www.linkedin.com/company/cheops-techno...   \n",
              "551303934_0            https://www.linkedin.com/company/alten/   \n",
              "551303934_1  https://www.linkedin.com/company/france-securite/   \n",
              "551303934_2                                               None   \n",
              "551303934_3            https://www.linkedin.com/company/addeo/   \n",
              "\n",
              "                                                      jobTitle  \\\n",
              "id                                                               \n",
              "548398365_1                           Ingénieur en data mining   \n",
              "551303934_0  Stagiaire ingénieur en intelligence artificiel...   \n",
              "551303934_1                Stagiaire en développement logiciel   \n",
              "551303934_2                     Stagiaire en développement Web   \n",
              "551303934_3                     Stagiaire en développement Web   \n",
              "\n",
              "                            dateRange                              location  \\\n",
              "id                                                                            \n",
              "548398365_1   sept. 2020 – sept. 2021  Bordeaux, Nouvelle-Aquitaine, France   \n",
              "551303934_0  juil. 2021 – Aujourd’hui              Rennes, Bretagne, France   \n",
              "551303934_1     juin 2019 – août 2019           Bordeaux, Aquitaine, France   \n",
              "551303934_2     avr. 2018 – juin 2018           Bordeaux, Aquitaine, France   \n",
              "551303934_3     avr. 2016 – juin 2016           Bordeaux, Aquitaine, France   \n",
              "\n",
              "                                                   description  \\\n",
              "id                                                               \n",
              "548398365_1                                                      \n",
              "551303934_0  Conception et programmation pour une plateform...   \n",
              "551303934_1  Développement et mises à jour d’applications c...   \n",
              "551303934_2  Création et évolution d’une application Web d’...   \n",
              "551303934_3  Portage d’une application en PHP 7, mises à jo...   \n",
              "\n",
              "                                                       logoUrl  label  \n",
              "id                                                                     \n",
              "548398365_1  https://media-exp1.licdn.com/dms/image/C560BAQ...    2.0  \n",
              "551303934_0  https://media-exp1.licdn.com/dms/image/C4D0BAQ...    4.0  \n",
              "551303934_1  https://media-exp1.licdn.com/dms/image/C4D0BAQ...    2.0  \n",
              "551303934_2                                                       1.0  \n",
              "551303934_3  https://media-exp1.licdn.com/dms/image/C4E0BAQ...    0.0  "
            ],
            "text/html": [
              "\n",
              "  <div id=\"df-30507a97-5788-44e6-94fb-ba7da3423198\">\n",
              "    <div class=\"colab-df-container\">\n",
              "      <div>\n",
              "<style scoped>\n",
              "    .dataframe tbody tr th:only-of-type {\n",
              "        vertical-align: middle;\n",
              "    }\n",
              "\n",
              "    .dataframe tbody tr th {\n",
              "        vertical-align: top;\n",
              "    }\n",
              "\n",
              "    .dataframe thead th {\n",
              "        text-align: right;\n",
              "    }\n",
              "</style>\n",
              "<table border=\"1\" class=\"dataframe\">\n",
              "  <thead>\n",
              "    <tr style=\"text-align: right;\">\n",
              "      <th></th>\n",
              "      <th>companyName</th>\n",
              "      <th>companyUrl</th>\n",
              "      <th>jobTitle</th>\n",
              "      <th>dateRange</th>\n",
              "      <th>location</th>\n",
              "      <th>description</th>\n",
              "      <th>logoUrl</th>\n",
              "      <th>label</th>\n",
              "    </tr>\n",
              "    <tr>\n",
              "      <th>id</th>\n",
              "      <th></th>\n",
              "      <th></th>\n",
              "      <th></th>\n",
              "      <th></th>\n",
              "      <th></th>\n",
              "      <th></th>\n",
              "      <th></th>\n",
              "      <th></th>\n",
              "    </tr>\n",
              "  </thead>\n",
              "  <tbody>\n",
              "    <tr>\n",
              "      <th>548398365_1</th>\n",
              "      <td>CHEOPS TECHNOLOGY</td>\n",
              "      <td>https://www.linkedin.com/company/cheops-techno...</td>\n",
              "      <td>Ingénieur en data mining</td>\n",
              "      <td>sept. 2020 – sept. 2021</td>\n",
              "      <td>Bordeaux, Nouvelle-Aquitaine, France</td>\n",
              "      <td></td>\n",
              "      <td>https://media-exp1.licdn.com/dms/image/C560BAQ...</td>\n",
              "      <td>2.0</td>\n",
              "    </tr>\n",
              "    <tr>\n",
              "      <th>551303934_0</th>\n",
              "      <td>ALTEN</td>\n",
              "      <td>https://www.linkedin.com/company/alten/</td>\n",
              "      <td>Stagiaire ingénieur en intelligence artificiel...</td>\n",
              "      <td>juil. 2021 – Aujourd’hui</td>\n",
              "      <td>Rennes, Bretagne, France</td>\n",
              "      <td>Conception et programmation pour une plateform...</td>\n",
              "      <td>https://media-exp1.licdn.com/dms/image/C4D0BAQ...</td>\n",
              "      <td>4.0</td>\n",
              "    </tr>\n",
              "    <tr>\n",
              "      <th>551303934_1</th>\n",
              "      <td>FRANCE SECURITE</td>\n",
              "      <td>https://www.linkedin.com/company/france-securite/</td>\n",
              "      <td>Stagiaire en développement logiciel</td>\n",
              "      <td>juin 2019 – août 2019</td>\n",
              "      <td>Bordeaux, Aquitaine, France</td>\n",
              "      <td>Développement et mises à jour d’applications c...</td>\n",
              "      <td>https://media-exp1.licdn.com/dms/image/C4D0BAQ...</td>\n",
              "      <td>2.0</td>\n",
              "    </tr>\n",
              "    <tr>\n",
              "      <th>551303934_2</th>\n",
              "      <td>OASU (Observatoire Aquitain des Sciences de l'...</td>\n",
              "      <td>None</td>\n",
              "      <td>Stagiaire en développement Web</td>\n",
              "      <td>avr. 2018 – juin 2018</td>\n",
              "      <td>Bordeaux, Aquitaine, France</td>\n",
              "      <td>Création et évolution d’une application Web d’...</td>\n",
              "      <td></td>\n",
              "      <td>1.0</td>\n",
              "    </tr>\n",
              "    <tr>\n",
              "      <th>551303934_3</th>\n",
              "      <td>ADDEO</td>\n",
              "      <td>https://www.linkedin.com/company/addeo/</td>\n",
              "      <td>Stagiaire en développement Web</td>\n",
              "      <td>avr. 2016 – juin 2016</td>\n",
              "      <td>Bordeaux, Aquitaine, France</td>\n",
              "      <td>Portage d’une application en PHP 7, mises à jo...</td>\n",
              "      <td>https://media-exp1.licdn.com/dms/image/C4E0BAQ...</td>\n",
              "      <td>0.0</td>\n",
              "    </tr>\n",
              "  </tbody>\n",
              "</table>\n",
              "</div>\n",
              "      <button class=\"colab-df-convert\" onclick=\"convertToInteractive('df-30507a97-5788-44e6-94fb-ba7da3423198')\"\n",
              "              title=\"Convert this dataframe to an interactive table.\"\n",
              "              style=\"display:none;\">\n",
              "        \n",
              "  <svg xmlns=\"http://www.w3.org/2000/svg\" height=\"24px\"viewBox=\"0 0 24 24\"\n",
              "       width=\"24px\">\n",
              "    <path d=\"M0 0h24v24H0V0z\" fill=\"none\"/>\n",
              "    <path d=\"M18.56 5.44l.94 2.06.94-2.06 2.06-.94-2.06-.94-.94-2.06-.94 2.06-2.06.94zm-11 1L8.5 8.5l.94-2.06 2.06-.94-2.06-.94L8.5 2.5l-.94 2.06-2.06.94zm10 10l.94 2.06.94-2.06 2.06-.94-2.06-.94-.94-2.06-.94 2.06-2.06.94z\"/><path d=\"M17.41 7.96l-1.37-1.37c-.4-.4-.92-.59-1.43-.59-.52 0-1.04.2-1.43.59L10.3 9.45l-7.72 7.72c-.78.78-.78 2.05 0 2.83L4 21.41c.39.39.9.59 1.41.59.51 0 1.02-.2 1.41-.59l7.78-7.78 2.81-2.81c.8-.78.8-2.07 0-2.86zM5.41 20L4 18.59l7.72-7.72 1.47 1.35L5.41 20z\"/>\n",
              "  </svg>\n",
              "      </button>\n",
              "      \n",
              "  <style>\n",
              "    .colab-df-container {\n",
              "      display:flex;\n",
              "      flex-wrap:wrap;\n",
              "      gap: 12px;\n",
              "    }\n",
              "\n",
              "    .colab-df-convert {\n",
              "      background-color: #E8F0FE;\n",
              "      border: none;\n",
              "      border-radius: 50%;\n",
              "      cursor: pointer;\n",
              "      display: none;\n",
              "      fill: #1967D2;\n",
              "      height: 32px;\n",
              "      padding: 0 0 0 0;\n",
              "      width: 32px;\n",
              "    }\n",
              "\n",
              "    .colab-df-convert:hover {\n",
              "      background-color: #E2EBFA;\n",
              "      box-shadow: 0px 1px 2px rgba(60, 64, 67, 0.3), 0px 1px 3px 1px rgba(60, 64, 67, 0.15);\n",
              "      fill: #174EA6;\n",
              "    }\n",
              "\n",
              "    [theme=dark] .colab-df-convert {\n",
              "      background-color: #3B4455;\n",
              "      fill: #D2E3FC;\n",
              "    }\n",
              "\n",
              "    [theme=dark] .colab-df-convert:hover {\n",
              "      background-color: #434B5C;\n",
              "      box-shadow: 0px 1px 3px 1px rgba(0, 0, 0, 0.15);\n",
              "      filter: drop-shadow(0px 1px 2px rgba(0, 0, 0, 0.3));\n",
              "      fill: #FFFFFF;\n",
              "    }\n",
              "  </style>\n",
              "\n",
              "      <script>\n",
              "        const buttonEl =\n",
              "          document.querySelector('#df-30507a97-5788-44e6-94fb-ba7da3423198 button.colab-df-convert');\n",
              "        buttonEl.style.display =\n",
              "          google.colab.kernel.accessAllowed ? 'block' : 'none';\n",
              "\n",
              "        async function convertToInteractive(key) {\n",
              "          const element = document.querySelector('#df-30507a97-5788-44e6-94fb-ba7da3423198');\n",
              "          const dataTable =\n",
              "            await google.colab.kernel.invokeFunction('convertToInteractive',\n",
              "                                                     [key], {});\n",
              "          if (!dataTable) return;\n",
              "\n",
              "          const docLinkHtml = 'Like what you see? Visit the ' +\n",
              "            '<a target=\"_blank\" href=https://colab.research.google.com/notebooks/data_table.ipynb>data table notebook</a>'\n",
              "            + ' to learn more about interactive tables.';\n",
              "          element.innerHTML = '';\n",
              "          dataTable['output_type'] = 'display_data';\n",
              "          await google.colab.output.renderOutput(dataTable, element);\n",
              "          const docLink = document.createElement('div');\n",
              "          docLink.innerHTML = docLinkHtml;\n",
              "          element.appendChild(docLink);\n",
              "        }\n",
              "      </script>\n",
              "    </div>\n",
              "  </div>\n",
              "  "
            ]
          },
          "metadata": {},
          "execution_count": 162
        }
      ],
      "source": [
        "df.head()"
      ]
    },
    {
      "cell_type": "markdown",
      "id": "pk_jAcb6Mrh6",
      "metadata": {
        "id": "pk_jAcb6Mrh6"
      },
      "source": [
        "### Concatenating columns **jobTitle** and **description** as **jobDescription**"
      ]
    },
    {
      "cell_type": "code",
      "execution_count": 163,
      "id": "gA8VBZW1NU1j",
      "metadata": {
        "id": "gA8VBZW1NU1j"
      },
      "outputs": [],
      "source": [
        "df[\"jobDescription\"] = df[['jobTitle', 'description']].agg(' '.join, axis=1)"
      ]
    },
    {
      "cell_type": "code",
      "execution_count": 164,
      "id": "G2YTOkAHOLzX",
      "metadata": {
        "colab": {
          "base_uri": "https://localhost:8080/",
          "height": 561
        },
        "id": "G2YTOkAHOLzX",
        "outputId": "605e90a3-d7ab-4468-d147-915071d1f273"
      },
      "outputs": [
        {
          "output_type": "execute_result",
          "data": {
            "text/plain": [
              "                                                   companyName  \\\n",
              "id                                                               \n",
              "548398365_1                                  CHEOPS TECHNOLOGY   \n",
              "551303934_0                                              ALTEN   \n",
              "551303934_1                                    FRANCE SECURITE   \n",
              "551303934_2  OASU (Observatoire Aquitain des Sciences de l'...   \n",
              "551303934_3                                              ADDEO   \n",
              "\n",
              "                                                    companyUrl  \\\n",
              "id                                                               \n",
              "548398365_1  https://www.linkedin.com/company/cheops-techno...   \n",
              "551303934_0            https://www.linkedin.com/company/alten/   \n",
              "551303934_1  https://www.linkedin.com/company/france-securite/   \n",
              "551303934_2                                               None   \n",
              "551303934_3            https://www.linkedin.com/company/addeo/   \n",
              "\n",
              "                                                      jobTitle  \\\n",
              "id                                                               \n",
              "548398365_1                           Ingénieur en data mining   \n",
              "551303934_0  Stagiaire ingénieur en intelligence artificiel...   \n",
              "551303934_1                Stagiaire en développement logiciel   \n",
              "551303934_2                     Stagiaire en développement Web   \n",
              "551303934_3                     Stagiaire en développement Web   \n",
              "\n",
              "                            dateRange                              location  \\\n",
              "id                                                                            \n",
              "548398365_1   sept. 2020 – sept. 2021  Bordeaux, Nouvelle-Aquitaine, France   \n",
              "551303934_0  juil. 2021 – Aujourd’hui              Rennes, Bretagne, France   \n",
              "551303934_1     juin 2019 – août 2019           Bordeaux, Aquitaine, France   \n",
              "551303934_2     avr. 2018 – juin 2018           Bordeaux, Aquitaine, France   \n",
              "551303934_3     avr. 2016 – juin 2016           Bordeaux, Aquitaine, France   \n",
              "\n",
              "                                                   description  \\\n",
              "id                                                               \n",
              "548398365_1                                                      \n",
              "551303934_0  Conception et programmation pour une plateform...   \n",
              "551303934_1  Développement et mises à jour d’applications c...   \n",
              "551303934_2  Création et évolution d’une application Web d’...   \n",
              "551303934_3  Portage d’une application en PHP 7, mises à jo...   \n",
              "\n",
              "                                                       logoUrl  label  \\\n",
              "id                                                                      \n",
              "548398365_1  https://media-exp1.licdn.com/dms/image/C560BAQ...    2.0   \n",
              "551303934_0  https://media-exp1.licdn.com/dms/image/C4D0BAQ...    4.0   \n",
              "551303934_1  https://media-exp1.licdn.com/dms/image/C4D0BAQ...    2.0   \n",
              "551303934_2                                                       1.0   \n",
              "551303934_3  https://media-exp1.licdn.com/dms/image/C4E0BAQ...    0.0   \n",
              "\n",
              "                                                jobDescription  \n",
              "id                                                              \n",
              "548398365_1                          Ingénieur en data mining   \n",
              "551303934_0  Stagiaire ingénieur en intelligence artificiel...  \n",
              "551303934_1  Stagiaire en développement logiciel Développem...  \n",
              "551303934_2  Stagiaire en développement Web Création et évo...  \n",
              "551303934_3  Stagiaire en développement Web Portage d’une a...  "
            ],
            "text/html": [
              "\n",
              "  <div id=\"df-02061f18-64fe-470c-9eb4-f012c3a3772a\">\n",
              "    <div class=\"colab-df-container\">\n",
              "      <div>\n",
              "<style scoped>\n",
              "    .dataframe tbody tr th:only-of-type {\n",
              "        vertical-align: middle;\n",
              "    }\n",
              "\n",
              "    .dataframe tbody tr th {\n",
              "        vertical-align: top;\n",
              "    }\n",
              "\n",
              "    .dataframe thead th {\n",
              "        text-align: right;\n",
              "    }\n",
              "</style>\n",
              "<table border=\"1\" class=\"dataframe\">\n",
              "  <thead>\n",
              "    <tr style=\"text-align: right;\">\n",
              "      <th></th>\n",
              "      <th>companyName</th>\n",
              "      <th>companyUrl</th>\n",
              "      <th>jobTitle</th>\n",
              "      <th>dateRange</th>\n",
              "      <th>location</th>\n",
              "      <th>description</th>\n",
              "      <th>logoUrl</th>\n",
              "      <th>label</th>\n",
              "      <th>jobDescription</th>\n",
              "    </tr>\n",
              "    <tr>\n",
              "      <th>id</th>\n",
              "      <th></th>\n",
              "      <th></th>\n",
              "      <th></th>\n",
              "      <th></th>\n",
              "      <th></th>\n",
              "      <th></th>\n",
              "      <th></th>\n",
              "      <th></th>\n",
              "      <th></th>\n",
              "    </tr>\n",
              "  </thead>\n",
              "  <tbody>\n",
              "    <tr>\n",
              "      <th>548398365_1</th>\n",
              "      <td>CHEOPS TECHNOLOGY</td>\n",
              "      <td>https://www.linkedin.com/company/cheops-techno...</td>\n",
              "      <td>Ingénieur en data mining</td>\n",
              "      <td>sept. 2020 – sept. 2021</td>\n",
              "      <td>Bordeaux, Nouvelle-Aquitaine, France</td>\n",
              "      <td></td>\n",
              "      <td>https://media-exp1.licdn.com/dms/image/C560BAQ...</td>\n",
              "      <td>2.0</td>\n",
              "      <td>Ingénieur en data mining</td>\n",
              "    </tr>\n",
              "    <tr>\n",
              "      <th>551303934_0</th>\n",
              "      <td>ALTEN</td>\n",
              "      <td>https://www.linkedin.com/company/alten/</td>\n",
              "      <td>Stagiaire ingénieur en intelligence artificiel...</td>\n",
              "      <td>juil. 2021 – Aujourd’hui</td>\n",
              "      <td>Rennes, Bretagne, France</td>\n",
              "      <td>Conception et programmation pour une plateform...</td>\n",
              "      <td>https://media-exp1.licdn.com/dms/image/C4D0BAQ...</td>\n",
              "      <td>4.0</td>\n",
              "      <td>Stagiaire ingénieur en intelligence artificiel...</td>\n",
              "    </tr>\n",
              "    <tr>\n",
              "      <th>551303934_1</th>\n",
              "      <td>FRANCE SECURITE</td>\n",
              "      <td>https://www.linkedin.com/company/france-securite/</td>\n",
              "      <td>Stagiaire en développement logiciel</td>\n",
              "      <td>juin 2019 – août 2019</td>\n",
              "      <td>Bordeaux, Aquitaine, France</td>\n",
              "      <td>Développement et mises à jour d’applications c...</td>\n",
              "      <td>https://media-exp1.licdn.com/dms/image/C4D0BAQ...</td>\n",
              "      <td>2.0</td>\n",
              "      <td>Stagiaire en développement logiciel Développem...</td>\n",
              "    </tr>\n",
              "    <tr>\n",
              "      <th>551303934_2</th>\n",
              "      <td>OASU (Observatoire Aquitain des Sciences de l'...</td>\n",
              "      <td>None</td>\n",
              "      <td>Stagiaire en développement Web</td>\n",
              "      <td>avr. 2018 – juin 2018</td>\n",
              "      <td>Bordeaux, Aquitaine, France</td>\n",
              "      <td>Création et évolution d’une application Web d’...</td>\n",
              "      <td></td>\n",
              "      <td>1.0</td>\n",
              "      <td>Stagiaire en développement Web Création et évo...</td>\n",
              "    </tr>\n",
              "    <tr>\n",
              "      <th>551303934_3</th>\n",
              "      <td>ADDEO</td>\n",
              "      <td>https://www.linkedin.com/company/addeo/</td>\n",
              "      <td>Stagiaire en développement Web</td>\n",
              "      <td>avr. 2016 – juin 2016</td>\n",
              "      <td>Bordeaux, Aquitaine, France</td>\n",
              "      <td>Portage d’une application en PHP 7, mises à jo...</td>\n",
              "      <td>https://media-exp1.licdn.com/dms/image/C4E0BAQ...</td>\n",
              "      <td>0.0</td>\n",
              "      <td>Stagiaire en développement Web Portage d’une a...</td>\n",
              "    </tr>\n",
              "  </tbody>\n",
              "</table>\n",
              "</div>\n",
              "      <button class=\"colab-df-convert\" onclick=\"convertToInteractive('df-02061f18-64fe-470c-9eb4-f012c3a3772a')\"\n",
              "              title=\"Convert this dataframe to an interactive table.\"\n",
              "              style=\"display:none;\">\n",
              "        \n",
              "  <svg xmlns=\"http://www.w3.org/2000/svg\" height=\"24px\"viewBox=\"0 0 24 24\"\n",
              "       width=\"24px\">\n",
              "    <path d=\"M0 0h24v24H0V0z\" fill=\"none\"/>\n",
              "    <path d=\"M18.56 5.44l.94 2.06.94-2.06 2.06-.94-2.06-.94-.94-2.06-.94 2.06-2.06.94zm-11 1L8.5 8.5l.94-2.06 2.06-.94-2.06-.94L8.5 2.5l-.94 2.06-2.06.94zm10 10l.94 2.06.94-2.06 2.06-.94-2.06-.94-.94-2.06-.94 2.06-2.06.94z\"/><path d=\"M17.41 7.96l-1.37-1.37c-.4-.4-.92-.59-1.43-.59-.52 0-1.04.2-1.43.59L10.3 9.45l-7.72 7.72c-.78.78-.78 2.05 0 2.83L4 21.41c.39.39.9.59 1.41.59.51 0 1.02-.2 1.41-.59l7.78-7.78 2.81-2.81c.8-.78.8-2.07 0-2.86zM5.41 20L4 18.59l7.72-7.72 1.47 1.35L5.41 20z\"/>\n",
              "  </svg>\n",
              "      </button>\n",
              "      \n",
              "  <style>\n",
              "    .colab-df-container {\n",
              "      display:flex;\n",
              "      flex-wrap:wrap;\n",
              "      gap: 12px;\n",
              "    }\n",
              "\n",
              "    .colab-df-convert {\n",
              "      background-color: #E8F0FE;\n",
              "      border: none;\n",
              "      border-radius: 50%;\n",
              "      cursor: pointer;\n",
              "      display: none;\n",
              "      fill: #1967D2;\n",
              "      height: 32px;\n",
              "      padding: 0 0 0 0;\n",
              "      width: 32px;\n",
              "    }\n",
              "\n",
              "    .colab-df-convert:hover {\n",
              "      background-color: #E2EBFA;\n",
              "      box-shadow: 0px 1px 2px rgba(60, 64, 67, 0.3), 0px 1px 3px 1px rgba(60, 64, 67, 0.15);\n",
              "      fill: #174EA6;\n",
              "    }\n",
              "\n",
              "    [theme=dark] .colab-df-convert {\n",
              "      background-color: #3B4455;\n",
              "      fill: #D2E3FC;\n",
              "    }\n",
              "\n",
              "    [theme=dark] .colab-df-convert:hover {\n",
              "      background-color: #434B5C;\n",
              "      box-shadow: 0px 1px 3px 1px rgba(0, 0, 0, 0.15);\n",
              "      filter: drop-shadow(0px 1px 2px rgba(0, 0, 0, 0.3));\n",
              "      fill: #FFFFFF;\n",
              "    }\n",
              "  </style>\n",
              "\n",
              "      <script>\n",
              "        const buttonEl =\n",
              "          document.querySelector('#df-02061f18-64fe-470c-9eb4-f012c3a3772a button.colab-df-convert');\n",
              "        buttonEl.style.display =\n",
              "          google.colab.kernel.accessAllowed ? 'block' : 'none';\n",
              "\n",
              "        async function convertToInteractive(key) {\n",
              "          const element = document.querySelector('#df-02061f18-64fe-470c-9eb4-f012c3a3772a');\n",
              "          const dataTable =\n",
              "            await google.colab.kernel.invokeFunction('convertToInteractive',\n",
              "                                                     [key], {});\n",
              "          if (!dataTable) return;\n",
              "\n",
              "          const docLinkHtml = 'Like what you see? Visit the ' +\n",
              "            '<a target=\"_blank\" href=https://colab.research.google.com/notebooks/data_table.ipynb>data table notebook</a>'\n",
              "            + ' to learn more about interactive tables.';\n",
              "          element.innerHTML = '';\n",
              "          dataTable['output_type'] = 'display_data';\n",
              "          await google.colab.output.renderOutput(dataTable, element);\n",
              "          const docLink = document.createElement('div');\n",
              "          docLink.innerHTML = docLinkHtml;\n",
              "          element.appendChild(docLink);\n",
              "        }\n",
              "      </script>\n",
              "    </div>\n",
              "  </div>\n",
              "  "
            ]
          },
          "metadata": {},
          "execution_count": 164
        }
      ],
      "source": [
        "df.head()"
      ]
    },
    {
      "cell_type": "markdown",
      "id": "KEl1S_GTglrL",
      "metadata": {
        "id": "KEl1S_GTglrL"
      },
      "source": [
        "### **Converting jobDescription column into lowercase**"
      ]
    },
    {
      "cell_type": "code",
      "execution_count": 165,
      "id": "WwPkgRGagPH6",
      "metadata": {
        "colab": {
          "base_uri": "https://localhost:8080/",
          "height": 561
        },
        "id": "WwPkgRGagPH6",
        "outputId": "b11f0616-880e-4266-bedd-e2c0b8625df6"
      },
      "outputs": [
        {
          "output_type": "execute_result",
          "data": {
            "text/plain": [
              "                                                   companyName  \\\n",
              "id                                                               \n",
              "548398365_1                                  CHEOPS TECHNOLOGY   \n",
              "551303934_0                                              ALTEN   \n",
              "551303934_1                                    FRANCE SECURITE   \n",
              "551303934_2  OASU (Observatoire Aquitain des Sciences de l'...   \n",
              "551303934_3                                              ADDEO   \n",
              "\n",
              "                                                    companyUrl  \\\n",
              "id                                                               \n",
              "548398365_1  https://www.linkedin.com/company/cheops-techno...   \n",
              "551303934_0            https://www.linkedin.com/company/alten/   \n",
              "551303934_1  https://www.linkedin.com/company/france-securite/   \n",
              "551303934_2                                               None   \n",
              "551303934_3            https://www.linkedin.com/company/addeo/   \n",
              "\n",
              "                                                      jobTitle  \\\n",
              "id                                                               \n",
              "548398365_1                           Ingénieur en data mining   \n",
              "551303934_0  Stagiaire ingénieur en intelligence artificiel...   \n",
              "551303934_1                Stagiaire en développement logiciel   \n",
              "551303934_2                     Stagiaire en développement Web   \n",
              "551303934_3                     Stagiaire en développement Web   \n",
              "\n",
              "                            dateRange                              location  \\\n",
              "id                                                                            \n",
              "548398365_1   sept. 2020 – sept. 2021  Bordeaux, Nouvelle-Aquitaine, France   \n",
              "551303934_0  juil. 2021 – Aujourd’hui              Rennes, Bretagne, France   \n",
              "551303934_1     juin 2019 – août 2019           Bordeaux, Aquitaine, France   \n",
              "551303934_2     avr. 2018 – juin 2018           Bordeaux, Aquitaine, France   \n",
              "551303934_3     avr. 2016 – juin 2016           Bordeaux, Aquitaine, France   \n",
              "\n",
              "                                                   description  \\\n",
              "id                                                               \n",
              "548398365_1                                                      \n",
              "551303934_0  Conception et programmation pour une plateform...   \n",
              "551303934_1  Développement et mises à jour d’applications c...   \n",
              "551303934_2  Création et évolution d’une application Web d’...   \n",
              "551303934_3  Portage d’une application en PHP 7, mises à jo...   \n",
              "\n",
              "                                                       logoUrl  label  \\\n",
              "id                                                                      \n",
              "548398365_1  https://media-exp1.licdn.com/dms/image/C560BAQ...    2.0   \n",
              "551303934_0  https://media-exp1.licdn.com/dms/image/C4D0BAQ...    4.0   \n",
              "551303934_1  https://media-exp1.licdn.com/dms/image/C4D0BAQ...    2.0   \n",
              "551303934_2                                                       1.0   \n",
              "551303934_3  https://media-exp1.licdn.com/dms/image/C4E0BAQ...    0.0   \n",
              "\n",
              "                                                jobDescription  \n",
              "id                                                              \n",
              "548398365_1                          ingénieur en data mining   \n",
              "551303934_0  stagiaire ingénieur en intelligence artificiel...  \n",
              "551303934_1  stagiaire en développement logiciel développem...  \n",
              "551303934_2  stagiaire en développement web création et évo...  \n",
              "551303934_3  stagiaire en développement web portage d’une a...  "
            ],
            "text/html": [
              "\n",
              "  <div id=\"df-0856c9b5-a002-4d4b-b5ad-68021d794686\">\n",
              "    <div class=\"colab-df-container\">\n",
              "      <div>\n",
              "<style scoped>\n",
              "    .dataframe tbody tr th:only-of-type {\n",
              "        vertical-align: middle;\n",
              "    }\n",
              "\n",
              "    .dataframe tbody tr th {\n",
              "        vertical-align: top;\n",
              "    }\n",
              "\n",
              "    .dataframe thead th {\n",
              "        text-align: right;\n",
              "    }\n",
              "</style>\n",
              "<table border=\"1\" class=\"dataframe\">\n",
              "  <thead>\n",
              "    <tr style=\"text-align: right;\">\n",
              "      <th></th>\n",
              "      <th>companyName</th>\n",
              "      <th>companyUrl</th>\n",
              "      <th>jobTitle</th>\n",
              "      <th>dateRange</th>\n",
              "      <th>location</th>\n",
              "      <th>description</th>\n",
              "      <th>logoUrl</th>\n",
              "      <th>label</th>\n",
              "      <th>jobDescription</th>\n",
              "    </tr>\n",
              "    <tr>\n",
              "      <th>id</th>\n",
              "      <th></th>\n",
              "      <th></th>\n",
              "      <th></th>\n",
              "      <th></th>\n",
              "      <th></th>\n",
              "      <th></th>\n",
              "      <th></th>\n",
              "      <th></th>\n",
              "      <th></th>\n",
              "    </tr>\n",
              "  </thead>\n",
              "  <tbody>\n",
              "    <tr>\n",
              "      <th>548398365_1</th>\n",
              "      <td>CHEOPS TECHNOLOGY</td>\n",
              "      <td>https://www.linkedin.com/company/cheops-techno...</td>\n",
              "      <td>Ingénieur en data mining</td>\n",
              "      <td>sept. 2020 – sept. 2021</td>\n",
              "      <td>Bordeaux, Nouvelle-Aquitaine, France</td>\n",
              "      <td></td>\n",
              "      <td>https://media-exp1.licdn.com/dms/image/C560BAQ...</td>\n",
              "      <td>2.0</td>\n",
              "      <td>ingénieur en data mining</td>\n",
              "    </tr>\n",
              "    <tr>\n",
              "      <th>551303934_0</th>\n",
              "      <td>ALTEN</td>\n",
              "      <td>https://www.linkedin.com/company/alten/</td>\n",
              "      <td>Stagiaire ingénieur en intelligence artificiel...</td>\n",
              "      <td>juil. 2021 – Aujourd’hui</td>\n",
              "      <td>Rennes, Bretagne, France</td>\n",
              "      <td>Conception et programmation pour une plateform...</td>\n",
              "      <td>https://media-exp1.licdn.com/dms/image/C4D0BAQ...</td>\n",
              "      <td>4.0</td>\n",
              "      <td>stagiaire ingénieur en intelligence artificiel...</td>\n",
              "    </tr>\n",
              "    <tr>\n",
              "      <th>551303934_1</th>\n",
              "      <td>FRANCE SECURITE</td>\n",
              "      <td>https://www.linkedin.com/company/france-securite/</td>\n",
              "      <td>Stagiaire en développement logiciel</td>\n",
              "      <td>juin 2019 – août 2019</td>\n",
              "      <td>Bordeaux, Aquitaine, France</td>\n",
              "      <td>Développement et mises à jour d’applications c...</td>\n",
              "      <td>https://media-exp1.licdn.com/dms/image/C4D0BAQ...</td>\n",
              "      <td>2.0</td>\n",
              "      <td>stagiaire en développement logiciel développem...</td>\n",
              "    </tr>\n",
              "    <tr>\n",
              "      <th>551303934_2</th>\n",
              "      <td>OASU (Observatoire Aquitain des Sciences de l'...</td>\n",
              "      <td>None</td>\n",
              "      <td>Stagiaire en développement Web</td>\n",
              "      <td>avr. 2018 – juin 2018</td>\n",
              "      <td>Bordeaux, Aquitaine, France</td>\n",
              "      <td>Création et évolution d’une application Web d’...</td>\n",
              "      <td></td>\n",
              "      <td>1.0</td>\n",
              "      <td>stagiaire en développement web création et évo...</td>\n",
              "    </tr>\n",
              "    <tr>\n",
              "      <th>551303934_3</th>\n",
              "      <td>ADDEO</td>\n",
              "      <td>https://www.linkedin.com/company/addeo/</td>\n",
              "      <td>Stagiaire en développement Web</td>\n",
              "      <td>avr. 2016 – juin 2016</td>\n",
              "      <td>Bordeaux, Aquitaine, France</td>\n",
              "      <td>Portage d’une application en PHP 7, mises à jo...</td>\n",
              "      <td>https://media-exp1.licdn.com/dms/image/C4E0BAQ...</td>\n",
              "      <td>0.0</td>\n",
              "      <td>stagiaire en développement web portage d’une a...</td>\n",
              "    </tr>\n",
              "  </tbody>\n",
              "</table>\n",
              "</div>\n",
              "      <button class=\"colab-df-convert\" onclick=\"convertToInteractive('df-0856c9b5-a002-4d4b-b5ad-68021d794686')\"\n",
              "              title=\"Convert this dataframe to an interactive table.\"\n",
              "              style=\"display:none;\">\n",
              "        \n",
              "  <svg xmlns=\"http://www.w3.org/2000/svg\" height=\"24px\"viewBox=\"0 0 24 24\"\n",
              "       width=\"24px\">\n",
              "    <path d=\"M0 0h24v24H0V0z\" fill=\"none\"/>\n",
              "    <path d=\"M18.56 5.44l.94 2.06.94-2.06 2.06-.94-2.06-.94-.94-2.06-.94 2.06-2.06.94zm-11 1L8.5 8.5l.94-2.06 2.06-.94-2.06-.94L8.5 2.5l-.94 2.06-2.06.94zm10 10l.94 2.06.94-2.06 2.06-.94-2.06-.94-.94-2.06-.94 2.06-2.06.94z\"/><path d=\"M17.41 7.96l-1.37-1.37c-.4-.4-.92-.59-1.43-.59-.52 0-1.04.2-1.43.59L10.3 9.45l-7.72 7.72c-.78.78-.78 2.05 0 2.83L4 21.41c.39.39.9.59 1.41.59.51 0 1.02-.2 1.41-.59l7.78-7.78 2.81-2.81c.8-.78.8-2.07 0-2.86zM5.41 20L4 18.59l7.72-7.72 1.47 1.35L5.41 20z\"/>\n",
              "  </svg>\n",
              "      </button>\n",
              "      \n",
              "  <style>\n",
              "    .colab-df-container {\n",
              "      display:flex;\n",
              "      flex-wrap:wrap;\n",
              "      gap: 12px;\n",
              "    }\n",
              "\n",
              "    .colab-df-convert {\n",
              "      background-color: #E8F0FE;\n",
              "      border: none;\n",
              "      border-radius: 50%;\n",
              "      cursor: pointer;\n",
              "      display: none;\n",
              "      fill: #1967D2;\n",
              "      height: 32px;\n",
              "      padding: 0 0 0 0;\n",
              "      width: 32px;\n",
              "    }\n",
              "\n",
              "    .colab-df-convert:hover {\n",
              "      background-color: #E2EBFA;\n",
              "      box-shadow: 0px 1px 2px rgba(60, 64, 67, 0.3), 0px 1px 3px 1px rgba(60, 64, 67, 0.15);\n",
              "      fill: #174EA6;\n",
              "    }\n",
              "\n",
              "    [theme=dark] .colab-df-convert {\n",
              "      background-color: #3B4455;\n",
              "      fill: #D2E3FC;\n",
              "    }\n",
              "\n",
              "    [theme=dark] .colab-df-convert:hover {\n",
              "      background-color: #434B5C;\n",
              "      box-shadow: 0px 1px 3px 1px rgba(0, 0, 0, 0.15);\n",
              "      filter: drop-shadow(0px 1px 2px rgba(0, 0, 0, 0.3));\n",
              "      fill: #FFFFFF;\n",
              "    }\n",
              "  </style>\n",
              "\n",
              "      <script>\n",
              "        const buttonEl =\n",
              "          document.querySelector('#df-0856c9b5-a002-4d4b-b5ad-68021d794686 button.colab-df-convert');\n",
              "        buttonEl.style.display =\n",
              "          google.colab.kernel.accessAllowed ? 'block' : 'none';\n",
              "\n",
              "        async function convertToInteractive(key) {\n",
              "          const element = document.querySelector('#df-0856c9b5-a002-4d4b-b5ad-68021d794686');\n",
              "          const dataTable =\n",
              "            await google.colab.kernel.invokeFunction('convertToInteractive',\n",
              "                                                     [key], {});\n",
              "          if (!dataTable) return;\n",
              "\n",
              "          const docLinkHtml = 'Like what you see? Visit the ' +\n",
              "            '<a target=\"_blank\" href=https://colab.research.google.com/notebooks/data_table.ipynb>data table notebook</a>'\n",
              "            + ' to learn more about interactive tables.';\n",
              "          element.innerHTML = '';\n",
              "          dataTable['output_type'] = 'display_data';\n",
              "          await google.colab.output.renderOutput(dataTable, element);\n",
              "          const docLink = document.createElement('div');\n",
              "          docLink.innerHTML = docLinkHtml;\n",
              "          element.appendChild(docLink);\n",
              "        }\n",
              "      </script>\n",
              "    </div>\n",
              "  </div>\n",
              "  "
            ]
          },
          "metadata": {},
          "execution_count": 165
        }
      ],
      "source": [
        "low = lambda s:s.lower()\n",
        "df['jobDescription']=df['jobDescription'].apply(low)\n",
        "df.head()"
      ]
    },
    {
      "cell_type": "markdown",
      "id": "8aGBeHZqVMPc",
      "metadata": {
        "id": "8aGBeHZqVMPc"
      },
      "source": [
        "### Removing stopwords"
      ]
    },
    {
      "cell_type": "code",
      "execution_count": 166,
      "id": "Z1fsPQXnSuKc",
      "metadata": {
        "colab": {
          "base_uri": "https://localhost:8080/"
        },
        "id": "Z1fsPQXnSuKc",
        "outputId": "b7dd4890-563c-4a90-d6e4-ad81ac64024e"
      },
      "outputs": [
        {
          "output_type": "stream",
          "name": "stderr",
          "text": [
            "[nltk_data] Downloading package stopwords to /root/nltk_data...\n",
            "[nltk_data]   Package stopwords is already up-to-date!\n"
          ]
        },
        {
          "output_type": "execute_result",
          "data": {
            "text/plain": [
              "True"
            ]
          },
          "metadata": {},
          "execution_count": 166
        }
      ],
      "source": [
        "nltk.download('stopwords')"
      ]
    },
    {
      "cell_type": "code",
      "execution_count": 167,
      "id": "MWxtHjPfUuhZ",
      "metadata": {
        "colab": {
          "base_uri": "https://localhost:8080/"
        },
        "id": "MWxtHjPfUuhZ",
        "outputId": "813dcf0f-371b-4724-a1a2-9b0b5ccb64fc"
      },
      "outputs": [
        {
          "output_type": "execute_result",
          "data": {
            "text/plain": [
              "{'ai',\n",
              " 'aie',\n",
              " 'aient',\n",
              " 'aies',\n",
              " 'ait',\n",
              " 'as',\n",
              " 'au',\n",
              " 'aura',\n",
              " 'aurai',\n",
              " 'auraient',\n",
              " 'aurais',\n",
              " 'aurait',\n",
              " 'auras',\n",
              " 'aurez',\n",
              " 'auriez',\n",
              " 'aurions',\n",
              " 'aurons',\n",
              " 'auront',\n",
              " 'aux',\n",
              " 'avaient',\n",
              " 'avais',\n",
              " 'avait',\n",
              " 'avec',\n",
              " 'avez',\n",
              " 'aviez',\n",
              " 'avions',\n",
              " 'avons',\n",
              " 'ayant',\n",
              " 'ayante',\n",
              " 'ayantes',\n",
              " 'ayants',\n",
              " 'ayez',\n",
              " 'ayons',\n",
              " 'c',\n",
              " 'ce',\n",
              " 'ces',\n",
              " 'd',\n",
              " 'dans',\n",
              " 'de',\n",
              " 'des',\n",
              " 'du',\n",
              " 'elle',\n",
              " 'en',\n",
              " 'es',\n",
              " 'est',\n",
              " 'et',\n",
              " 'eu',\n",
              " 'eue',\n",
              " 'eues',\n",
              " 'eurent',\n",
              " 'eus',\n",
              " 'eusse',\n",
              " 'eussent',\n",
              " 'eusses',\n",
              " 'eussiez',\n",
              " 'eussions',\n",
              " 'eut',\n",
              " 'eux',\n",
              " 'eûmes',\n",
              " 'eût',\n",
              " 'eûtes',\n",
              " 'furent',\n",
              " 'fus',\n",
              " 'fusse',\n",
              " 'fussent',\n",
              " 'fusses',\n",
              " 'fussiez',\n",
              " 'fussions',\n",
              " 'fut',\n",
              " 'fûmes',\n",
              " 'fût',\n",
              " 'fûtes',\n",
              " 'il',\n",
              " 'ils',\n",
              " 'j',\n",
              " 'je',\n",
              " 'l',\n",
              " 'la',\n",
              " 'le',\n",
              " 'les',\n",
              " 'leur',\n",
              " 'lui',\n",
              " 'm',\n",
              " 'ma',\n",
              " 'mais',\n",
              " 'me',\n",
              " 'mes',\n",
              " 'moi',\n",
              " 'mon',\n",
              " 'même',\n",
              " 'n',\n",
              " 'ne',\n",
              " 'nos',\n",
              " 'notre',\n",
              " 'nous',\n",
              " 'on',\n",
              " 'ont',\n",
              " 'ou',\n",
              " 'par',\n",
              " 'pas',\n",
              " 'pour',\n",
              " 'qu',\n",
              " 'que',\n",
              " 'qui',\n",
              " 's',\n",
              " 'sa',\n",
              " 'se',\n",
              " 'sera',\n",
              " 'serai',\n",
              " 'seraient',\n",
              " 'serais',\n",
              " 'serait',\n",
              " 'seras',\n",
              " 'serez',\n",
              " 'seriez',\n",
              " 'serions',\n",
              " 'serons',\n",
              " 'seront',\n",
              " 'ses',\n",
              " 'soient',\n",
              " 'sois',\n",
              " 'soit',\n",
              " 'sommes',\n",
              " 'son',\n",
              " 'sont',\n",
              " 'soyez',\n",
              " 'soyons',\n",
              " 'suis',\n",
              " 'sur',\n",
              " 't',\n",
              " 'ta',\n",
              " 'te',\n",
              " 'tes',\n",
              " 'toi',\n",
              " 'ton',\n",
              " 'tu',\n",
              " 'un',\n",
              " 'une',\n",
              " 'vos',\n",
              " 'votre',\n",
              " 'vous',\n",
              " 'y',\n",
              " 'à',\n",
              " 'étaient',\n",
              " 'étais',\n",
              " 'était',\n",
              " 'étant',\n",
              " 'étante',\n",
              " 'étantes',\n",
              " 'étants',\n",
              " 'étiez',\n",
              " 'étions',\n",
              " 'été',\n",
              " 'étée',\n",
              " 'étées',\n",
              " 'étés',\n",
              " 'êtes'}"
            ]
          },
          "metadata": {},
          "execution_count": 167
        }
      ],
      "source": [
        "set(stopwords.words('french'))"
      ]
    },
    {
      "cell_type": "code",
      "execution_count": 168,
      "id": "8H9DS4wEy1Oe",
      "metadata": {
        "colab": {
          "base_uri": "https://localhost:8080/"
        },
        "id": "8H9DS4wEy1Oe",
        "outputId": "3d7bdbf5-badc-4084-c508-5f2ecffeb9c8"
      },
      "outputs": [
        {
          "output_type": "execute_result",
          "data": {
            "text/plain": [
              "{'a',\n",
              " 'about',\n",
              " 'above',\n",
              " 'after',\n",
              " 'again',\n",
              " 'against',\n",
              " 'ain',\n",
              " 'all',\n",
              " 'am',\n",
              " 'an',\n",
              " 'and',\n",
              " 'any',\n",
              " 'are',\n",
              " 'aren',\n",
              " \"aren't\",\n",
              " 'as',\n",
              " 'at',\n",
              " 'be',\n",
              " 'because',\n",
              " 'been',\n",
              " 'before',\n",
              " 'being',\n",
              " 'below',\n",
              " 'between',\n",
              " 'both',\n",
              " 'but',\n",
              " 'by',\n",
              " 'can',\n",
              " 'couldn',\n",
              " \"couldn't\",\n",
              " 'd',\n",
              " 'did',\n",
              " 'didn',\n",
              " \"didn't\",\n",
              " 'do',\n",
              " 'does',\n",
              " 'doesn',\n",
              " \"doesn't\",\n",
              " 'doing',\n",
              " 'don',\n",
              " \"don't\",\n",
              " 'down',\n",
              " 'during',\n",
              " 'each',\n",
              " 'few',\n",
              " 'for',\n",
              " 'from',\n",
              " 'further',\n",
              " 'had',\n",
              " 'hadn',\n",
              " \"hadn't\",\n",
              " 'has',\n",
              " 'hasn',\n",
              " \"hasn't\",\n",
              " 'have',\n",
              " 'haven',\n",
              " \"haven't\",\n",
              " 'having',\n",
              " 'he',\n",
              " 'her',\n",
              " 'here',\n",
              " 'hers',\n",
              " 'herself',\n",
              " 'him',\n",
              " 'himself',\n",
              " 'his',\n",
              " 'how',\n",
              " 'i',\n",
              " 'if',\n",
              " 'in',\n",
              " 'into',\n",
              " 'is',\n",
              " 'isn',\n",
              " \"isn't\",\n",
              " 'it',\n",
              " \"it's\",\n",
              " 'its',\n",
              " 'itself',\n",
              " 'just',\n",
              " 'll',\n",
              " 'm',\n",
              " 'ma',\n",
              " 'me',\n",
              " 'mightn',\n",
              " \"mightn't\",\n",
              " 'more',\n",
              " 'most',\n",
              " 'mustn',\n",
              " \"mustn't\",\n",
              " 'my',\n",
              " 'myself',\n",
              " 'needn',\n",
              " \"needn't\",\n",
              " 'no',\n",
              " 'nor',\n",
              " 'not',\n",
              " 'now',\n",
              " 'o',\n",
              " 'of',\n",
              " 'off',\n",
              " 'on',\n",
              " 'once',\n",
              " 'only',\n",
              " 'or',\n",
              " 'other',\n",
              " 'our',\n",
              " 'ours',\n",
              " 'ourselves',\n",
              " 'out',\n",
              " 'over',\n",
              " 'own',\n",
              " 're',\n",
              " 's',\n",
              " 'same',\n",
              " 'shan',\n",
              " \"shan't\",\n",
              " 'she',\n",
              " \"she's\",\n",
              " 'should',\n",
              " \"should've\",\n",
              " 'shouldn',\n",
              " \"shouldn't\",\n",
              " 'so',\n",
              " 'some',\n",
              " 'such',\n",
              " 't',\n",
              " 'than',\n",
              " 'that',\n",
              " \"that'll\",\n",
              " 'the',\n",
              " 'their',\n",
              " 'theirs',\n",
              " 'them',\n",
              " 'themselves',\n",
              " 'then',\n",
              " 'there',\n",
              " 'these',\n",
              " 'they',\n",
              " 'this',\n",
              " 'those',\n",
              " 'through',\n",
              " 'to',\n",
              " 'too',\n",
              " 'under',\n",
              " 'until',\n",
              " 'up',\n",
              " 've',\n",
              " 'very',\n",
              " 'was',\n",
              " 'wasn',\n",
              " \"wasn't\",\n",
              " 'we',\n",
              " 'were',\n",
              " 'weren',\n",
              " \"weren't\",\n",
              " 'what',\n",
              " 'when',\n",
              " 'where',\n",
              " 'which',\n",
              " 'while',\n",
              " 'who',\n",
              " 'whom',\n",
              " 'why',\n",
              " 'will',\n",
              " 'with',\n",
              " 'won',\n",
              " \"won't\",\n",
              " 'wouldn',\n",
              " \"wouldn't\",\n",
              " 'y',\n",
              " 'you',\n",
              " \"you'd\",\n",
              " \"you'll\",\n",
              " \"you're\",\n",
              " \"you've\",\n",
              " 'your',\n",
              " 'yours',\n",
              " 'yourself',\n",
              " 'yourselves'}"
            ]
          },
          "metadata": {},
          "execution_count": 168
        }
      ],
      "source": [
        "set(stopwords.words('english'))"
      ]
    },
    {
      "cell_type": "code",
      "execution_count": 169,
      "id": "wADdiFNdbfoL",
      "metadata": {
        "id": "wADdiFNdbfoL"
      },
      "outputs": [],
      "source": [
        "# Removing the Stopwords using Lambda functions\n",
        "stop_wordsFr= stopwords.words('french')\n",
        "df['jobDescription_without_stopwords'] = df['jobDescription'].apply(lambda x: ' '.join([word for word in x.split() if word not in (stop_wordsFr)]))\n",
        "stop_wordsEn = stopwords.words('english')\n",
        "df['jobDescription_without_stopwords'] = df['jobDescription_without_stopwords'].apply(lambda x: ' '.join([word for word in x.split() if word not in (stop_wordsEn)]))"
      ]
    },
    {
      "cell_type": "code",
      "execution_count": 170,
      "id": "iPJmmzBM3-Uw",
      "metadata": {
        "colab": {
          "base_uri": "https://localhost:8080/",
          "height": 561
        },
        "id": "iPJmmzBM3-Uw",
        "outputId": "cf360da0-4c8c-4d36-bceb-5dd7f1193301"
      },
      "outputs": [
        {
          "output_type": "execute_result",
          "data": {
            "text/plain": [
              "                                                   companyName  \\\n",
              "id                                                               \n",
              "548398365_1                                  CHEOPS TECHNOLOGY   \n",
              "551303934_0                                              ALTEN   \n",
              "551303934_1                                    FRANCE SECURITE   \n",
              "551303934_2  OASU (Observatoire Aquitain des Sciences de l'...   \n",
              "551303934_3                                              ADDEO   \n",
              "\n",
              "                                                    companyUrl  \\\n",
              "id                                                               \n",
              "548398365_1  https://www.linkedin.com/company/cheops-techno...   \n",
              "551303934_0            https://www.linkedin.com/company/alten/   \n",
              "551303934_1  https://www.linkedin.com/company/france-securite/   \n",
              "551303934_2                                               None   \n",
              "551303934_3            https://www.linkedin.com/company/addeo/   \n",
              "\n",
              "                                                      jobTitle  \\\n",
              "id                                                               \n",
              "548398365_1                           Ingénieur en data mining   \n",
              "551303934_0  Stagiaire ingénieur en intelligence artificiel...   \n",
              "551303934_1                Stagiaire en développement logiciel   \n",
              "551303934_2                     Stagiaire en développement Web   \n",
              "551303934_3                     Stagiaire en développement Web   \n",
              "\n",
              "                            dateRange                              location  \\\n",
              "id                                                                            \n",
              "548398365_1   sept. 2020 – sept. 2021  Bordeaux, Nouvelle-Aquitaine, France   \n",
              "551303934_0  juil. 2021 – Aujourd’hui              Rennes, Bretagne, France   \n",
              "551303934_1     juin 2019 – août 2019           Bordeaux, Aquitaine, France   \n",
              "551303934_2     avr. 2018 – juin 2018           Bordeaux, Aquitaine, France   \n",
              "551303934_3     avr. 2016 – juin 2016           Bordeaux, Aquitaine, France   \n",
              "\n",
              "                                                   description  \\\n",
              "id                                                               \n",
              "548398365_1                                                      \n",
              "551303934_0  Conception et programmation pour une plateform...   \n",
              "551303934_1  Développement et mises à jour d’applications c...   \n",
              "551303934_2  Création et évolution d’une application Web d’...   \n",
              "551303934_3  Portage d’une application en PHP 7, mises à jo...   \n",
              "\n",
              "                                                       logoUrl  label  \\\n",
              "id                                                                      \n",
              "548398365_1  https://media-exp1.licdn.com/dms/image/C560BAQ...    2.0   \n",
              "551303934_0  https://media-exp1.licdn.com/dms/image/C4D0BAQ...    4.0   \n",
              "551303934_1  https://media-exp1.licdn.com/dms/image/C4D0BAQ...    2.0   \n",
              "551303934_2                                                       1.0   \n",
              "551303934_3  https://media-exp1.licdn.com/dms/image/C4E0BAQ...    0.0   \n",
              "\n",
              "                                                jobDescription  \\\n",
              "id                                                               \n",
              "548398365_1                          ingénieur en data mining    \n",
              "551303934_0  stagiaire ingénieur en intelligence artificiel...   \n",
              "551303934_1  stagiaire en développement logiciel développem...   \n",
              "551303934_2  stagiaire en développement web création et évo...   \n",
              "551303934_3  stagiaire en développement web portage d’une a...   \n",
              "\n",
              "                              jobDescription_without_stopwords  \n",
              "id                                                              \n",
              "548398365_1                              ingénieur data mining  \n",
              "551303934_0  stagiaire ingénieur intelligence artificielle ...  \n",
              "551303934_1  stagiaire développement logiciel développement...  \n",
              "551303934_2  stagiaire développement web création évolution...  \n",
              "551303934_3  stagiaire développement web portage d’une appl...  "
            ],
            "text/html": [
              "\n",
              "  <div id=\"df-6305aeff-b8f2-47cc-9d5d-ced24e689799\">\n",
              "    <div class=\"colab-df-container\">\n",
              "      <div>\n",
              "<style scoped>\n",
              "    .dataframe tbody tr th:only-of-type {\n",
              "        vertical-align: middle;\n",
              "    }\n",
              "\n",
              "    .dataframe tbody tr th {\n",
              "        vertical-align: top;\n",
              "    }\n",
              "\n",
              "    .dataframe thead th {\n",
              "        text-align: right;\n",
              "    }\n",
              "</style>\n",
              "<table border=\"1\" class=\"dataframe\">\n",
              "  <thead>\n",
              "    <tr style=\"text-align: right;\">\n",
              "      <th></th>\n",
              "      <th>companyName</th>\n",
              "      <th>companyUrl</th>\n",
              "      <th>jobTitle</th>\n",
              "      <th>dateRange</th>\n",
              "      <th>location</th>\n",
              "      <th>description</th>\n",
              "      <th>logoUrl</th>\n",
              "      <th>label</th>\n",
              "      <th>jobDescription</th>\n",
              "      <th>jobDescription_without_stopwords</th>\n",
              "    </tr>\n",
              "    <tr>\n",
              "      <th>id</th>\n",
              "      <th></th>\n",
              "      <th></th>\n",
              "      <th></th>\n",
              "      <th></th>\n",
              "      <th></th>\n",
              "      <th></th>\n",
              "      <th></th>\n",
              "      <th></th>\n",
              "      <th></th>\n",
              "      <th></th>\n",
              "    </tr>\n",
              "  </thead>\n",
              "  <tbody>\n",
              "    <tr>\n",
              "      <th>548398365_1</th>\n",
              "      <td>CHEOPS TECHNOLOGY</td>\n",
              "      <td>https://www.linkedin.com/company/cheops-techno...</td>\n",
              "      <td>Ingénieur en data mining</td>\n",
              "      <td>sept. 2020 – sept. 2021</td>\n",
              "      <td>Bordeaux, Nouvelle-Aquitaine, France</td>\n",
              "      <td></td>\n",
              "      <td>https://media-exp1.licdn.com/dms/image/C560BAQ...</td>\n",
              "      <td>2.0</td>\n",
              "      <td>ingénieur en data mining</td>\n",
              "      <td>ingénieur data mining</td>\n",
              "    </tr>\n",
              "    <tr>\n",
              "      <th>551303934_0</th>\n",
              "      <td>ALTEN</td>\n",
              "      <td>https://www.linkedin.com/company/alten/</td>\n",
              "      <td>Stagiaire ingénieur en intelligence artificiel...</td>\n",
              "      <td>juil. 2021 – Aujourd’hui</td>\n",
              "      <td>Rennes, Bretagne, France</td>\n",
              "      <td>Conception et programmation pour une plateform...</td>\n",
              "      <td>https://media-exp1.licdn.com/dms/image/C4D0BAQ...</td>\n",
              "      <td>4.0</td>\n",
              "      <td>stagiaire ingénieur en intelligence artificiel...</td>\n",
              "      <td>stagiaire ingénieur intelligence artificielle ...</td>\n",
              "    </tr>\n",
              "    <tr>\n",
              "      <th>551303934_1</th>\n",
              "      <td>FRANCE SECURITE</td>\n",
              "      <td>https://www.linkedin.com/company/france-securite/</td>\n",
              "      <td>Stagiaire en développement logiciel</td>\n",
              "      <td>juin 2019 – août 2019</td>\n",
              "      <td>Bordeaux, Aquitaine, France</td>\n",
              "      <td>Développement et mises à jour d’applications c...</td>\n",
              "      <td>https://media-exp1.licdn.com/dms/image/C4D0BAQ...</td>\n",
              "      <td>2.0</td>\n",
              "      <td>stagiaire en développement logiciel développem...</td>\n",
              "      <td>stagiaire développement logiciel développement...</td>\n",
              "    </tr>\n",
              "    <tr>\n",
              "      <th>551303934_2</th>\n",
              "      <td>OASU (Observatoire Aquitain des Sciences de l'...</td>\n",
              "      <td>None</td>\n",
              "      <td>Stagiaire en développement Web</td>\n",
              "      <td>avr. 2018 – juin 2018</td>\n",
              "      <td>Bordeaux, Aquitaine, France</td>\n",
              "      <td>Création et évolution d’une application Web d’...</td>\n",
              "      <td></td>\n",
              "      <td>1.0</td>\n",
              "      <td>stagiaire en développement web création et évo...</td>\n",
              "      <td>stagiaire développement web création évolution...</td>\n",
              "    </tr>\n",
              "    <tr>\n",
              "      <th>551303934_3</th>\n",
              "      <td>ADDEO</td>\n",
              "      <td>https://www.linkedin.com/company/addeo/</td>\n",
              "      <td>Stagiaire en développement Web</td>\n",
              "      <td>avr. 2016 – juin 2016</td>\n",
              "      <td>Bordeaux, Aquitaine, France</td>\n",
              "      <td>Portage d’une application en PHP 7, mises à jo...</td>\n",
              "      <td>https://media-exp1.licdn.com/dms/image/C4E0BAQ...</td>\n",
              "      <td>0.0</td>\n",
              "      <td>stagiaire en développement web portage d’une a...</td>\n",
              "      <td>stagiaire développement web portage d’une appl...</td>\n",
              "    </tr>\n",
              "  </tbody>\n",
              "</table>\n",
              "</div>\n",
              "      <button class=\"colab-df-convert\" onclick=\"convertToInteractive('df-6305aeff-b8f2-47cc-9d5d-ced24e689799')\"\n",
              "              title=\"Convert this dataframe to an interactive table.\"\n",
              "              style=\"display:none;\">\n",
              "        \n",
              "  <svg xmlns=\"http://www.w3.org/2000/svg\" height=\"24px\"viewBox=\"0 0 24 24\"\n",
              "       width=\"24px\">\n",
              "    <path d=\"M0 0h24v24H0V0z\" fill=\"none\"/>\n",
              "    <path d=\"M18.56 5.44l.94 2.06.94-2.06 2.06-.94-2.06-.94-.94-2.06-.94 2.06-2.06.94zm-11 1L8.5 8.5l.94-2.06 2.06-.94-2.06-.94L8.5 2.5l-.94 2.06-2.06.94zm10 10l.94 2.06.94-2.06 2.06-.94-2.06-.94-.94-2.06-.94 2.06-2.06.94z\"/><path d=\"M17.41 7.96l-1.37-1.37c-.4-.4-.92-.59-1.43-.59-.52 0-1.04.2-1.43.59L10.3 9.45l-7.72 7.72c-.78.78-.78 2.05 0 2.83L4 21.41c.39.39.9.59 1.41.59.51 0 1.02-.2 1.41-.59l7.78-7.78 2.81-2.81c.8-.78.8-2.07 0-2.86zM5.41 20L4 18.59l7.72-7.72 1.47 1.35L5.41 20z\"/>\n",
              "  </svg>\n",
              "      </button>\n",
              "      \n",
              "  <style>\n",
              "    .colab-df-container {\n",
              "      display:flex;\n",
              "      flex-wrap:wrap;\n",
              "      gap: 12px;\n",
              "    }\n",
              "\n",
              "    .colab-df-convert {\n",
              "      background-color: #E8F0FE;\n",
              "      border: none;\n",
              "      border-radius: 50%;\n",
              "      cursor: pointer;\n",
              "      display: none;\n",
              "      fill: #1967D2;\n",
              "      height: 32px;\n",
              "      padding: 0 0 0 0;\n",
              "      width: 32px;\n",
              "    }\n",
              "\n",
              "    .colab-df-convert:hover {\n",
              "      background-color: #E2EBFA;\n",
              "      box-shadow: 0px 1px 2px rgba(60, 64, 67, 0.3), 0px 1px 3px 1px rgba(60, 64, 67, 0.15);\n",
              "      fill: #174EA6;\n",
              "    }\n",
              "\n",
              "    [theme=dark] .colab-df-convert {\n",
              "      background-color: #3B4455;\n",
              "      fill: #D2E3FC;\n",
              "    }\n",
              "\n",
              "    [theme=dark] .colab-df-convert:hover {\n",
              "      background-color: #434B5C;\n",
              "      box-shadow: 0px 1px 3px 1px rgba(0, 0, 0, 0.15);\n",
              "      filter: drop-shadow(0px 1px 2px rgba(0, 0, 0, 0.3));\n",
              "      fill: #FFFFFF;\n",
              "    }\n",
              "  </style>\n",
              "\n",
              "      <script>\n",
              "        const buttonEl =\n",
              "          document.querySelector('#df-6305aeff-b8f2-47cc-9d5d-ced24e689799 button.colab-df-convert');\n",
              "        buttonEl.style.display =\n",
              "          google.colab.kernel.accessAllowed ? 'block' : 'none';\n",
              "\n",
              "        async function convertToInteractive(key) {\n",
              "          const element = document.querySelector('#df-6305aeff-b8f2-47cc-9d5d-ced24e689799');\n",
              "          const dataTable =\n",
              "            await google.colab.kernel.invokeFunction('convertToInteractive',\n",
              "                                                     [key], {});\n",
              "          if (!dataTable) return;\n",
              "\n",
              "          const docLinkHtml = 'Like what you see? Visit the ' +\n",
              "            '<a target=\"_blank\" href=https://colab.research.google.com/notebooks/data_table.ipynb>data table notebook</a>'\n",
              "            + ' to learn more about interactive tables.';\n",
              "          element.innerHTML = '';\n",
              "          dataTable['output_type'] = 'display_data';\n",
              "          await google.colab.output.renderOutput(dataTable, element);\n",
              "          const docLink = document.createElement('div');\n",
              "          docLink.innerHTML = docLinkHtml;\n",
              "          element.appendChild(docLink);\n",
              "        }\n",
              "      </script>\n",
              "    </div>\n",
              "  </div>\n",
              "  "
            ]
          },
          "metadata": {},
          "execution_count": 170
        }
      ],
      "source": [
        "df.head()"
      ]
    },
    {
      "cell_type": "markdown",
      "id": "rc8vxasMVXNE",
      "metadata": {
        "id": "rc8vxasMVXNE"
      },
      "source": [
        "### **Removing unecessary columns**"
      ]
    },
    {
      "cell_type": "code",
      "execution_count": 171,
      "id": "GYxEtVKHeA-k",
      "metadata": {
        "id": "GYxEtVKHeA-k"
      },
      "outputs": [],
      "source": [
        "df = df.drop(['companyUrl','dateRange','location','logoUrl','jobDescription'], axis=1)"
      ]
    },
    {
      "cell_type": "code",
      "execution_count": 172,
      "id": "ByjZBIjPfch8",
      "metadata": {
        "colab": {
          "base_uri": "https://localhost:8080/",
          "height": 351
        },
        "id": "ByjZBIjPfch8",
        "outputId": "58243b6c-011e-4708-cf11-e7c768686b5f"
      },
      "outputs": [
        {
          "output_type": "execute_result",
          "data": {
            "text/plain": [
              "                                                   companyName  \\\n",
              "id                                                               \n",
              "548398365_1                                  CHEOPS TECHNOLOGY   \n",
              "551303934_0                                              ALTEN   \n",
              "551303934_1                                    FRANCE SECURITE   \n",
              "551303934_2  OASU (Observatoire Aquitain des Sciences de l'...   \n",
              "551303934_3                                              ADDEO   \n",
              "\n",
              "                                                      jobTitle  \\\n",
              "id                                                               \n",
              "548398365_1                           Ingénieur en data mining   \n",
              "551303934_0  Stagiaire ingénieur en intelligence artificiel...   \n",
              "551303934_1                Stagiaire en développement logiciel   \n",
              "551303934_2                     Stagiaire en développement Web   \n",
              "551303934_3                     Stagiaire en développement Web   \n",
              "\n",
              "                                                   description  label  \\\n",
              "id                                                                      \n",
              "548398365_1                                                       2.0   \n",
              "551303934_0  Conception et programmation pour une plateform...    4.0   \n",
              "551303934_1  Développement et mises à jour d’applications c...    2.0   \n",
              "551303934_2  Création et évolution d’une application Web d’...    1.0   \n",
              "551303934_3  Portage d’une application en PHP 7, mises à jo...    0.0   \n",
              "\n",
              "                              jobDescription_without_stopwords  \n",
              "id                                                              \n",
              "548398365_1                              ingénieur data mining  \n",
              "551303934_0  stagiaire ingénieur intelligence artificielle ...  \n",
              "551303934_1  stagiaire développement logiciel développement...  \n",
              "551303934_2  stagiaire développement web création évolution...  \n",
              "551303934_3  stagiaire développement web portage d’une appl...  "
            ],
            "text/html": [
              "\n",
              "  <div id=\"df-a06e42ce-2f3b-4962-b275-870da0dd4bfe\">\n",
              "    <div class=\"colab-df-container\">\n",
              "      <div>\n",
              "<style scoped>\n",
              "    .dataframe tbody tr th:only-of-type {\n",
              "        vertical-align: middle;\n",
              "    }\n",
              "\n",
              "    .dataframe tbody tr th {\n",
              "        vertical-align: top;\n",
              "    }\n",
              "\n",
              "    .dataframe thead th {\n",
              "        text-align: right;\n",
              "    }\n",
              "</style>\n",
              "<table border=\"1\" class=\"dataframe\">\n",
              "  <thead>\n",
              "    <tr style=\"text-align: right;\">\n",
              "      <th></th>\n",
              "      <th>companyName</th>\n",
              "      <th>jobTitle</th>\n",
              "      <th>description</th>\n",
              "      <th>label</th>\n",
              "      <th>jobDescription_without_stopwords</th>\n",
              "    </tr>\n",
              "    <tr>\n",
              "      <th>id</th>\n",
              "      <th></th>\n",
              "      <th></th>\n",
              "      <th></th>\n",
              "      <th></th>\n",
              "      <th></th>\n",
              "    </tr>\n",
              "  </thead>\n",
              "  <tbody>\n",
              "    <tr>\n",
              "      <th>548398365_1</th>\n",
              "      <td>CHEOPS TECHNOLOGY</td>\n",
              "      <td>Ingénieur en data mining</td>\n",
              "      <td></td>\n",
              "      <td>2.0</td>\n",
              "      <td>ingénieur data mining</td>\n",
              "    </tr>\n",
              "    <tr>\n",
              "      <th>551303934_0</th>\n",
              "      <td>ALTEN</td>\n",
              "      <td>Stagiaire ingénieur en intelligence artificiel...</td>\n",
              "      <td>Conception et programmation pour une plateform...</td>\n",
              "      <td>4.0</td>\n",
              "      <td>stagiaire ingénieur intelligence artificielle ...</td>\n",
              "    </tr>\n",
              "    <tr>\n",
              "      <th>551303934_1</th>\n",
              "      <td>FRANCE SECURITE</td>\n",
              "      <td>Stagiaire en développement logiciel</td>\n",
              "      <td>Développement et mises à jour d’applications c...</td>\n",
              "      <td>2.0</td>\n",
              "      <td>stagiaire développement logiciel développement...</td>\n",
              "    </tr>\n",
              "    <tr>\n",
              "      <th>551303934_2</th>\n",
              "      <td>OASU (Observatoire Aquitain des Sciences de l'...</td>\n",
              "      <td>Stagiaire en développement Web</td>\n",
              "      <td>Création et évolution d’une application Web d’...</td>\n",
              "      <td>1.0</td>\n",
              "      <td>stagiaire développement web création évolution...</td>\n",
              "    </tr>\n",
              "    <tr>\n",
              "      <th>551303934_3</th>\n",
              "      <td>ADDEO</td>\n",
              "      <td>Stagiaire en développement Web</td>\n",
              "      <td>Portage d’une application en PHP 7, mises à jo...</td>\n",
              "      <td>0.0</td>\n",
              "      <td>stagiaire développement web portage d’une appl...</td>\n",
              "    </tr>\n",
              "  </tbody>\n",
              "</table>\n",
              "</div>\n",
              "      <button class=\"colab-df-convert\" onclick=\"convertToInteractive('df-a06e42ce-2f3b-4962-b275-870da0dd4bfe')\"\n",
              "              title=\"Convert this dataframe to an interactive table.\"\n",
              "              style=\"display:none;\">\n",
              "        \n",
              "  <svg xmlns=\"http://www.w3.org/2000/svg\" height=\"24px\"viewBox=\"0 0 24 24\"\n",
              "       width=\"24px\">\n",
              "    <path d=\"M0 0h24v24H0V0z\" fill=\"none\"/>\n",
              "    <path d=\"M18.56 5.44l.94 2.06.94-2.06 2.06-.94-2.06-.94-.94-2.06-.94 2.06-2.06.94zm-11 1L8.5 8.5l.94-2.06 2.06-.94-2.06-.94L8.5 2.5l-.94 2.06-2.06.94zm10 10l.94 2.06.94-2.06 2.06-.94-2.06-.94-.94-2.06-.94 2.06-2.06.94z\"/><path d=\"M17.41 7.96l-1.37-1.37c-.4-.4-.92-.59-1.43-.59-.52 0-1.04.2-1.43.59L10.3 9.45l-7.72 7.72c-.78.78-.78 2.05 0 2.83L4 21.41c.39.39.9.59 1.41.59.51 0 1.02-.2 1.41-.59l7.78-7.78 2.81-2.81c.8-.78.8-2.07 0-2.86zM5.41 20L4 18.59l7.72-7.72 1.47 1.35L5.41 20z\"/>\n",
              "  </svg>\n",
              "      </button>\n",
              "      \n",
              "  <style>\n",
              "    .colab-df-container {\n",
              "      display:flex;\n",
              "      flex-wrap:wrap;\n",
              "      gap: 12px;\n",
              "    }\n",
              "\n",
              "    .colab-df-convert {\n",
              "      background-color: #E8F0FE;\n",
              "      border: none;\n",
              "      border-radius: 50%;\n",
              "      cursor: pointer;\n",
              "      display: none;\n",
              "      fill: #1967D2;\n",
              "      height: 32px;\n",
              "      padding: 0 0 0 0;\n",
              "      width: 32px;\n",
              "    }\n",
              "\n",
              "    .colab-df-convert:hover {\n",
              "      background-color: #E2EBFA;\n",
              "      box-shadow: 0px 1px 2px rgba(60, 64, 67, 0.3), 0px 1px 3px 1px rgba(60, 64, 67, 0.15);\n",
              "      fill: #174EA6;\n",
              "    }\n",
              "\n",
              "    [theme=dark] .colab-df-convert {\n",
              "      background-color: #3B4455;\n",
              "      fill: #D2E3FC;\n",
              "    }\n",
              "\n",
              "    [theme=dark] .colab-df-convert:hover {\n",
              "      background-color: #434B5C;\n",
              "      box-shadow: 0px 1px 3px 1px rgba(0, 0, 0, 0.15);\n",
              "      filter: drop-shadow(0px 1px 2px rgba(0, 0, 0, 0.3));\n",
              "      fill: #FFFFFF;\n",
              "    }\n",
              "  </style>\n",
              "\n",
              "      <script>\n",
              "        const buttonEl =\n",
              "          document.querySelector('#df-a06e42ce-2f3b-4962-b275-870da0dd4bfe button.colab-df-convert');\n",
              "        buttonEl.style.display =\n",
              "          google.colab.kernel.accessAllowed ? 'block' : 'none';\n",
              "\n",
              "        async function convertToInteractive(key) {\n",
              "          const element = document.querySelector('#df-a06e42ce-2f3b-4962-b275-870da0dd4bfe');\n",
              "          const dataTable =\n",
              "            await google.colab.kernel.invokeFunction('convertToInteractive',\n",
              "                                                     [key], {});\n",
              "          if (!dataTable) return;\n",
              "\n",
              "          const docLinkHtml = 'Like what you see? Visit the ' +\n",
              "            '<a target=\"_blank\" href=https://colab.research.google.com/notebooks/data_table.ipynb>data table notebook</a>'\n",
              "            + ' to learn more about interactive tables.';\n",
              "          element.innerHTML = '';\n",
              "          dataTable['output_type'] = 'display_data';\n",
              "          await google.colab.output.renderOutput(dataTable, element);\n",
              "          const docLink = document.createElement('div');\n",
              "          docLink.innerHTML = docLinkHtml;\n",
              "          element.appendChild(docLink);\n",
              "        }\n",
              "      </script>\n",
              "    </div>\n",
              "  </div>\n",
              "  "
            ]
          },
          "metadata": {},
          "execution_count": 172
        }
      ],
      "source": [
        "df.head()"
      ]
    },
    {
      "cell_type": "markdown",
      "id": "RSdDgDca5Wu2",
      "metadata": {
        "id": "RSdDgDca5Wu2"
      },
      "source": [
        "### **Relabelling the label column**"
      ]
    },
    {
      "cell_type": "code",
      "execution_count": 173,
      "id": "Bonro1sw6Un3",
      "metadata": {
        "colab": {
          "base_uri": "https://localhost:8080/",
          "height": 351
        },
        "id": "Bonro1sw6Un3",
        "outputId": "8e701bd6-9769-4aba-cdc4-1d3d8772934b"
      },
      "outputs": [
        {
          "output_type": "execute_result",
          "data": {
            "text/plain": [
              "                                                   companyName  \\\n",
              "id                                                               \n",
              "548398365_1                                  CHEOPS TECHNOLOGY   \n",
              "551303934_0                                              ALTEN   \n",
              "551303934_1                                    FRANCE SECURITE   \n",
              "551303934_2  OASU (Observatoire Aquitain des Sciences de l'...   \n",
              "551303934_3                                              ADDEO   \n",
              "\n",
              "                                                      jobTitle  \\\n",
              "id                                                               \n",
              "548398365_1                           Ingénieur en data mining   \n",
              "551303934_0  Stagiaire ingénieur en intelligence artificiel...   \n",
              "551303934_1                Stagiaire en développement logiciel   \n",
              "551303934_2                     Stagiaire en développement Web   \n",
              "551303934_3                     Stagiaire en développement Web   \n",
              "\n",
              "                                                   description  label  \\\n",
              "id                                                                      \n",
              "548398365_1                                                       0.0   \n",
              "551303934_0  Conception et programmation pour une plateform...    1.0   \n",
              "551303934_1  Développement et mises à jour d’applications c...    0.0   \n",
              "551303934_2  Création et évolution d’une application Web d’...    0.0   \n",
              "551303934_3  Portage d’une application en PHP 7, mises à jo...    0.0   \n",
              "\n",
              "                              jobDescription_without_stopwords  \n",
              "id                                                              \n",
              "548398365_1                              ingénieur data mining  \n",
              "551303934_0  stagiaire ingénieur intelligence artificielle ...  \n",
              "551303934_1  stagiaire développement logiciel développement...  \n",
              "551303934_2  stagiaire développement web création évolution...  \n",
              "551303934_3  stagiaire développement web portage d’une appl...  "
            ],
            "text/html": [
              "\n",
              "  <div id=\"df-da67cccf-7270-4d93-b2f0-cde6a6b64b50\">\n",
              "    <div class=\"colab-df-container\">\n",
              "      <div>\n",
              "<style scoped>\n",
              "    .dataframe tbody tr th:only-of-type {\n",
              "        vertical-align: middle;\n",
              "    }\n",
              "\n",
              "    .dataframe tbody tr th {\n",
              "        vertical-align: top;\n",
              "    }\n",
              "\n",
              "    .dataframe thead th {\n",
              "        text-align: right;\n",
              "    }\n",
              "</style>\n",
              "<table border=\"1\" class=\"dataframe\">\n",
              "  <thead>\n",
              "    <tr style=\"text-align: right;\">\n",
              "      <th></th>\n",
              "      <th>companyName</th>\n",
              "      <th>jobTitle</th>\n",
              "      <th>description</th>\n",
              "      <th>label</th>\n",
              "      <th>jobDescription_without_stopwords</th>\n",
              "    </tr>\n",
              "    <tr>\n",
              "      <th>id</th>\n",
              "      <th></th>\n",
              "      <th></th>\n",
              "      <th></th>\n",
              "      <th></th>\n",
              "      <th></th>\n",
              "    </tr>\n",
              "  </thead>\n",
              "  <tbody>\n",
              "    <tr>\n",
              "      <th>548398365_1</th>\n",
              "      <td>CHEOPS TECHNOLOGY</td>\n",
              "      <td>Ingénieur en data mining</td>\n",
              "      <td></td>\n",
              "      <td>0.0</td>\n",
              "      <td>ingénieur data mining</td>\n",
              "    </tr>\n",
              "    <tr>\n",
              "      <th>551303934_0</th>\n",
              "      <td>ALTEN</td>\n",
              "      <td>Stagiaire ingénieur en intelligence artificiel...</td>\n",
              "      <td>Conception et programmation pour une plateform...</td>\n",
              "      <td>1.0</td>\n",
              "      <td>stagiaire ingénieur intelligence artificielle ...</td>\n",
              "    </tr>\n",
              "    <tr>\n",
              "      <th>551303934_1</th>\n",
              "      <td>FRANCE SECURITE</td>\n",
              "      <td>Stagiaire en développement logiciel</td>\n",
              "      <td>Développement et mises à jour d’applications c...</td>\n",
              "      <td>0.0</td>\n",
              "      <td>stagiaire développement logiciel développement...</td>\n",
              "    </tr>\n",
              "    <tr>\n",
              "      <th>551303934_2</th>\n",
              "      <td>OASU (Observatoire Aquitain des Sciences de l'...</td>\n",
              "      <td>Stagiaire en développement Web</td>\n",
              "      <td>Création et évolution d’une application Web d’...</td>\n",
              "      <td>0.0</td>\n",
              "      <td>stagiaire développement web création évolution...</td>\n",
              "    </tr>\n",
              "    <tr>\n",
              "      <th>551303934_3</th>\n",
              "      <td>ADDEO</td>\n",
              "      <td>Stagiaire en développement Web</td>\n",
              "      <td>Portage d’une application en PHP 7, mises à jo...</td>\n",
              "      <td>0.0</td>\n",
              "      <td>stagiaire développement web portage d’une appl...</td>\n",
              "    </tr>\n",
              "  </tbody>\n",
              "</table>\n",
              "</div>\n",
              "      <button class=\"colab-df-convert\" onclick=\"convertToInteractive('df-da67cccf-7270-4d93-b2f0-cde6a6b64b50')\"\n",
              "              title=\"Convert this dataframe to an interactive table.\"\n",
              "              style=\"display:none;\">\n",
              "        \n",
              "  <svg xmlns=\"http://www.w3.org/2000/svg\" height=\"24px\"viewBox=\"0 0 24 24\"\n",
              "       width=\"24px\">\n",
              "    <path d=\"M0 0h24v24H0V0z\" fill=\"none\"/>\n",
              "    <path d=\"M18.56 5.44l.94 2.06.94-2.06 2.06-.94-2.06-.94-.94-2.06-.94 2.06-2.06.94zm-11 1L8.5 8.5l.94-2.06 2.06-.94-2.06-.94L8.5 2.5l-.94 2.06-2.06.94zm10 10l.94 2.06.94-2.06 2.06-.94-2.06-.94-.94-2.06-.94 2.06-2.06.94z\"/><path d=\"M17.41 7.96l-1.37-1.37c-.4-.4-.92-.59-1.43-.59-.52 0-1.04.2-1.43.59L10.3 9.45l-7.72 7.72c-.78.78-.78 2.05 0 2.83L4 21.41c.39.39.9.59 1.41.59.51 0 1.02-.2 1.41-.59l7.78-7.78 2.81-2.81c.8-.78.8-2.07 0-2.86zM5.41 20L4 18.59l7.72-7.72 1.47 1.35L5.41 20z\"/>\n",
              "  </svg>\n",
              "      </button>\n",
              "      \n",
              "  <style>\n",
              "    .colab-df-container {\n",
              "      display:flex;\n",
              "      flex-wrap:wrap;\n",
              "      gap: 12px;\n",
              "    }\n",
              "\n",
              "    .colab-df-convert {\n",
              "      background-color: #E8F0FE;\n",
              "      border: none;\n",
              "      border-radius: 50%;\n",
              "      cursor: pointer;\n",
              "      display: none;\n",
              "      fill: #1967D2;\n",
              "      height: 32px;\n",
              "      padding: 0 0 0 0;\n",
              "      width: 32px;\n",
              "    }\n",
              "\n",
              "    .colab-df-convert:hover {\n",
              "      background-color: #E2EBFA;\n",
              "      box-shadow: 0px 1px 2px rgba(60, 64, 67, 0.3), 0px 1px 3px 1px rgba(60, 64, 67, 0.15);\n",
              "      fill: #174EA6;\n",
              "    }\n",
              "\n",
              "    [theme=dark] .colab-df-convert {\n",
              "      background-color: #3B4455;\n",
              "      fill: #D2E3FC;\n",
              "    }\n",
              "\n",
              "    [theme=dark] .colab-df-convert:hover {\n",
              "      background-color: #434B5C;\n",
              "      box-shadow: 0px 1px 3px 1px rgba(0, 0, 0, 0.15);\n",
              "      filter: drop-shadow(0px 1px 2px rgba(0, 0, 0, 0.3));\n",
              "      fill: #FFFFFF;\n",
              "    }\n",
              "  </style>\n",
              "\n",
              "      <script>\n",
              "        const buttonEl =\n",
              "          document.querySelector('#df-da67cccf-7270-4d93-b2f0-cde6a6b64b50 button.colab-df-convert');\n",
              "        buttonEl.style.display =\n",
              "          google.colab.kernel.accessAllowed ? 'block' : 'none';\n",
              "\n",
              "        async function convertToInteractive(key) {\n",
              "          const element = document.querySelector('#df-da67cccf-7270-4d93-b2f0-cde6a6b64b50');\n",
              "          const dataTable =\n",
              "            await google.colab.kernel.invokeFunction('convertToInteractive',\n",
              "                                                     [key], {});\n",
              "          if (!dataTable) return;\n",
              "\n",
              "          const docLinkHtml = 'Like what you see? Visit the ' +\n",
              "            '<a target=\"_blank\" href=https://colab.research.google.com/notebooks/data_table.ipynb>data table notebook</a>'\n",
              "            + ' to learn more about interactive tables.';\n",
              "          element.innerHTML = '';\n",
              "          dataTable['output_type'] = 'display_data';\n",
              "          await google.colab.output.renderOutput(dataTable, element);\n",
              "          const docLink = document.createElement('div');\n",
              "          docLink.innerHTML = docLinkHtml;\n",
              "          element.appendChild(docLink);\n",
              "        }\n",
              "      </script>\n",
              "    </div>\n",
              "  </div>\n",
              "  "
            ]
          },
          "metadata": {},
          "execution_count": 173
        }
      ],
      "source": [
        "df['label']=df['label'].replace([0.0,1.0,2.0],0.0)\n",
        "df['label']=df['label'].replace([3.0,4.0],1.0)\n",
        "df.head()"
      ]
    },
    {
      "cell_type": "markdown",
      "id": "hcr7eNuxgGNm",
      "metadata": {
        "id": "hcr7eNuxgGNm"
      },
      "source": [
        "# 4. Exploratory data analysis (EDA)"
      ]
    },
    {
      "cell_type": "code",
      "execution_count": 174,
      "id": "0CzOfwX-gMKF",
      "metadata": {
        "id": "0CzOfwX-gMKF",
        "colab": {
          "base_uri": "https://localhost:8080/",
          "height": 449
        },
        "outputId": "c5ffed52-14cf-4142-acf6-e3892d6cba1c"
      },
      "outputs": [
        {
          "output_type": "display_data",
          "data": {
            "text/plain": [
              "<Figure size 640x480 with 1 Axes>"
            ],
            "image/png": "[encoded data removed]"
          },
          "metadata": {}
        }
      ],
      "source": [
        "#Count plot to visualize the 'label' column\n",
        "sns.countplot(data=df,x='label')\n",
        "plt.show()"
      ]
    },
    {
      "cell_type": "code",
      "execution_count": 175,
      "id": "f47f77ed",
      "metadata": {
        "colab": {
          "base_uri": "https://localhost:8080/",
          "height": 428
        },
        "id": "f47f77ed",
        "outputId": "3d1db1af-aefd-4095-add9-b9dab8ebd663"
      },
      "outputs": [
        {
          "output_type": "display_data",
          "data": {
            "text/plain": [
              "<Figure size 640x480 with 1 Axes>"
            ],
            "image/png": "[encoded data removed]"
          },
          "metadata": {}
        }
      ],
      "source": [
        "# define Seaborn color palette to use\n",
        "palette_color = sns.color_palette('bright')\n",
        "\n",
        "labels = [\"Previously Didn't Worked on AI\",\"Previously Worked on AI\"]\n",
        "# plotting data on chart\n",
        "plt.pie(df.label.value_counts(),labels=labels,shadow=True,wedgeprops = {\"edgecolor\" : \"black\",\n",
        "                      'linewidth': 1,\n",
        "                      'antialiased': True}, colors=palette_color,autopct='%.0f%%')\n",
        "\n",
        "plt.title(\"Employe's Previous Experience\")\n",
        "# displaying chart\n",
        "plt.show()"
      ]
    },
    {
      "cell_type": "markdown",
      "id": "0fc81f4f",
      "metadata": {
        "id": "0fc81f4f"
      },
      "source": [
        "# 5. Feature Selection and Feature Engineering"
      ]
    },
    {
      "cell_type": "code",
      "execution_count": 176,
      "id": "-gXKwTfGmNUn",
      "metadata": {
        "colab": {
          "base_uri": "https://localhost:8080/",
          "height": 351
        },
        "id": "-gXKwTfGmNUn",
        "outputId": "3a3cced9-213e-429e-caeb-d0073f75fab6"
      },
      "outputs": [
        {
          "output_type": "execute_result",
          "data": {
            "text/plain": [
              "                                                   companyName  \\\n",
              "id                                                               \n",
              "548398365_1                                  CHEOPS TECHNOLOGY   \n",
              "551303934_0                                              ALTEN   \n",
              "551303934_1                                    FRANCE SECURITE   \n",
              "551303934_2  OASU (Observatoire Aquitain des Sciences de l'...   \n",
              "551303934_3                                              ADDEO   \n",
              "\n",
              "                                                      jobTitle  \\\n",
              "id                                                               \n",
              "548398365_1                           Ingénieur en data mining   \n",
              "551303934_0  Stagiaire ingénieur en intelligence artificiel...   \n",
              "551303934_1                Stagiaire en développement logiciel   \n",
              "551303934_2                     Stagiaire en développement Web   \n",
              "551303934_3                     Stagiaire en développement Web   \n",
              "\n",
              "                                                   description  label  \\\n",
              "id                                                                      \n",
              "548398365_1                                                       0.0   \n",
              "551303934_0  Conception et programmation pour une plateform...    1.0   \n",
              "551303934_1  Développement et mises à jour d’applications c...    0.0   \n",
              "551303934_2  Création et évolution d’une application Web d’...    0.0   \n",
              "551303934_3  Portage d’une application en PHP 7, mises à jo...    0.0   \n",
              "\n",
              "                              jobDescription_without_stopwords  \n",
              "id                                                              \n",
              "548398365_1                              ingénieur data mining  \n",
              "551303934_0  stagiaire ingénieur intelligence artificielle ...  \n",
              "551303934_1  stagiaire développement logiciel développement...  \n",
              "551303934_2  stagiaire développement web création évolution...  \n",
              "551303934_3  stagiaire développement web portage d’une appl...  "
            ],
            "text/html": [
              "\n",
              "  <div id=\"df-1a87217f-bd76-43d5-bbdf-d97f4f953ddb\">\n",
              "    <div class=\"colab-df-container\">\n",
              "      <div>\n",
              "<style scoped>\n",
              "    .dataframe tbody tr th:only-of-type {\n",
              "        vertical-align: middle;\n",
              "    }\n",
              "\n",
              "    .dataframe tbody tr th {\n",
              "        vertical-align: top;\n",
              "    }\n",
              "\n",
              "    .dataframe thead th {\n",
              "        text-align: right;\n",
              "    }\n",
              "</style>\n",
              "<table border=\"1\" class=\"dataframe\">\n",
              "  <thead>\n",
              "    <tr style=\"text-align: right;\">\n",
              "      <th></th>\n",
              "      <th>companyName</th>\n",
              "      <th>jobTitle</th>\n",
              "      <th>description</th>\n",
              "      <th>label</th>\n",
              "      <th>jobDescription_without_stopwords</th>\n",
              "    </tr>\n",
              "    <tr>\n",
              "      <th>id</th>\n",
              "      <th></th>\n",
              "      <th></th>\n",
              "      <th></th>\n",
              "      <th></th>\n",
              "      <th></th>\n",
              "    </tr>\n",
              "  </thead>\n",
              "  <tbody>\n",
              "    <tr>\n",
              "      <th>548398365_1</th>\n",
              "      <td>CHEOPS TECHNOLOGY</td>\n",
              "      <td>Ingénieur en data mining</td>\n",
              "      <td></td>\n",
              "      <td>0.0</td>\n",
              "      <td>ingénieur data mining</td>\n",
              "    </tr>\n",
              "    <tr>\n",
              "      <th>551303934_0</th>\n",
              "      <td>ALTEN</td>\n",
              "      <td>Stagiaire ingénieur en intelligence artificiel...</td>\n",
              "      <td>Conception et programmation pour une plateform...</td>\n",
              "      <td>1.0</td>\n",
              "      <td>stagiaire ingénieur intelligence artificielle ...</td>\n",
              "    </tr>\n",
              "    <tr>\n",
              "      <th>551303934_1</th>\n",
              "      <td>FRANCE SECURITE</td>\n",
              "      <td>Stagiaire en développement logiciel</td>\n",
              "      <td>Développement et mises à jour d’applications c...</td>\n",
              "      <td>0.0</td>\n",
              "      <td>stagiaire développement logiciel développement...</td>\n",
              "    </tr>\n",
              "    <tr>\n",
              "      <th>551303934_2</th>\n",
              "      <td>OASU (Observatoire Aquitain des Sciences de l'...</td>\n",
              "      <td>Stagiaire en développement Web</td>\n",
              "      <td>Création et évolution d’une application Web d’...</td>\n",
              "      <td>0.0</td>\n",
              "      <td>stagiaire développement web création évolution...</td>\n",
              "    </tr>\n",
              "    <tr>\n",
              "      <th>551303934_3</th>\n",
              "      <td>ADDEO</td>\n",
              "      <td>Stagiaire en développement Web</td>\n",
              "      <td>Portage d’une application en PHP 7, mises à jo...</td>\n",
              "      <td>0.0</td>\n",
              "      <td>stagiaire développement web portage d’une appl...</td>\n",
              "    </tr>\n",
              "  </tbody>\n",
              "</table>\n",
              "</div>\n",
              "      <button class=\"colab-df-convert\" onclick=\"convertToInteractive('df-1a87217f-bd76-43d5-bbdf-d97f4f953ddb')\"\n",
              "              title=\"Convert this dataframe to an interactive table.\"\n",
              "              style=\"display:none;\">\n",
              "        \n",
              "  <svg xmlns=\"http://www.w3.org/2000/svg\" height=\"24px\"viewBox=\"0 0 24 24\"\n",
              "       width=\"24px\">\n",
              "    <path d=\"M0 0h24v24H0V0z\" fill=\"none\"/>\n",
              "    <path d=\"M18.56 5.44l.94 2.06.94-2.06 2.06-.94-2.06-.94-.94-2.06-.94 2.06-2.06.94zm-11 1L8.5 8.5l.94-2.06 2.06-.94-2.06-.94L8.5 2.5l-.94 2.06-2.06.94zm10 10l.94 2.06.94-2.06 2.06-.94-2.06-.94-.94-2.06-.94 2.06-2.06.94z\"/><path d=\"M17.41 7.96l-1.37-1.37c-.4-.4-.92-.59-1.43-.59-.52 0-1.04.2-1.43.59L10.3 9.45l-7.72 7.72c-.78.78-.78 2.05 0 2.83L4 21.41c.39.39.9.59 1.41.59.51 0 1.02-.2 1.41-.59l7.78-7.78 2.81-2.81c.8-.78.8-2.07 0-2.86zM5.41 20L4 18.59l7.72-7.72 1.47 1.35L5.41 20z\"/>\n",
              "  </svg>\n",
              "      </button>\n",
              "      \n",
              "  <style>\n",
              "    .colab-df-container {\n",
              "      display:flex;\n",
              "      flex-wrap:wrap;\n",
              "      gap: 12px;\n",
              "    }\n",
              "\n",
              "    .colab-df-convert {\n",
              "      background-color: #E8F0FE;\n",
              "      border: none;\n",
              "      border-radius: 50%;\n",
              "      cursor: pointer;\n",
              "      display: none;\n",
              "      fill: #1967D2;\n",
              "      height: 32px;\n",
              "      padding: 0 0 0 0;\n",
              "      width: 32px;\n",
              "    }\n",
              "\n",
              "    .colab-df-convert:hover {\n",
              "      background-color: #E2EBFA;\n",
              "      box-shadow: 0px 1px 2px rgba(60, 64, 67, 0.3), 0px 1px 3px 1px rgba(60, 64, 67, 0.15);\n",
              "      fill: #174EA6;\n",
              "    }\n",
              "\n",
              "    [theme=dark] .colab-df-convert {\n",
              "      background-color: #3B4455;\n",
              "      fill: #D2E3FC;\n",
              "    }\n",
              "\n",
              "    [theme=dark] .colab-df-convert:hover {\n",
              "      background-color: #434B5C;\n",
              "      box-shadow: 0px 1px 3px 1px rgba(0, 0, 0, 0.15);\n",
              "      filter: drop-shadow(0px 1px 2px rgba(0, 0, 0, 0.3));\n",
              "      fill: #FFFFFF;\n",
              "    }\n",
              "  </style>\n",
              "\n",
              "      <script>\n",
              "        const buttonEl =\n",
              "          document.querySelector('#df-1a87217f-bd76-43d5-bbdf-d97f4f953ddb button.colab-df-convert');\n",
              "        buttonEl.style.display =\n",
              "          google.colab.kernel.accessAllowed ? 'block' : 'none';\n",
              "\n",
              "        async function convertToInteractive(key) {\n",
              "          const element = document.querySelector('#df-1a87217f-bd76-43d5-bbdf-d97f4f953ddb');\n",
              "          const dataTable =\n",
              "            await google.colab.kernel.invokeFunction('convertToInteractive',\n",
              "                                                     [key], {});\n",
              "          if (!dataTable) return;\n",
              "\n",
              "          const docLinkHtml = 'Like what you see? Visit the ' +\n",
              "            '<a target=\"_blank\" href=https://colab.research.google.com/notebooks/data_table.ipynb>data table notebook</a>'\n",
              "            + ' to learn more about interactive tables.';\n",
              "          element.innerHTML = '';\n",
              "          dataTable['output_type'] = 'display_data';\n",
              "          await google.colab.output.renderOutput(dataTable, element);\n",
              "          const docLink = document.createElement('div');\n",
              "          docLink.innerHTML = docLinkHtml;\n",
              "          element.appendChild(docLink);\n",
              "        }\n",
              "      </script>\n",
              "    </div>\n",
              "  </div>\n",
              "  "
            ]
          },
          "metadata": {},
          "execution_count": 176
        }
      ],
      "source": [
        "df.head()"
      ]
    },
    {
      "cell_type": "code",
      "execution_count": 177,
      "id": "dbpntAxiuZte",
      "metadata": {
        "id": "dbpntAxiuZte",
        "colab": {
          "base_uri": "https://localhost:8080/"
        },
        "outputId": "b4917207-b075-4a32-f28d-1de5e2b359d9"
      },
      "outputs": [
        {
          "output_type": "execute_result",
          "data": {
            "text/plain": [
              "(5651, 2)"
            ]
          },
          "metadata": {},
          "execution_count": 177
        }
      ],
      "source": [
        "df_label_desc = df[['jobDescription_without_stopwords', 'label']]\n",
        "df_label_desc.shape"
      ]
    },
    {
      "cell_type": "code",
      "execution_count": 178,
      "id": "iBWZV6UWuyMb",
      "metadata": {
        "colab": {
          "base_uri": "https://localhost:8080/",
          "height": 237
        },
        "id": "iBWZV6UWuyMb",
        "outputId": "26bc0682-cce5-4d8f-878d-63b7b2c85a68"
      },
      "outputs": [
        {
          "output_type": "execute_result",
          "data": {
            "text/plain": [
              "                              jobDescription_without_stopwords  label\n",
              "id                                                                   \n",
              "548398365_1                              ingénieur data mining    0.0\n",
              "551303934_0  stagiaire ingénieur intelligence artificielle ...    1.0\n",
              "551303934_1  stagiaire développement logiciel développement...    0.0\n",
              "551303934_2  stagiaire développement web création évolution...    0.0\n",
              "551303934_3  stagiaire développement web portage d’une appl...    0.0"
            ],
            "text/html": [
              "\n",
              "  <div id=\"df-c2c497de-c740-4d36-abd8-65da4b4cc29e\">\n",
              "    <div class=\"colab-df-container\">\n",
              "      <div>\n",
              "<style scoped>\n",
              "    .dataframe tbody tr th:only-of-type {\n",
              "        vertical-align: middle;\n",
              "    }\n",
              "\n",
              "    .dataframe tbody tr th {\n",
              "        vertical-align: top;\n",
              "    }\n",
              "\n",
              "    .dataframe thead th {\n",
              "        text-align: right;\n",
              "    }\n",
              "</style>\n",
              "<table border=\"1\" class=\"dataframe\">\n",
              "  <thead>\n",
              "    <tr style=\"text-align: right;\">\n",
              "      <th></th>\n",
              "      <th>jobDescription_without_stopwords</th>\n",
              "      <th>label</th>\n",
              "    </tr>\n",
              "    <tr>\n",
              "      <th>id</th>\n",
              "      <th></th>\n",
              "      <th></th>\n",
              "    </tr>\n",
              "  </thead>\n",
              "  <tbody>\n",
              "    <tr>\n",
              "      <th>548398365_1</th>\n",
              "      <td>ingénieur data mining</td>\n",
              "      <td>0.0</td>\n",
              "    </tr>\n",
              "    <tr>\n",
              "      <th>551303934_0</th>\n",
              "      <td>stagiaire ingénieur intelligence artificielle ...</td>\n",
              "      <td>1.0</td>\n",
              "    </tr>\n",
              "    <tr>\n",
              "      <th>551303934_1</th>\n",
              "      <td>stagiaire développement logiciel développement...</td>\n",
              "      <td>0.0</td>\n",
              "    </tr>\n",
              "    <tr>\n",
              "      <th>551303934_2</th>\n",
              "      <td>stagiaire développement web création évolution...</td>\n",
              "      <td>0.0</td>\n",
              "    </tr>\n",
              "    <tr>\n",
              "      <th>551303934_3</th>\n",
              "      <td>stagiaire développement web portage d’une appl...</td>\n",
              "      <td>0.0</td>\n",
              "    </tr>\n",
              "  </tbody>\n",
              "</table>\n",
              "</div>\n",
              "      <button class=\"colab-df-convert\" onclick=\"convertToInteractive('df-c2c497de-c740-4d36-abd8-65da4b4cc29e')\"\n",
              "              title=\"Convert this dataframe to an interactive table.\"\n",
              "              style=\"display:none;\">\n",
              "        \n",
              "  <svg xmlns=\"http://www.w3.org/2000/svg\" height=\"24px\"viewBox=\"0 0 24 24\"\n",
              "       width=\"24px\">\n",
              "    <path d=\"M0 0h24v24H0V0z\" fill=\"none\"/>\n",
              "    <path d=\"M18.56 5.44l.94 2.06.94-2.06 2.06-.94-2.06-.94-.94-2.06-.94 2.06-2.06.94zm-11 1L8.5 8.5l.94-2.06 2.06-.94-2.06-.94L8.5 2.5l-.94 2.06-2.06.94zm10 10l.94 2.06.94-2.06 2.06-.94-2.06-.94-.94-2.06-.94 2.06-2.06.94z\"/><path d=\"M17.41 7.96l-1.37-1.37c-.4-.4-.92-.59-1.43-.59-.52 0-1.04.2-1.43.59L10.3 9.45l-7.72 7.72c-.78.78-.78 2.05 0 2.83L4 21.41c.39.39.9.59 1.41.59.51 0 1.02-.2 1.41-.59l7.78-7.78 2.81-2.81c.8-.78.8-2.07 0-2.86zM5.41 20L4 18.59l7.72-7.72 1.47 1.35L5.41 20z\"/>\n",
              "  </svg>\n",
              "      </button>\n",
              "      \n",
              "  <style>\n",
              "    .colab-df-container {\n",
              "      display:flex;\n",
              "      flex-wrap:wrap;\n",
              "      gap: 12px;\n",
              "    }\n",
              "\n",
              "    .colab-df-convert {\n",
              "      background-color: #E8F0FE;\n",
              "      border: none;\n",
              "      border-radius: 50%;\n",
              "      cursor: pointer;\n",
              "      display: none;\n",
              "      fill: #1967D2;\n",
              "      height: 32px;\n",
              "      padding: 0 0 0 0;\n",
              "      width: 32px;\n",
              "    }\n",
              "\n",
              "    .colab-df-convert:hover {\n",
              "      background-color: #E2EBFA;\n",
              "      box-shadow: 0px 1px 2px rgba(60, 64, 67, 0.3), 0px 1px 3px 1px rgba(60, 64, 67, 0.15);\n",
              "      fill: #174EA6;\n",
              "    }\n",
              "\n",
              "    [theme=dark] .colab-df-convert {\n",
              "      background-color: #3B4455;\n",
              "      fill: #D2E3FC;\n",
              "    }\n",
              "\n",
              "    [theme=dark] .colab-df-convert:hover {\n",
              "      background-color: #434B5C;\n",
              "      box-shadow: 0px 1px 3px 1px rgba(0, 0, 0, 0.15);\n",
              "      filter: drop-shadow(0px 1px 2px rgba(0, 0, 0, 0.3));\n",
              "      fill: #FFFFFF;\n",
              "    }\n",
              "  </style>\n",
              "\n",
              "      <script>\n",
              "        const buttonEl =\n",
              "          document.querySelector('#df-c2c497de-c740-4d36-abd8-65da4b4cc29e button.colab-df-convert');\n",
              "        buttonEl.style.display =\n",
              "          google.colab.kernel.accessAllowed ? 'block' : 'none';\n",
              "\n",
              "        async function convertToInteractive(key) {\n",
              "          const element = document.querySelector('#df-c2c497de-c740-4d36-abd8-65da4b4cc29e');\n",
              "          const dataTable =\n",
              "            await google.colab.kernel.invokeFunction('convertToInteractive',\n",
              "                                                     [key], {});\n",
              "          if (!dataTable) return;\n",
              "\n",
              "          const docLinkHtml = 'Like what you see? Visit the ' +\n",
              "            '<a target=\"_blank\" href=https://colab.research.google.com/notebooks/data_table.ipynb>data table notebook</a>'\n",
              "            + ' to learn more about interactive tables.';\n",
              "          element.innerHTML = '';\n",
              "          dataTable['output_type'] = 'display_data';\n",
              "          await google.colab.output.renderOutput(dataTable, element);\n",
              "          const docLink = document.createElement('div');\n",
              "          docLink.innerHTML = docLinkHtml;\n",
              "          element.appendChild(docLink);\n",
              "        }\n",
              "      </script>\n",
              "    </div>\n",
              "  </div>\n",
              "  "
            ]
          },
          "metadata": {},
          "execution_count": 178
        }
      ],
      "source": [
        "df_label_desc.head()"
      ]
    },
    {
      "cell_type": "code",
      "execution_count": 179,
      "id": "83752fc1",
      "metadata": {
        "id": "83752fc1"
      },
      "outputs": [],
      "source": [
        "#Storing the Columns in 2 different as we have to perform Leme\n",
        "X=df_label_desc.jobDescription_without_stopwords\n",
        "Y=df_label_desc.label"
      ]
    },
    {
      "cell_type": "code",
      "execution_count": 180,
      "id": "eee40fb8",
      "metadata": {
        "colab": {
          "base_uri": "https://localhost:8080/"
        },
        "id": "eee40fb8",
        "outputId": "c31ad992-ef9b-44bc-f831-ef36a736517e"
      },
      "outputs": [
        {
          "output_type": "execute_result",
          "data": {
            "text/plain": [
              "id\n",
              "548398365_1                                ingénieur data mining\n",
              "551303934_0    stagiaire ingénieur intelligence artificielle ...\n",
              "551303934_1    stagiaire développement logiciel développement...\n",
              "551303934_2    stagiaire développement web création évolution...\n",
              "551303934_3    stagiaire développement web portage d’une appl...\n",
              "Name: jobDescription_without_stopwords, dtype: object"
            ]
          },
          "metadata": {},
          "execution_count": 180
        }
      ],
      "source": [
        "df_label_desc['jobDescription_without_stopwords'].head()"
      ]
    },
    {
      "cell_type": "markdown",
      "id": "WWQX3Y3w-v2x",
      "metadata": {
        "id": "WWQX3Y3w-v2x"
      },
      "source": [
        "### Lemmatization"
      ]
    },
    {
      "cell_type": "code",
      "execution_count": 181,
      "id": "78fc8092",
      "metadata": {
        "colab": {
          "base_uri": "https://localhost:8080/"
        },
        "id": "78fc8092",
        "outputId": "a9e9aca9-3fe0-4647-8d7d-fbba2663efb6"
      },
      "outputs": [
        {
          "output_type": "stream",
          "name": "stderr",
          "text": [
            "[nltk_data] Downloading package wordnet to /root/nltk_data...\n",
            "[nltk_data]   Package wordnet is already up-to-date!\n",
            "[nltk_data] Downloading package punkt to /root/nltk_data...\n",
            "[nltk_data]   Package punkt is already up-to-date!\n",
            "<ipython-input-181-b52297bbdf1b>:20: SettingWithCopyWarning: \n",
            "A value is trying to be set on a copy of a slice from a DataFrame.\n",
            "Try using .loc[row_indexer,col_indexer] = value instead\n",
            "\n",
            "See the caveats in the documentation: https://pandas.pydata.org/pandas-docs/stable/user_guide/indexing.html#returning-a-view-versus-a-copy\n",
            "  df_label_desc['jobDescription_without_stopwords'] = df_label_desc['jobDescription_without_stopwords'].apply(lemmatize_sentence)\n"
          ]
        }
      ],
      "source": [
        "import nltk\n",
        "nltk.download('wordnet')\n",
        "nltk.download('punkt')\n",
        "from nltk.stem import WordNetLemmatizer\n",
        "\n",
        "# Initialize the lemmatizer object\n",
        "lemmatizer = WordNetLemmatizer()\n",
        "\n",
        "# Define a function to lemmatize a sentence\n",
        "def lemmatize_sentence(sentence):\n",
        "    tokens = nltk.word_tokenize(sentence)\n",
        "    lemmatized_tokens = []\n",
        "    for token in tokens:\n",
        "        lemmatized_token = lemmatizer.lemmatize(token)\n",
        "        lemmatized_tokens.append(lemmatized_token)\n",
        "    lemmatized_sentence = ' '.join(lemmatized_tokens)\n",
        "    return lemmatized_sentence\n",
        "\n",
        "# Lemmatize the feature column\n",
        "df_label_desc['jobDescription_without_stopwords'] = df_label_desc['jobDescription_without_stopwords'].apply(lemmatize_sentence)\n"
      ]
    },
    {
      "cell_type": "code",
      "execution_count": 182,
      "id": "52c07417",
      "metadata": {
        "colab": {
          "base_uri": "https://localhost:8080/"
        },
        "id": "52c07417",
        "outputId": "06291138-a2b2-4486-fbe7-88e8dcb26992"
      },
      "outputs": [
        {
          "output_type": "execute_result",
          "data": {
            "text/plain": [
              "id\n",
              "548398365_1                                ingénieur data mining\n",
              "551303934_0    stagiaire ingénieur intelligence artificielle ...\n",
              "551303934_1    stagiaire développement logiciel développement...\n",
              "551303934_2    stagiaire développement web création évolution...\n",
              "551303934_3    stagiaire développement web portage d ’ une ap...\n",
              "Name: jobDescription_without_stopwords, dtype: object"
            ]
          },
          "metadata": {},
          "execution_count": 182
        }
      ],
      "source": [
        "df_label_desc['jobDescription_without_stopwords'].head()"
      ]
    },
    {
      "cell_type": "markdown",
      "id": "oUSeB5s6hN7b",
      "metadata": {
        "id": "oUSeB5s6hN7b"
      },
      "source": [
        "### **Creating bag of words**"
      ]
    },
    {
      "cell_type": "code",
      "execution_count": 183,
      "id": "fc433431",
      "metadata": {
        "id": "fc433431"
      },
      "outputs": [],
      "source": [
        "X = df_label_desc['jobDescription_without_stopwords']\n",
        "Y = df_label_desc['label']"
      ]
    },
    {
      "cell_type": "code",
      "execution_count": 184,
      "id": "xPmd1jGZbXGt",
      "metadata": {
        "id": "xPmd1jGZbXGt"
      },
      "outputs": [],
      "source": [
        "cv = CountVectorizer(stop_words=None,max_features=120)"
      ]
    },
    {
      "cell_type": "code",
      "execution_count": 185,
      "id": "IdTzK-PHgJ93",
      "metadata": {
        "id": "IdTzK-PHgJ93"
      },
      "outputs": [],
      "source": [
        "# Tokanise and vectorising our whole testing data\n",
        "X_vectors = cv.fit_transform(X)"
      ]
    },
    {
      "cell_type": "markdown",
      "id": "fb600154",
      "metadata": {
        "id": "fb600154"
      },
      "source": [
        "# 6. Splitting"
      ]
    },
    {
      "cell_type": "code",
      "execution_count": 186,
      "id": "19a50243",
      "metadata": {
        "id": "19a50243"
      },
      "outputs": [],
      "source": [
        "X_train, X_test, Y_train, Y_test = train_test_split( X_vectors, Y, test_size=0.35, random_state=42)"
      ]
    },
    {
      "cell_type": "code",
      "execution_count": 187,
      "id": "250ddc2d",
      "metadata": {
        "colab": {
          "base_uri": "https://localhost:8080/"
        },
        "id": "250ddc2d",
        "outputId": "f1854571-312e-4e91-d39a-2f93d2244053"
      },
      "outputs": [
        {
          "output_type": "execute_result",
          "data": {
            "text/plain": [
              "(pandas.core.series.Series, pandas.core.series.Series)"
            ]
          },
          "metadata": {},
          "execution_count": 187
        }
      ],
      "source": [
        "type(Y_test),type(Y_train)"
      ]
    },
    {
      "cell_type": "code",
      "execution_count": 188,
      "id": "7d8d9397",
      "metadata": {
        "colab": {
          "base_uri": "https://localhost:8080/"
        },
        "id": "7d8d9397",
        "outputId": "5b4b157a-38d5-4df5-a382-e857dc164b6b"
      },
      "outputs": [
        {
          "output_type": "execute_result",
          "data": {
            "text/plain": [
              "((3673, 120), (1978, 120), (3673,), (1978,))"
            ]
          },
          "metadata": {},
          "execution_count": 188
        }
      ],
      "source": [
        "X_train.shape, X_test.shape, Y_train.shape, Y_test.shape"
      ]
    },
    {
      "cell_type": "markdown",
      "id": "4d0dcd37",
      "metadata": {
        "id": "4d0dcd37"
      },
      "source": [
        "# 7. Modelling"
      ]
    },
    {
      "cell_type": "code",
      "execution_count": 189,
      "id": "607089ed",
      "metadata": {
        "id": "607089ed"
      },
      "outputs": [],
      "source": [
        "# This function will help us to print all the different Accuracy measures\n",
        "def evalClassModel(model, Y_test, Y_pred_class, plot=False):\n",
        "    # Classification accuracy: percentage of correct predictions\n",
        "    # calculate accuracy\n",
        "    print('Accuracy:', metrics.accuracy_score(Y_test, Y_pred_class))\n",
        "    print('Null accuracy:\\n', Y_test.value_counts(normalize=True)*100)\n",
        "    # calculate the percentage of ones\n",
        "    print('Percentage of ones:', Y_test.mean())\n",
        "    # calculate the percentage of zeros\n",
        "    print('Percentage of zeros:', 1-Y_test.mean())\n",
        "    # Comparing the first 20 Actual and Predicted response values\n",
        "    print('True:', Y_test.values[0:20])\n",
        "    print('Pred:', Y_pred_class[0:20])\n",
        "\n",
        "    # Confusion matrix\n",
        "    # save confusion matrix and slice into four pieces\n",
        "    confusion = metrics.confusion_matrix(Y_test, Y_pred_class)\n",
        "    # [row, column]\n",
        "    TP = confusion[1, 1]\n",
        "    TN = confusion[0, 0]\n",
        "    FP = confusion[0, 1]\n",
        "    FN = confusion[1, 0]\n",
        "    # visualize Confusion Matrix\n",
        "    sns.heatmap(confusion, annot=True, fmt=\"d\")\n",
        "    plt.title('Confusion Matrix')\n",
        "    plt.xlabel('Predicted')\n",
        "    plt.ylabel('Actual')\n",
        "    plt.show()\n",
        "\n",
        "    # Metrics computed from a confusion matrix\n",
        "    # Classification Accuracy: Overall, how often is the classifier correct?\n",
        "    accuracy = metrics.accuracy_score(Y_test, Y_pred_class)\n",
        "    print('Classification Accuracy:', accuracy)\n",
        "    # Classification Error: Overall, how often is the classifier incorrect?\n",
        "    print('Classification Error:', 1 - accuracy)\n",
        "    # False Positive Rate: When the actual value is negative, how often is the prediction incorrect?\n",
        "    false_positive_rate = FP / float(TN + FP)\n",
        "    print('False Positive Rate:', false_positive_rate)\n",
        "    # Precision: When a positive value is predicted, how often is the prediction correct?\n",
        "    print('Precision:', metrics.precision_score(Y_test, Y_pred_class))\n",
        "    #print('AUC Score:', metrics.roc_auc_score(Y_test, Y_pred_class))\n",
        "    # calculate cross-validated AUC\n",
        "    # print('Cross-validated AUC:', cross_val_score(model,X, Y, cv=10, scoring='roc_auc').mean())\n",
        "    f1 = f1_score(Y_test, Y_pred_class)\n",
        "    print(\"F1 score :- \", f1)\n",
        "    return f1\n"
      ]
    },
    {
      "cell_type": "markdown",
      "id": "e3204529",
      "metadata": {
        "id": "e3204529"
      },
      "source": [
        "### Logistic Regression"
      ]
    },
    {
      "cell_type": "code",
      "execution_count": 190,
      "id": "39886d7f",
      "metadata": {
        "id": "39886d7f"
      },
      "outputs": [],
      "source": [
        "methodDict = {}\n",
        "# F1_score = ()"
      ]
    },
    {
      "cell_type": "code",
      "execution_count": 191,
      "id": "0b3a32d9",
      "metadata": {
        "colab": {
          "base_uri": "https://localhost:8080/",
          "height": 750
        },
        "id": "0b3a32d9",
        "outputId": "c75a020a-333f-4734-cdf5-ebb43da9b297"
      },
      "outputs": [
        {
          "output_type": "stream",
          "name": "stdout",
          "text": [
            "########### Logistic Regression ###############\n",
            "Accuracy: 0.9342770475227502\n",
            "Null accuracy:\n",
            " 0.0    81.294237\n",
            "1.0    18.705763\n",
            "Name: label, dtype: float64\n",
            "Percentage of ones: 0.1870576339737108\n",
            "Percentage of zeros: 0.8129423660262892\n",
            "True: [0. 1. 0. 0. 0. 0. 0. 0. 0. 0. 0. 1. 0. 1. 1. 0. 0. 0. 0. 0.]\n",
            "Pred: [0. 1. 0. 0. 0. 0. 0. 1. 0. 0. 0. 1. 0. 1. 1. 0. 0. 0. 0. 0.]\n"
          ]
        },
        {
          "output_type": "display_data",
          "data": {
            "text/plain": [
              "<Figure size 640x480 with 2 Axes>"
            ],
            "image/png": "[encoded data removed]"
          },
          "metadata": {}
        },
        {
          "output_type": "stream",
          "name": "stdout",
          "text": [
            "Classification Accuracy: 0.9342770475227502\n",
            "Classification Error: 0.0657229524772498\n",
            "False Positive Rate: 0.029850746268656716\n",
            "Precision: 0.8571428571428571\n",
            "F1 score :-  0.8158640226628895\n",
            "Mean Squared Error: 0.06572295247724974\n"
          ]
        }
      ],
      "source": [
        "def logisticsRegression():\n",
        "    logreg=LogisticRegression()\n",
        "    logreg.fit(X_train,Y_train)\n",
        "    Y_pred_class=logreg.predict(X_test)\n",
        "    print('########### Logistic Regression ###############')\n",
        "    f1_score = evalClassModel(logreg, Y_test, Y_pred_class, True)\n",
        "    type(Y_test),type(Y_pred_class)\n",
        "    # Data for final graph\n",
        "    methodDict['Log.Regres.']=f1_score*100\n",
        "    # Evaluate the model performance (e.g., using mean squared error)\n",
        "    mse = ((Y_pred_class - Y_test) ** 2).mean()\n",
        "    print(\"Mean Squared Error:\", mse)\n",
        "logisticsRegression()\n"
      ]
    },
    {
      "cell_type": "code",
      "execution_count": 191,
      "id": "3e435d0f",
      "metadata": {
        "id": "3e435d0f"
      },
      "outputs": [],
      "source": []
    },
    {
      "cell_type": "code",
      "execution_count": 192,
      "id": "2cd7d33e",
      "metadata": {
        "id": "2cd7d33e"
      },
      "outputs": [],
      "source": [
        "# from sklearn import svm\n",
        "# from sklearn.model_selection import train_test_split\n",
        "# from sklearn.metrics import accuracy_score\n",
        "\n",
        "# # Create an SVC model\n",
        "# model = svm.SVC()\n",
        "\n",
        "# # Train the model\n",
        "# model.fit(X_train, Y_train)\n",
        "\n",
        "# # Make predictions on the test set\n",
        "# Y_pred_class = model.predict(X_test)\n",
        "\n",
        "# f1_score = evalClassModel(model, Y_test, Y_pred_class, True)\n",
        "# # Data for final graph\n",
        "# # methodDict['Log.Regres.']=f1_score*100\n",
        "# # Evaluate the model performance (e.g., using mean squared error)\n",
        "# mse = ((Y_pred_class - Y_test) ** 2).mean()\n",
        "# print(\"Mean Squared Error:\", mse)\n",
        "\n",
        "# # Evaluate the model\n",
        "# accuracy = accuracy_score(Y_test, Y_pred_class)\n",
        "# print(\"Accuracy:\", accuracy)\n"
      ]
    },
    {
      "cell_type": "markdown",
      "id": "8094383f",
      "metadata": {
        "id": "8094383f"
      },
      "source": [
        "### K-Nearest Neighbour"
      ]
    },
    {
      "cell_type": "code",
      "execution_count": 193,
      "id": "858cd4f3",
      "metadata": {
        "colab": {
          "base_uri": "https://localhost:8080/",
          "height": 750
        },
        "id": "858cd4f3",
        "outputId": "02f901c6-2c88-49fa-d394-83e9b200a907"
      },
      "outputs": [
        {
          "output_type": "stream",
          "name": "stdout",
          "text": [
            "########### KNeighborsClassifier ###############\n",
            "Accuracy: 0.8892821031344793\n",
            "Null accuracy:\n",
            " 0.0    81.294237\n",
            "1.0    18.705763\n",
            "Name: label, dtype: float64\n",
            "Percentage of ones: 0.1870576339737108\n",
            "Percentage of zeros: 0.8129423660262892\n",
            "True: [0. 1. 0. 0. 0. 0. 0. 0. 0. 0. 0. 1. 0. 1. 1. 0. 0. 0. 0. 0.]\n",
            "Pred: [0. 0. 0. 0. 0. 0. 0. 1. 0. 0. 0. 1. 0. 1. 0. 0. 0. 0. 0. 0.]\n"
          ]
        },
        {
          "output_type": "display_data",
          "data": {
            "text/plain": [
              "<Figure size 640x480 with 2 Axes>"
            ],
            "image/png": "[encoded data removed]"
          },
          "metadata": {}
        },
        {
          "output_type": "stream",
          "name": "stdout",
          "text": [
            "Classification Accuracy: 0.8892821031344793\n",
            "Classification Error: 0.11071789686552069\n",
            "False Positive Rate: 0.021766169154228857\n",
            "Precision: 0.8416289592760181\n",
            "F1 score :-  0.6294416243654822\n",
            "Mean Squared Error: 0.11071789686552073\n"
          ]
        }
      ],
      "source": [
        "def Knn():\n",
        "    knn = KNeighborsClassifier(n_neighbors=5)\n",
        "    k_range = list(range(1, 31))\n",
        "    weight_options = ['uniform', 'disance']\n",
        "    knn = KNeighborsClassifier(n_neighbors=27, weights='uniform')\n",
        "    knn.fit(X_train, Y_train)\n",
        "    Y_pred_class = knn.predict(X_test)\n",
        "    print('########### KNeighborsClassifier ###############')\n",
        "    f1_score = evalClassModel(knn, Y_test, Y_pred_class, True)\n",
        "    # Data for final graph\n",
        "    methodDict['KNN'] = f1_score * 100\n",
        "    # Evaluate the model performance (e.g., using mean squared error)\n",
        "    mse = ((Y_pred_class - Y_test) ** 2).mean()\n",
        "    print(\"Mean Squared Error:\", mse)\n",
        "\n",
        "Knn()"
      ]
    },
    {
      "cell_type": "code",
      "execution_count": 193,
      "id": "73da38c7",
      "metadata": {
        "id": "73da38c7"
      },
      "outputs": [],
      "source": []
    },
    {
      "cell_type": "markdown",
      "id": "698c727f",
      "metadata": {
        "id": "698c727f"
      },
      "source": [
        "### Decision Tree Classifier"
      ]
    },
    {
      "cell_type": "code",
      "execution_count": 194,
      "id": "1992ece8",
      "metadata": {
        "colab": {
          "base_uri": "https://localhost:8080/",
          "height": 750
        },
        "id": "1992ece8",
        "outputId": "eb021a26-c34f-4b16-ef77-ff34b0189095"
      },
      "outputs": [
        {
          "output_type": "stream",
          "name": "stdout",
          "text": [
            "########### Tree classifier ###############\n",
            "Accuracy: 0.8387259858442871\n",
            "Null accuracy:\n",
            " 0.0    81.294237\n",
            "1.0    18.705763\n",
            "Name: label, dtype: float64\n",
            "Percentage of ones: 0.1870576339737108\n",
            "Percentage of zeros: 0.8129423660262892\n",
            "True: [0. 1. 0. 0. 0. 0. 0. 0. 0. 0. 0. 1. 0. 1. 1. 0. 0. 0. 0. 0.]\n",
            "Pred: [0. 0. 0. 0. 0. 0. 0. 0. 0. 0. 0. 0. 0. 0. 0. 0. 0. 0. 0. 0.]\n"
          ]
        },
        {
          "output_type": "display_data",
          "data": {
            "text/plain": [
              "<Figure size 640x480 with 2 Axes>"
            ],
            "image/png": "[encoded data removed]"
          },
          "metadata": {}
        },
        {
          "output_type": "stream",
          "name": "stdout",
          "text": [
            "Classification Accuracy: 0.8387259858442871\n",
            "Classification Error: 0.16127401415571285\n",
            "False Positive Rate: 0.012437810945273632\n",
            "Precision: 0.7802197802197802\n",
            "F1 score :-  0.3080260303687636\n",
            "Mean Squared Error: 0.16127401415571285\n"
          ]
        }
      ],
      "source": [
        "def treeClassifier():\n",
        "    tree = DecisionTreeClassifier()\n",
        "    # train a decision tree model on the training set\n",
        "    tree = DecisionTreeClassifier(\n",
        "        max_depth=3, min_samples_split=8, max_features=6, criterion='entropy', min_samples_leaf=7)\n",
        "    tree.fit(X_train, Y_train)\n",
        "    Y_pred_class = tree.predict(X_test)\n",
        "    print('########### Tree classifier ###############')\n",
        "    f1_score = evalClassModel(tree, Y_test, Y_pred_class, True)\n",
        "    # Data for final graph\n",
        "    methodDict['Tree clas.'] = f1_score * 100\n",
        "    # Evaluate the model performance (e.g., using mean squared error)\n",
        "    mse = ((Y_pred_class - Y_test) ** 2).mean()\n",
        "    print(\"Mean Squared Error:\", mse)\n",
        "\n",
        "treeClassifier()"
      ]
    },
    {
      "cell_type": "markdown",
      "id": "dba54618",
      "metadata": {
        "id": "dba54618"
      },
      "source": [
        "### Random Forest Classifier"
      ]
    },
    {
      "cell_type": "code",
      "execution_count": 195,
      "id": "31b7b4bf",
      "metadata": {
        "colab": {
          "base_uri": "https://localhost:8080/",
          "height": 750
        },
        "id": "31b7b4bf",
        "outputId": "5a93508e-1874-4147-9ba8-930e6cc160c4"
      },
      "outputs": [
        {
          "output_type": "stream",
          "name": "stdout",
          "text": [
            "########### Random Forests ###############\n",
            "Accuracy: 0.9428715874620829\n",
            "Null accuracy:\n",
            " 0.0    81.294237\n",
            "1.0    18.705763\n",
            "Name: label, dtype: float64\n",
            "Percentage of ones: 0.1870576339737108\n",
            "Percentage of zeros: 0.8129423660262892\n",
            "True: [0. 1. 0. 0. 0. 0. 0. 0. 0. 0. 0. 1. 0. 1. 1. 0. 0. 0. 0. 0.]\n",
            "Pred: [0. 1. 0. 0. 0. 0. 0. 1. 0. 0. 0. 1. 0. 1. 1. 0. 0. 0. 0. 0.]\n"
          ]
        },
        {
          "output_type": "display_data",
          "data": {
            "text/plain": [
              "<Figure size 640x480 with 2 Axes>"
            ],
            "image/png": "[encoded data removed]"
          },
          "metadata": {}
        },
        {
          "output_type": "stream",
          "name": "stdout",
          "text": [
            "Classification Accuracy: 0.9428715874620829\n",
            "Classification Error: 0.05712841253791712\n",
            "False Positive Rate: 0.03233830845771144\n",
            "Precision: 0.8559556786703602\n",
            "F1 score :-  0.8454172366621067\n",
            "Mean Squared Error: 0.05712841253791709\n"
          ]
        }
      ],
      "source": [
        "def randomForest():\n",
        "    # Building and fitting my_forest\n",
        "    forest = RandomForestClassifier(\n",
        "        max_depth=None, min_samples_leaf=8, min_samples_split=2, n_estimators=20, random_state=1)\n",
        "    my_forest = forest.fit(X_train, Y_train)\n",
        "    # make class predictions for the testing set\n",
        "    Y_pred_class = my_forest.predict(X_test)\n",
        "    print('########### Random Forests ###############')\n",
        "    f1_score = evalClassModel(my_forest, Y_test, Y_pred_class, True)\n",
        "    # Data for final graph\n",
        "    methodDict['R. Forest'] = f1_score * 100\n",
        "    # Evaluate the model performance (e.g., using mean squared error)\n",
        "    mse = ((Y_pred_class - Y_test) ** 2).mean()\n",
        "    print(\"Mean Squared Error:\", mse)\n",
        "\n",
        "randomForest()"
      ]
    },
    {
      "cell_type": "code",
      "execution_count": 196,
      "id": "6caee8f4",
      "metadata": {
        "colab": {
          "base_uri": "https://localhost:8080/",
          "height": 750
        },
        "id": "6caee8f4",
        "outputId": "2e2d502b-e4a1-437d-8e56-3d463be34037"
      },
      "outputs": [
        {
          "output_type": "stream",
          "name": "stdout",
          "text": [
            "Accuracy: 0.9206268958543984\n",
            "Null accuracy:\n",
            " 0.0    81.294237\n",
            "1.0    18.705763\n",
            "Name: label, dtype: float64\n",
            "Percentage of ones: 0.1870576339737108\n",
            "Percentage of zeros: 0.8129423660262892\n",
            "True: [0. 1. 0. 0. 0. 0. 0. 0. 0. 0. 0. 1. 0. 1. 1. 0. 0. 0. 0. 0.]\n",
            "Pred: [0. 0. 0. 0. 0. 0. 0. 0. 0. 0. 0. 1. 0. 1. 1. 0. 0. 0. 0. 0.]\n"
          ]
        },
        {
          "output_type": "display_data",
          "data": {
            "text/plain": [
              "<Figure size 640x480 with 2 Axes>"
            ],
            "image/png": "[encoded data removed]"
          },
          "metadata": {}
        },
        {
          "output_type": "stream",
          "name": "stdout",
          "text": [
            "Classification Accuracy: 0.9206268958543984\n",
            "Classification Error: 0.07937310414560161\n",
            "False Positive Rate: 0.023009950248756218\n",
            "Precision: 0.8710801393728222\n",
            "F1 score :-  0.76103500761035\n",
            "Mean Squared Error: 0.07937310414560161\n",
            "Accuracy: 0.9206268958543984\n"
          ]
        }
      ],
      "source": [
        "from sklearn import svm\n",
        "\n",
        "# Create an SVC model\n",
        "model = svm.SVC()\n",
        "\n",
        "# Train the model\n",
        "model.fit(X_train, Y_train)\n",
        "\n",
        "# Make predictions on the test set\n",
        "Y_pred_class = model.predict(X_test)\n",
        "\n",
        "f1_score = evalClassModel(model, Y_test, Y_pred_class, True)\n",
        "# Data for final graph\n",
        "# methodDict['Log.Regres.']=f1_score*100\n",
        "# Evaluate the model performance (e.g., using mean squared error)\n",
        "mse = ((Y_pred_class - Y_test) ** 2).mean()\n",
        "print(\"Mean Squared Error:\", mse)\n",
        "\n",
        "# Evaluate the model\n",
        "accuracy = accuracy_score(Y_test, Y_pred_class)\n",
        "print(\"Accuracy:\", accuracy)\n"
      ]
    },
    {
      "cell_type": "markdown",
      "id": "3be7daf6",
      "metadata": {
        "id": "3be7daf6"
      },
      "source": [
        "## Ploting the Classification Accuracy for every Algo"
      ]
    },
    {
      "cell_type": "markdown",
      "id": "29a0a0ea",
      "metadata": {
        "id": "29a0a0ea"
      },
      "source": [
        "### Since our labels are not balanced, we will go for F1 Score over Accuracy as our measuring Factor"
      ]
    },
    {
      "cell_type": "code",
      "execution_count": 197,
      "id": "6677b1ab",
      "metadata": {
        "colab": {
          "base_uri": "https://localhost:8080/",
          "height": 708
        },
        "id": "6677b1ab",
        "outputId": "c91e4696-ff49-41d7-a9c3-d65ab2e23793"
      },
      "outputs": [
        {
          "output_type": "display_data",
          "data": {
            "text/plain": [
              "<Figure size 1000x700 with 1 Axes>"
            ],
            "image/png": "[encoded data removed]"
          },
          "metadata": {}
        }
      ],
      "source": [
        "def plotSuccess():\n",
        "    s = pd.Series(methodDict)\n",
        "    s = s.sort_values(ascending=False)\n",
        "    plt.figure(figsize=(10, 7))\n",
        "    ax = s.plot(kind='bar')\n",
        "    for p in ax.patches:\n",
        "        ax.annotate(\"    \"+str(round(p.get_height(), 2)),\n",
        "                    (p.get_x()*1.005, p.get_height()*1.005))\n",
        "    plt.xlabel('Method')\n",
        "    plt.ylabel('Percentage')\n",
        "    plt.title('F1 Scores of Methods')\n",
        "    plt.show()\n",
        "\n",
        "plotSuccess()"
      ]
    },
    {
      "cell_type": "markdown",
      "id": "0fa6d97b",
      "metadata": {
        "id": "0fa6d97b"
      },
      "source": [
        "# 8. Checking for Overfitting"
      ]
    },
    {
      "cell_type": "markdown",
      "id": "a7c9e821",
      "metadata": {
        "id": "a7c9e821"
      },
      "source": [
        "## Since our best model is Logistic Regression we are check for overfitting in it"
      ]
    },
    {
      "cell_type": "markdown",
      "id": "6db1d76d",
      "metadata": {
        "id": "6db1d76d"
      },
      "source": [
        "###  Checking the Mean Absolute Error"
      ]
    },
    {
      "cell_type": "code",
      "execution_count": 198,
      "id": "261eebf4",
      "metadata": {
        "id": "261eebf4"
      },
      "outputs": [],
      "source": [
        "mae_train=[]\n",
        "mae_test=[]\n",
        "logreg=LogisticRegression()\n",
        "logreg.fit(X_train,Y_train)\n",
        "y_train_pred=logreg.predict(X_train)\n",
        "y_test_pred=logreg.predict(X_test)\n",
        "mae_train.append(mean_absolute_error(Y_train, y_train_pred))\n",
        "mae_test.append(mean_absolute_error(Y_test, y_test_pred))"
      ]
    },
    {
      "cell_type": "code",
      "execution_count": 199,
      "id": "d7ec14d6",
      "metadata": {
        "colab": {
          "base_uri": "https://localhost:8080/"
        },
        "id": "d7ec14d6",
        "outputId": "90b0bf56-790e-4ca2-d3b0-fd1f34d61c94"
      },
      "outputs": [
        {
          "output_type": "execute_result",
          "data": {
            "text/plain": [
              "([0.0558126871766948], [0.06572295247724974])"
            ]
          },
          "metadata": {},
          "execution_count": 199
        }
      ],
      "source": [
        "mae_train,mae_test"
      ]
    },
    {
      "cell_type": "markdown",
      "id": "9dd32744",
      "metadata": {
        "id": "9dd32744"
      },
      "source": [
        "### k-fold cross-validation"
      ]
    },
    {
      "cell_type": "code",
      "execution_count": 200,
      "id": "2a9bbae6",
      "metadata": {
        "colab": {
          "base_uri": "https://localhost:8080/"
        },
        "id": "2a9bbae6",
        "outputId": "ec31bac0-4d14-4344-84b3-20f42b3c51a3"
      },
      "outputs": [
        {
          "output_type": "stream",
          "name": "stdout",
          "text": [
            "Cross-Validation Scores: [0.59628201 0.59183673 0.56599578 0.57256972 0.6323502 ]\n",
            "Average Score: 0.5918068891385962\n"
          ]
        }
      ],
      "source": [
        "# Assuming you have your input features 'X' and target variable 'Y' defined\n",
        "\n",
        "# Create an instance of the model you want to evaluate\n",
        "model = RandomForestClassifier(n_estimators=20)\n",
        "\n",
        "# Define the number of folds for cross-validation\n",
        "num_folds = 5\n",
        "\n",
        "# Create a KFold object\n",
        "kf = KFold(n_splits=num_folds)\n",
        "\n",
        "# Perform k-fold cross-validation\n",
        "scores = cross_val_score(model, X_train, Y_train, cv=kf, scoring='r2')\n",
        "\n",
        "# Print the cross-validation scores\n",
        "print(\"Cross-Validation Scores:\", scores)\n",
        "\n",
        "# Calculate and print the average score\n",
        "avg_score = scores.mean()\n",
        "print(\"Average Score:\", avg_score)\n"
      ]
    },
    {
      "cell_type": "markdown",
      "id": "e40f5fef",
      "metadata": {
        "id": "e40f5fef"
      },
      "source": [
        "# 9. Predicting result on a given Data"
      ]
    },
    {
      "cell_type": "markdown",
      "id": "1ab21625",
      "metadata": {
        "id": "1ab21625"
      },
      "source": [
        "### We will be using a Random Forest Classifier as it is providing highest value of F1 Score"
      ]
    },
    {
      "cell_type": "code",
      "execution_count": 201,
      "id": "94824485",
      "metadata": {
        "id": "94824485"
      },
      "outputs": [],
      "source": [
        "data=pd.read_excel(\"/content/drive/MyDrive/Checking_Data_AI_LinkedIn.xls\")"
      ]
    },
    {
      "cell_type": "code",
      "execution_count": 202,
      "id": "4bcb9513",
      "metadata": {
        "colab": {
          "base_uri": "https://localhost:8080/",
          "height": 331
        },
        "id": "4bcb9513",
        "outputId": "61f45964-5156-46bd-cda4-9eb69cd50b57"
      },
      "outputs": [
        {
          "output_type": "execute_result",
          "data": {
            "text/plain": [
              "                                     Job_Description  Actual_label\n",
              "0  Architecte d'IA : Conçoit et met en place l'in...             1\n",
              "1  Chercheur en IA : Mène des recherches avancées...             1\n",
              "2  Éthicien(ne) de l'IA : Évalue et analyse les i...             1\n",
              "3  Vendeur/Vendeuse : Responsable de l'accueil et...             0\n",
              "4  Secrétaire : Chargé(e) de l'organisation et de...             0\n",
              "5  Ingénieur(e) en informatique : Responsable de ...             0\n",
              "6  Serveur/Serveuse : Responsable du service et d...             0\n",
              "7  Mécanicien(ne) automobile : Spécialiste de la ...             0\n",
              "8  Enseignant(e) : Chargé(e) d'instruire et d'édu...             0"
            ],
            "text/html": [
              "\n",
              "  <div id=\"df-bcd07553-7edb-4fce-8d77-f1d3be0dd0a0\">\n",
              "    <div class=\"colab-df-container\">\n",
              "      <div>\n",
              "<style scoped>\n",
              "    .dataframe tbody tr th:only-of-type {\n",
              "        vertical-align: middle;\n",
              "    }\n",
              "\n",
              "    .dataframe tbody tr th {\n",
              "        vertical-align: top;\n",
              "    }\n",
              "\n",
              "    .dataframe thead th {\n",
              "        text-align: right;\n",
              "    }\n",
              "</style>\n",
              "<table border=\"1\" class=\"dataframe\">\n",
              "  <thead>\n",
              "    <tr style=\"text-align: right;\">\n",
              "      <th></th>\n",
              "      <th>Job_Description</th>\n",
              "      <th>Actual_label</th>\n",
              "    </tr>\n",
              "  </thead>\n",
              "  <tbody>\n",
              "    <tr>\n",
              "      <th>0</th>\n",
              "      <td>Architecte d'IA : Conçoit et met en place l'in...</td>\n",
              "      <td>1</td>\n",
              "    </tr>\n",
              "    <tr>\n",
              "      <th>1</th>\n",
              "      <td>Chercheur en IA : Mène des recherches avancées...</td>\n",
              "      <td>1</td>\n",
              "    </tr>\n",
              "    <tr>\n",
              "      <th>2</th>\n",
              "      <td>Éthicien(ne) de l'IA : Évalue et analyse les i...</td>\n",
              "      <td>1</td>\n",
              "    </tr>\n",
              "    <tr>\n",
              "      <th>3</th>\n",
              "      <td>Vendeur/Vendeuse : Responsable de l'accueil et...</td>\n",
              "      <td>0</td>\n",
              "    </tr>\n",
              "    <tr>\n",
              "      <th>4</th>\n",
              "      <td>Secrétaire : Chargé(e) de l'organisation et de...</td>\n",
              "      <td>0</td>\n",
              "    </tr>\n",
              "    <tr>\n",
              "      <th>5</th>\n",
              "      <td>Ingénieur(e) en informatique : Responsable de ...</td>\n",
              "      <td>0</td>\n",
              "    </tr>\n",
              "    <tr>\n",
              "      <th>6</th>\n",
              "      <td>Serveur/Serveuse : Responsable du service et d...</td>\n",
              "      <td>0</td>\n",
              "    </tr>\n",
              "    <tr>\n",
              "      <th>7</th>\n",
              "      <td>Mécanicien(ne) automobile : Spécialiste de la ...</td>\n",
              "      <td>0</td>\n",
              "    </tr>\n",
              "    <tr>\n",
              "      <th>8</th>\n",
              "      <td>Enseignant(e) : Chargé(e) d'instruire et d'édu...</td>\n",
              "      <td>0</td>\n",
              "    </tr>\n",
              "  </tbody>\n",
              "</table>\n",
              "</div>\n",
              "      <button class=\"colab-df-convert\" onclick=\"convertToInteractive('df-bcd07553-7edb-4fce-8d77-f1d3be0dd0a0')\"\n",
              "              title=\"Convert this dataframe to an interactive table.\"\n",
              "              style=\"display:none;\">\n",
              "        \n",
              "  <svg xmlns=\"http://www.w3.org/2000/svg\" height=\"24px\"viewBox=\"0 0 24 24\"\n",
              "       width=\"24px\">\n",
              "    <path d=\"M0 0h24v24H0V0z\" fill=\"none\"/>\n",
              "    <path d=\"M18.56 5.44l.94 2.06.94-2.06 2.06-.94-2.06-.94-.94-2.06-.94 2.06-2.06.94zm-11 1L8.5 8.5l.94-2.06 2.06-.94-2.06-.94L8.5 2.5l-.94 2.06-2.06.94zm10 10l.94 2.06.94-2.06 2.06-.94-2.06-.94-.94-2.06-.94 2.06-2.06.94z\"/><path d=\"M17.41 7.96l-1.37-1.37c-.4-.4-.92-.59-1.43-.59-.52 0-1.04.2-1.43.59L10.3 9.45l-7.72 7.72c-.78.78-.78 2.05 0 2.83L4 21.41c.39.39.9.59 1.41.59.51 0 1.02-.2 1.41-.59l7.78-7.78 2.81-2.81c.8-.78.8-2.07 0-2.86zM5.41 20L4 18.59l7.72-7.72 1.47 1.35L5.41 20z\"/>\n",
              "  </svg>\n",
              "      </button>\n",
              "      \n",
              "  <style>\n",
              "    .colab-df-container {\n",
              "      display:flex;\n",
              "      flex-wrap:wrap;\n",
              "      gap: 12px;\n",
              "    }\n",
              "\n",
              "    .colab-df-convert {\n",
              "      background-color: #E8F0FE;\n",
              "      border: none;\n",
              "      border-radius: 50%;\n",
              "      cursor: pointer;\n",
              "      display: none;\n",
              "      fill: #1967D2;\n",
              "      height: 32px;\n",
              "      padding: 0 0 0 0;\n",
              "      width: 32px;\n",
              "    }\n",
              "\n",
              "    .colab-df-convert:hover {\n",
              "      background-color: #E2EBFA;\n",
              "      box-shadow: 0px 1px 2px rgba(60, 64, 67, 0.3), 0px 1px 3px 1px rgba(60, 64, 67, 0.15);\n",
              "      fill: #174EA6;\n",
              "    }\n",
              "\n",
              "    [theme=dark] .colab-df-convert {\n",
              "      background-color: #3B4455;\n",
              "      fill: #D2E3FC;\n",
              "    }\n",
              "\n",
              "    [theme=dark] .colab-df-convert:hover {\n",
              "      background-color: #434B5C;\n",
              "      box-shadow: 0px 1px 3px 1px rgba(0, 0, 0, 0.15);\n",
              "      filter: drop-shadow(0px 1px 2px rgba(0, 0, 0, 0.3));\n",
              "      fill: #FFFFFF;\n",
              "    }\n",
              "  </style>\n",
              "\n",
              "      <script>\n",
              "        const buttonEl =\n",
              "          document.querySelector('#df-bcd07553-7edb-4fce-8d77-f1d3be0dd0a0 button.colab-df-convert');\n",
              "        buttonEl.style.display =\n",
              "          google.colab.kernel.accessAllowed ? 'block' : 'none';\n",
              "\n",
              "        async function convertToInteractive(key) {\n",
              "          const element = document.querySelector('#df-bcd07553-7edb-4fce-8d77-f1d3be0dd0a0');\n",
              "          const dataTable =\n",
              "            await google.colab.kernel.invokeFunction('convertToInteractive',\n",
              "                                                     [key], {});\n",
              "          if (!dataTable) return;\n",
              "\n",
              "          const docLinkHtml = 'Like what you see? Visit the ' +\n",
              "            '<a target=\"_blank\" href=https://colab.research.google.com/notebooks/data_table.ipynb>data table notebook</a>'\n",
              "            + ' to learn more about interactive tables.';\n",
              "          element.innerHTML = '';\n",
              "          dataTable['output_type'] = 'display_data';\n",
              "          await google.colab.output.renderOutput(dataTable, element);\n",
              "          const docLink = document.createElement('div');\n",
              "          docLink.innerHTML = docLinkHtml;\n",
              "          element.appendChild(docLink);\n",
              "        }\n",
              "      </script>\n",
              "    </div>\n",
              "  </div>\n",
              "  "
            ]
          },
          "metadata": {},
          "execution_count": 202
        }
      ],
      "source": [
        "data.head(11)"
      ]
    },
    {
      "cell_type": "code",
      "execution_count": 203,
      "id": "9042b512",
      "metadata": {
        "colab": {
          "base_uri": "https://localhost:8080/",
          "height": 206
        },
        "id": "9042b512",
        "outputId": "a33d19eb-9a31-4c1d-add1-44b92a4bf63a"
      },
      "outputs": [
        {
          "output_type": "execute_result",
          "data": {
            "text/plain": [
              "                                     Job_Description  Actual_label\n",
              "0  Architecte d'IA : Conçoit et met en place l'in...             1\n",
              "1  Chercheur en IA : Mène de recherches avancées ...             1\n",
              "2  Éthicien ( ne ) de l'IA : Évalue et analyse le...             1\n",
              "3  Vendeur/Vendeuse : Responsable de l'accueil et...             0\n",
              "4  Secrétaire : Chargé ( e ) de l'organisation et...             0"
            ],
            "text/html": [
              "\n",
              "  <div id=\"df-44e07e2e-81e9-4926-9e36-55e7236bf94c\">\n",
              "    <div class=\"colab-df-container\">\n",
              "      <div>\n",
              "<style scoped>\n",
              "    .dataframe tbody tr th:only-of-type {\n",
              "        vertical-align: middle;\n",
              "    }\n",
              "\n",
              "    .dataframe tbody tr th {\n",
              "        vertical-align: top;\n",
              "    }\n",
              "\n",
              "    .dataframe thead th {\n",
              "        text-align: right;\n",
              "    }\n",
              "</style>\n",
              "<table border=\"1\" class=\"dataframe\">\n",
              "  <thead>\n",
              "    <tr style=\"text-align: right;\">\n",
              "      <th></th>\n",
              "      <th>Job_Description</th>\n",
              "      <th>Actual_label</th>\n",
              "    </tr>\n",
              "  </thead>\n",
              "  <tbody>\n",
              "    <tr>\n",
              "      <th>0</th>\n",
              "      <td>Architecte d'IA : Conçoit et met en place l'in...</td>\n",
              "      <td>1</td>\n",
              "    </tr>\n",
              "    <tr>\n",
              "      <th>1</th>\n",
              "      <td>Chercheur en IA : Mène de recherches avancées ...</td>\n",
              "      <td>1</td>\n",
              "    </tr>\n",
              "    <tr>\n",
              "      <th>2</th>\n",
              "      <td>Éthicien ( ne ) de l'IA : Évalue et analyse le...</td>\n",
              "      <td>1</td>\n",
              "    </tr>\n",
              "    <tr>\n",
              "      <th>3</th>\n",
              "      <td>Vendeur/Vendeuse : Responsable de l'accueil et...</td>\n",
              "      <td>0</td>\n",
              "    </tr>\n",
              "    <tr>\n",
              "      <th>4</th>\n",
              "      <td>Secrétaire : Chargé ( e ) de l'organisation et...</td>\n",
              "      <td>0</td>\n",
              "    </tr>\n",
              "  </tbody>\n",
              "</table>\n",
              "</div>\n",
              "      <button class=\"colab-df-convert\" onclick=\"convertToInteractive('df-44e07e2e-81e9-4926-9e36-55e7236bf94c')\"\n",
              "              title=\"Convert this dataframe to an interactive table.\"\n",
              "              style=\"display:none;\">\n",
              "        \n",
              "  <svg xmlns=\"http://www.w3.org/2000/svg\" height=\"24px\"viewBox=\"0 0 24 24\"\n",
              "       width=\"24px\">\n",
              "    <path d=\"M0 0h24v24H0V0z\" fill=\"none\"/>\n",
              "    <path d=\"M18.56 5.44l.94 2.06.94-2.06 2.06-.94-2.06-.94-.94-2.06-.94 2.06-2.06.94zm-11 1L8.5 8.5l.94-2.06 2.06-.94-2.06-.94L8.5 2.5l-.94 2.06-2.06.94zm10 10l.94 2.06.94-2.06 2.06-.94-2.06-.94-.94-2.06-.94 2.06-2.06.94z\"/><path d=\"M17.41 7.96l-1.37-1.37c-.4-.4-.92-.59-1.43-.59-.52 0-1.04.2-1.43.59L10.3 9.45l-7.72 7.72c-.78.78-.78 2.05 0 2.83L4 21.41c.39.39.9.59 1.41.59.51 0 1.02-.2 1.41-.59l7.78-7.78 2.81-2.81c.8-.78.8-2.07 0-2.86zM5.41 20L4 18.59l7.72-7.72 1.47 1.35L5.41 20z\"/>\n",
              "  </svg>\n",
              "      </button>\n",
              "      \n",
              "  <style>\n",
              "    .colab-df-container {\n",
              "      display:flex;\n",
              "      flex-wrap:wrap;\n",
              "      gap: 12px;\n",
              "    }\n",
              "\n",
              "    .colab-df-convert {\n",
              "      background-color: #E8F0FE;\n",
              "      border: none;\n",
              "      border-radius: 50%;\n",
              "      cursor: pointer;\n",
              "      display: none;\n",
              "      fill: #1967D2;\n",
              "      height: 32px;\n",
              "      padding: 0 0 0 0;\n",
              "      width: 32px;\n",
              "    }\n",
              "\n",
              "    .colab-df-convert:hover {\n",
              "      background-color: #E2EBFA;\n",
              "      box-shadow: 0px 1px 2px rgba(60, 64, 67, 0.3), 0px 1px 3px 1px rgba(60, 64, 67, 0.15);\n",
              "      fill: #174EA6;\n",
              "    }\n",
              "\n",
              "    [theme=dark] .colab-df-convert {\n",
              "      background-color: #3B4455;\n",
              "      fill: #D2E3FC;\n",
              "    }\n",
              "\n",
              "    [theme=dark] .colab-df-convert:hover {\n",
              "      background-color: #434B5C;\n",
              "      box-shadow: 0px 1px 3px 1px rgba(0, 0, 0, 0.15);\n",
              "      filter: drop-shadow(0px 1px 2px rgba(0, 0, 0, 0.3));\n",
              "      fill: #FFFFFF;\n",
              "    }\n",
              "  </style>\n",
              "\n",
              "      <script>\n",
              "        const buttonEl =\n",
              "          document.querySelector('#df-44e07e2e-81e9-4926-9e36-55e7236bf94c button.colab-df-convert');\n",
              "        buttonEl.style.display =\n",
              "          google.colab.kernel.accessAllowed ? 'block' : 'none';\n",
              "\n",
              "        async function convertToInteractive(key) {\n",
              "          const element = document.querySelector('#df-44e07e2e-81e9-4926-9e36-55e7236bf94c');\n",
              "          const dataTable =\n",
              "            await google.colab.kernel.invokeFunction('convertToInteractive',\n",
              "                                                     [key], {});\n",
              "          if (!dataTable) return;\n",
              "\n",
              "          const docLinkHtml = 'Like what you see? Visit the ' +\n",
              "            '<a target=\"_blank\" href=https://colab.research.google.com/notebooks/data_table.ipynb>data table notebook</a>'\n",
              "            + ' to learn more about interactive tables.';\n",
              "          element.innerHTML = '';\n",
              "          dataTable['output_type'] = 'display_data';\n",
              "          await google.colab.output.renderOutput(dataTable, element);\n",
              "          const docLink = document.createElement('div');\n",
              "          docLink.innerHTML = docLinkHtml;\n",
              "          element.appendChild(docLink);\n",
              "        }\n",
              "      </script>\n",
              "    </div>\n",
              "  </div>\n",
              "  "
            ]
          },
          "metadata": {},
          "execution_count": 203
        }
      ],
      "source": [
        "data['Job_Description'] = data['Job_Description'].apply(lemmatize_sentence)\n",
        "data.head()"
      ]
    },
    {
      "cell_type": "code",
      "execution_count": 204,
      "id": "0af36f2c",
      "metadata": {
        "id": "0af36f2c"
      },
      "outputs": [],
      "source": [
        "X_check=data.Job_Description"
      ]
    },
    {
      "cell_type": "code",
      "execution_count": 205,
      "id": "328fc176",
      "metadata": {
        "id": "328fc176"
      },
      "outputs": [],
      "source": [
        "#Creating bag of Words\n",
        "cv = CountVectorizer(stop_words=None)\n",
        "X_check_vectors=cv.fit_transform(X_check)"
      ]
    },
    {
      "cell_type": "code",
      "execution_count": 206,
      "id": "4b14078d",
      "metadata": {
        "colab": {
          "base_uri": "https://localhost:8080/"
        },
        "id": "4b14078d",
        "outputId": "664b20b7-8e73-4072-b274-7a5b3b5e5111"
      },
      "outputs": [
        {
          "output_type": "execute_result",
          "data": {
            "text/plain": [
              "(9, 120)"
            ]
          },
          "metadata": {},
          "execution_count": 206
        }
      ],
      "source": [
        "X_check_vectors.shape"
      ]
    },
    {
      "cell_type": "code",
      "execution_count": 207,
      "id": "cf8d17b8",
      "metadata": {
        "id": "cf8d17b8"
      },
      "outputs": [],
      "source": [
        "# Building and fitting my_forest\n",
        "model = RandomForestClassifier(max_depth=None, min_samples_leaf=8, min_samples_split=2, n_estimators=20, random_state=1)\n",
        "my_forest = model.fit(X_train, Y_train)\n",
        "predicts=model.predict(X_check_vectors)\n"
      ]
    },
    {
      "cell_type": "code",
      "execution_count": 208,
      "id": "6fb389ad",
      "metadata": {
        "id": "6fb389ad"
      },
      "outputs": [],
      "source": [
        "data['Predicted_label']=predicts.astype('int')"
      ]
    },
    {
      "cell_type": "code",
      "execution_count": 209,
      "id": "c9510462",
      "metadata": {
        "colab": {
          "base_uri": "https://localhost:8080/",
          "height": 331
        },
        "id": "c9510462",
        "outputId": "487335d6-873b-44c4-9b1e-4fba0ad8a9f6"
      },
      "outputs": [
        {
          "output_type": "execute_result",
          "data": {
            "text/plain": [
              "                                     Job_Description  Actual_label  \\\n",
              "0  Architecte d'IA : Conçoit et met en place l'in...             1   \n",
              "1  Chercheur en IA : Mène de recherches avancées ...             1   \n",
              "2  Éthicien ( ne ) de l'IA : Évalue et analyse le...             1   \n",
              "3  Vendeur/Vendeuse : Responsable de l'accueil et...             0   \n",
              "4  Secrétaire : Chargé ( e ) de l'organisation et...             0   \n",
              "5  Ingénieur ( e ) en informatique : Responsable ...             0   \n",
              "6  Serveur/Serveuse : Responsable du service et d...             0   \n",
              "7  Mécanicien ( ne ) automobile : Spécialiste de ...             0   \n",
              "8  Enseignant ( e ) : Chargé ( e ) d'instruire et...             0   \n",
              "\n",
              "   Predicted_label  \n",
              "0                1  \n",
              "1                1  \n",
              "2                1  \n",
              "3                0  \n",
              "4                0  \n",
              "5                0  \n",
              "6                0  \n",
              "7                0  \n",
              "8                0  "
            ],
            "text/html": [
              "\n",
              "  <div id=\"df-de132924-f78f-4c2a-a67f-79f26b28b58c\">\n",
              "    <div class=\"colab-df-container\">\n",
              "      <div>\n",
              "<style scoped>\n",
              "    .dataframe tbody tr th:only-of-type {\n",
              "        vertical-align: middle;\n",
              "    }\n",
              "\n",
              "    .dataframe tbody tr th {\n",
              "        vertical-align: top;\n",
              "    }\n",
              "\n",
              "    .dataframe thead th {\n",
              "        text-align: right;\n",
              "    }\n",
              "</style>\n",
              "<table border=\"1\" class=\"dataframe\">\n",
              "  <thead>\n",
              "    <tr style=\"text-align: right;\">\n",
              "      <th></th>\n",
              "      <th>Job_Description</th>\n",
              "      <th>Actual_label</th>\n",
              "      <th>Predicted_label</th>\n",
              "    </tr>\n",
              "  </thead>\n",
              "  <tbody>\n",
              "    <tr>\n",
              "      <th>0</th>\n",
              "      <td>Architecte d'IA : Conçoit et met en place l'in...</td>\n",
              "      <td>1</td>\n",
              "      <td>1</td>\n",
              "    </tr>\n",
              "    <tr>\n",
              "      <th>1</th>\n",
              "      <td>Chercheur en IA : Mène de recherches avancées ...</td>\n",
              "      <td>1</td>\n",
              "      <td>1</td>\n",
              "    </tr>\n",
              "    <tr>\n",
              "      <th>2</th>\n",
              "      <td>Éthicien ( ne ) de l'IA : Évalue et analyse le...</td>\n",
              "      <td>1</td>\n",
              "      <td>1</td>\n",
              "    </tr>\n",
              "    <tr>\n",
              "      <th>3</th>\n",
              "      <td>Vendeur/Vendeuse : Responsable de l'accueil et...</td>\n",
              "      <td>0</td>\n",
              "      <td>0</td>\n",
              "    </tr>\n",
              "    <tr>\n",
              "      <th>4</th>\n",
              "      <td>Secrétaire : Chargé ( e ) de l'organisation et...</td>\n",
              "      <td>0</td>\n",
              "      <td>0</td>\n",
              "    </tr>\n",
              "    <tr>\n",
              "      <th>5</th>\n",
              "      <td>Ingénieur ( e ) en informatique : Responsable ...</td>\n",
              "      <td>0</td>\n",
              "      <td>0</td>\n",
              "    </tr>\n",
              "    <tr>\n",
              "      <th>6</th>\n",
              "      <td>Serveur/Serveuse : Responsable du service et d...</td>\n",
              "      <td>0</td>\n",
              "      <td>0</td>\n",
              "    </tr>\n",
              "    <tr>\n",
              "      <th>7</th>\n",
              "      <td>Mécanicien ( ne ) automobile : Spécialiste de ...</td>\n",
              "      <td>0</td>\n",
              "      <td>0</td>\n",
              "    </tr>\n",
              "    <tr>\n",
              "      <th>8</th>\n",
              "      <td>Enseignant ( e ) : Chargé ( e ) d'instruire et...</td>\n",
              "      <td>0</td>\n",
              "      <td>0</td>\n",
              "    </tr>\n",
              "  </tbody>\n",
              "</table>\n",
              "</div>\n",
              "      <button class=\"colab-df-convert\" onclick=\"convertToInteractive('df-de132924-f78f-4c2a-a67f-79f26b28b58c')\"\n",
              "              title=\"Convert this dataframe to an interactive table.\"\n",
              "              style=\"display:none;\">\n",
              "        \n",
              "  <svg xmlns=\"http://www.w3.org/2000/svg\" height=\"24px\"viewBox=\"0 0 24 24\"\n",
              "       width=\"24px\">\n",
              "    <path d=\"M0 0h24v24H0V0z\" fill=\"none\"/>\n",
              "    <path d=\"M18.56 5.44l.94 2.06.94-2.06 2.06-.94-2.06-.94-.94-2.06-.94 2.06-2.06.94zm-11 1L8.5 8.5l.94-2.06 2.06-.94-2.06-.94L8.5 2.5l-.94 2.06-2.06.94zm10 10l.94 2.06.94-2.06 2.06-.94-2.06-.94-.94-2.06-.94 2.06-2.06.94z\"/><path d=\"M17.41 7.96l-1.37-1.37c-.4-.4-.92-.59-1.43-.59-.52 0-1.04.2-1.43.59L10.3 9.45l-7.72 7.72c-.78.78-.78 2.05 0 2.83L4 21.41c.39.39.9.59 1.41.59.51 0 1.02-.2 1.41-.59l7.78-7.78 2.81-2.81c.8-.78.8-2.07 0-2.86zM5.41 20L4 18.59l7.72-7.72 1.47 1.35L5.41 20z\"/>\n",
              "  </svg>\n",
              "      </button>\n",
              "      \n",
              "  <style>\n",
              "    .colab-df-container {\n",
              "      display:flex;\n",
              "      flex-wrap:wrap;\n",
              "      gap: 12px;\n",
              "    }\n",
              "\n",
              "    .colab-df-convert {\n",
              "      background-color: #E8F0FE;\n",
              "      border: none;\n",
              "      border-radius: 50%;\n",
              "      cursor: pointer;\n",
              "      display: none;\n",
              "      fill: #1967D2;\n",
              "      height: 32px;\n",
              "      padding: 0 0 0 0;\n",
              "      width: 32px;\n",
              "    }\n",
              "\n",
              "    .colab-df-convert:hover {\n",
              "      background-color: #E2EBFA;\n",
              "      box-shadow: 0px 1px 2px rgba(60, 64, 67, 0.3), 0px 1px 3px 1px rgba(60, 64, 67, 0.15);\n",
              "      fill: #174EA6;\n",
              "    }\n",
              "\n",
              "    [theme=dark] .colab-df-convert {\n",
              "      background-color: #3B4455;\n",
              "      fill: #D2E3FC;\n",
              "    }\n",
              "\n",
              "    [theme=dark] .colab-df-convert:hover {\n",
              "      background-color: #434B5C;\n",
              "      box-shadow: 0px 1px 3px 1px rgba(0, 0, 0, 0.15);\n",
              "      filter: drop-shadow(0px 1px 2px rgba(0, 0, 0, 0.3));\n",
              "      fill: #FFFFFF;\n",
              "    }\n",
              "  </style>\n",
              "\n",
              "      <script>\n",
              "        const buttonEl =\n",
              "          document.querySelector('#df-de132924-f78f-4c2a-a67f-79f26b28b58c button.colab-df-convert');\n",
              "        buttonEl.style.display =\n",
              "          google.colab.kernel.accessAllowed ? 'block' : 'none';\n",
              "\n",
              "        async function convertToInteractive(key) {\n",
              "          const element = document.querySelector('#df-de132924-f78f-4c2a-a67f-79f26b28b58c');\n",
              "          const dataTable =\n",
              "            await google.colab.kernel.invokeFunction('convertToInteractive',\n",
              "                                                     [key], {});\n",
              "          if (!dataTable) return;\n",
              "\n",
              "          const docLinkHtml = 'Like what you see? Visit the ' +\n",
              "            '<a target=\"_blank\" href=https://colab.research.google.com/notebooks/data_table.ipynb>data table notebook</a>'\n",
              "            + ' to learn more about interactive tables.';\n",
              "          element.innerHTML = '';\n",
              "          dataTable['output_type'] = 'display_data';\n",
              "          await google.colab.output.renderOutput(dataTable, element);\n",
              "          const docLink = document.createElement('div');\n",
              "          docLink.innerHTML = docLinkHtml;\n",
              "          element.appendChild(docLink);\n",
              "        }\n",
              "      </script>\n",
              "    </div>\n",
              "  </div>\n",
              "  "
            ]
          },
          "metadata": {},
          "execution_count": 209
        }
      ],
      "source": [
        "data"
      ]
    },
    {
      "cell_type": "code",
      "execution_count": 209,
      "id": "c4dfa873",
      "metadata": {
        "id": "c4dfa873"
      },
      "outputs": [],
      "source": []
    }
  ],
  "metadata": {
    "colab": {
      "provenance": []
    },
    "kernelspec": {
      "display_name": "Python 3 (ipykernel)",
      "language": "python",
      "name": "python3"
    },
    "language_info": {
      "codemirror_mode": {
        "name": "ipython",
        "version": 3
      },
      "file_extension": ".py",
      "mimetype": "text/x-python",
      "name": "python",
      "nbconvert_exporter": "python",
      "pygments_lexer": "ipython3",
      "version": "3.9.6"
    }
  },
  "nbformat": 4,
  "nbformat_minor": 5
}